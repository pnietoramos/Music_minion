{
 "cells": [
  {
   "cell_type": "markdown",
   "metadata": {},
   "source": [
    "### Hierarchical classification"
   ]
  },
  {
   "cell_type": "code",
   "execution_count": 1,
   "metadata": {
    "ExecuteTime": {
     "end_time": "2018-09-18T21:41:14.504662Z",
     "start_time": "2018-09-18T21:41:09.374933Z"
    }
   },
   "outputs": [
    {
     "name": "stderr",
     "output_type": "stream",
     "text": [
      "/home/pnietoramos/anaconda3/lib/python3.6/site-packages/sklearn/cross_validation.py:41: DeprecationWarning: This module was deprecated in version 0.18 in favor of the model_selection module into which all the refactored classes and functions are moved. Also note that the interface of the new CV iterators are different from that of this module. This module will be removed in 0.20.\n",
      "  \"This module will be removed in 0.20.\", DeprecationWarning)\n"
     ]
    }
   ],
   "source": [
    "import pandas as pd\n",
    "import numpy as np\n",
    "import ast\n",
    "\n",
    "from sklearn.cross_validation import train_test_split\n",
    "from sklearn.preprocessing import StandardScaler\n",
    "from sklearn.model_selection import GridSearchCV\n",
    "from sklearn.metrics import accuracy_score\n",
    "from sklearn.decomposition import TruncatedSVD\n",
    "from sklearn.pipeline import make_pipeline\n",
    "from sklearn.linear_model import LogisticRegression\n",
    "\n",
    "from sklearn.metrics import classification_report\n",
    "\n",
    "from sklearn_hierarchical_classification.classifier import HierarchicalClassifier\n",
    "from sklearn_hierarchical_classification.constants import ROOT\n",
    "\n",
    "from util_koyak import col_selector_hiera, grid_estimator\n",
    "from tqdm import tqdm_notebook\n",
    "from imblearn.over_sampling import SMOTE\n",
    "\n",
    "from features_adapted import compute_features\n",
    "\n",
    "import warnings; warnings.simplefilter('ignore')"
   ]
  },
  {
   "cell_type": "markdown",
   "metadata": {},
   "source": [
    "#### Importing features and selecting them."
   ]
  },
  {
   "cell_type": "code",
   "execution_count": 3,
   "metadata": {
    "ExecuteTime": {
     "end_time": "2018-09-18T21:41:19.652921Z",
     "start_time": "2018-09-18T21:41:14.519621Z"
    },
    "scrolled": true
   },
   "outputs": [],
   "source": [
    "df_genre = pd.read_csv(\"features_genre_HIERA_min_100.csv\", index_col=0)\n",
    "df_mfcc_cont = col_selector_hiera(['mfcc','contrast'], df_genre)"
   ]
  },
  {
   "cell_type": "code",
   "execution_count": 4,
   "metadata": {
    "ExecuteTime": {
     "end_time": "2018-09-18T21:41:19.803371Z",
     "start_time": "2018-09-18T21:41:19.770334Z"
    }
   },
   "outputs": [],
   "source": [
    "X = df_mfcc_cont.drop(\"genre_selected\",axis=1)\n",
    "y = df_mfcc_cont[\"genre_selected\"]"
   ]
  },
  {
   "cell_type": "code",
   "execution_count": 5,
   "metadata": {
    "ExecuteTime": {
     "end_time": "2018-09-18T21:41:19.960507Z",
     "start_time": "2018-09-18T21:41:19.904979Z"
    }
   },
   "outputs": [],
   "source": [
    "X_train, X_test, y_train, y_test = train_test_split(X, y, stratify=y, test_size=.10, random_state=4444)"
   ]
  },
  {
   "cell_type": "code",
   "execution_count": 6,
   "metadata": {
    "ExecuteTime": {
     "end_time": "2018-09-18T21:41:20.327609Z",
     "start_time": "2018-09-18T21:41:20.111116Z"
    }
   },
   "outputs": [],
   "source": [
    "sca = StandardScaler()\n",
    "X_train_sca = sca.fit_transform(X_train)\n",
    "X_test_sca = sca.transform(X_test);"
   ]
  },
  {
   "cell_type": "markdown",
   "metadata": {},
   "source": [
    "Creating the class hierarchy"
   ]
  },
  {
   "cell_type": "code",
   "execution_count": 7,
   "metadata": {
    "ExecuteTime": {
     "end_time": "2018-09-18T21:41:20.483324Z",
     "start_time": "2018-09-18T21:41:20.458785Z"
    },
    "scrolled": true
   },
   "outputs": [],
   "source": [
    "df_genres = pd.read_csv(\"genres.csv\")"
   ]
  },
  {
   "cell_type": "code",
   "execution_count": 8,
   "metadata": {
    "ExecuteTime": {
     "end_time": "2018-09-18T21:41:20.654528Z",
     "start_time": "2018-09-18T21:41:20.638123Z"
    }
   },
   "outputs": [],
   "source": [
    "class_hierarchy = {}\n",
    "for index in range(df_genres[\"genre_id\"].shape[0]):\n",
    "    try:\n",
    "        class_hierarchy[df_genres[\"parent\"].iloc[index]].append(df_genres[\"genre_id\"].iloc[index])\n",
    "    except:    \n",
    "        class_hierarchy[df_genres[\"parent\"].iloc[index]] = [df_genres[\"genre_id\"].iloc[index]]\n",
    "                     \n",
    "class_hierarchy[ROOT]=class_hierarchy[0]\n",
    "del class_hierarchy[0]"
   ]
  },
  {
   "cell_type": "code",
   "execution_count": 9,
   "metadata": {
    "ExecuteTime": {
     "end_time": "2018-09-18T21:41:20.837384Z",
     "start_time": "2018-09-18T21:41:20.825419Z"
    }
   },
   "outputs": [
    {
     "data": {
      "text/plain": [
       "{-1: [2, 3, 4, 5, 8, 9, 10, 12, 13, 14, 15, 17, 20, 21, 38, 1235],\n",
       " 2: [46, 77, 79, 86, 92, 102, 117, 118, 130, 171, 172, 176, 177, 232, 504],\n",
       " 3: [567],\n",
       " 4: [37, 74, 97, 178, 179, 906],\n",
       " 5: [187, 322, 441, 442, 443, 444, 659],\n",
       " 6: [16, 360],\n",
       " 9: [63, 137, 169, 651],\n",
       " 10: [76, 362],\n",
       " 12: [25, 26, 27, 31, 36, 45, 58, 66, 70, 85, 88, 98, 314, 359, 440],\n",
       " 13: [170, 311, 810],\n",
       " 14: [11, 19],\n",
       " 15: [42, 181, 182, 183, 184, 185, 236, 286, 296, 297, 337, 468, 495, 695],\n",
       " 16: [763],\n",
       " 17: [33, 49, 94, 103, 180],\n",
       " 18: [538],\n",
       " 19: [377],\n",
       " 20: [7, 65, 138, 188, 374, 378, 428, 465],\n",
       " 21: [83, 100, 539, 542, 580, 693, 811],\n",
       " 25: [64, 71, 89, 109, 111],\n",
       " 26: [113],\n",
       " 31: [101, 167, 439],\n",
       " 38: [1, 6, 22, 30, 32, 41, 47, 125, 186, 224, 247, 250, 456, 514],\n",
       " 45: [53],\n",
       " 46: [502, 808, 1060],\n",
       " 53: [90],\n",
       " 65: [43, 166, 189],\n",
       " 79: [602],\n",
       " 85: [404],\n",
       " 86: [173, 174, 175],\n",
       " 92: [81, 214],\n",
       " 102: [1032],\n",
       " 109: [361],\n",
       " 130: [524, 619, 741, 1156],\n",
       " 181: [401],\n",
       " 182: [400],\n",
       " 297: [240],\n",
       " 468: [491],\n",
       " 651: [493],\n",
       " 763: [1193],\n",
       " 1235: [18, 107, 267]}"
      ]
     },
     "execution_count": 9,
     "metadata": {},
     "output_type": "execute_result"
    }
   ],
   "source": [
    "class_hierarchy"
   ]
  },
  {
   "cell_type": "markdown",
   "metadata": {},
   "source": [
    "### Check best classifier "
   ]
  },
  {
   "cell_type": "code",
   "execution_count": null,
   "metadata": {
    "ExecuteTime": {
     "end_time": "2018-09-17T01:00:27.139915Z",
     "start_time": "2018-09-17T00:58:47.897014Z"
    }
   },
   "outputs": [],
   "source": [
    "base_estimator = make_pipeline(LogisticRegression(C=0.631))\n",
    "clf = HierarchicalClassifier(\n",
    "                    base_estimator = base_estimator,\n",
    "                    class_hierarchy=class_hierarchy,\n",
    "                    prediction_depth=\"nmlnp\",\n",
    "                    stopping_criteria=0.5,\n",
    "                    )\n",
    "clf.fit(X_train_sca, y_train)\n",
    "y_pred = clf.predict(X_test_sca)\n",
    "y_pred_train = clf.predict(X_train_sca)    "
   ]
  },
  {
   "cell_type": "code",
   "execution_count": 26,
   "metadata": {
    "ExecuteTime": {
     "end_time": "2018-09-17T01:00:44.138091Z",
     "start_time": "2018-09-17T01:00:44.131054Z"
    }
   },
   "outputs": [
    {
     "data": {
      "text/plain": [
       "(0.43316015865035473, 0.4311211664152841)"
      ]
     },
     "execution_count": 26,
     "metadata": {},
     "output_type": "execute_result"
    }
   ],
   "source": [
    "(accuracy_score(y_train, y_pred_train), accuracy_score(y_test, y_pred))"
   ]
  },
  {
   "cell_type": "code",
   "execution_count": 37,
   "metadata": {
    "ExecuteTime": {
     "end_time": "2018-09-17T01:08:52.072238Z",
     "start_time": "2018-09-17T01:08:52.068466Z"
    }
   },
   "outputs": [],
   "source": [
    "df_pred = pd.DataFrame(y_pred_train)"
   ]
  },
  {
   "cell_type": "code",
   "execution_count": 41,
   "metadata": {
    "ExecuteTime": {
     "end_time": "2018-09-17T01:37:17.525148Z",
     "start_time": "2018-09-17T01:37:17.520014Z"
    }
   },
   "outputs": [
    {
     "data": {
      "text/plain": [
       "1     33767\n",
       "8       479\n",
       "66      421\n",
       "12      205\n",
       "Name: 0, dtype: int64"
      ]
     },
     "execution_count": 41,
     "metadata": {},
     "output_type": "execute_result"
    }
   ],
   "source": [
    "df_pred[0].value_counts().head(4)"
   ]
  },
  {
   "cell_type": "markdown",
   "metadata": {},
   "source": [
    "### Now with SMOTE"
   ]
  },
  {
   "cell_type": "code",
   "execution_count": 9,
   "metadata": {
    "ExecuteTime": {
     "end_time": "2018-09-17T02:07:29.464848Z",
     "start_time": "2018-09-17T02:07:06.781897Z"
    }
   },
   "outputs": [],
   "source": [
    "X_smoted, y_smoted = SMOTE(random_state=42).fit_sample(X_train_sca,y_train)"
   ]
  },
  {
   "cell_type": "code",
   "execution_count": 10,
   "metadata": {
    "ExecuteTime": {
     "end_time": "2018-09-17T02:46:04.673237Z",
     "start_time": "2018-09-17T02:10:01.390976Z"
    }
   },
   "outputs": [
    {
     "name": "stderr",
     "output_type": "stream",
     "text": [
      "_train_local_classifier() - not enough training data available to train, classification in branch will terminate at node 46\n",
      "_train_local_classifier() - not enough training data available to train, classification in branch will terminate at node 79\n",
      "_train_local_classifier() - not enough training data available to train, classification in branch will terminate at node 86\n",
      "_train_local_classifier() - not enough training data available to train, classification in branch will terminate at node 92\n",
      "_train_local_classifier() - not enough training data available to train, classification in branch will terminate at node 102\n",
      "_train_local_classifier() - not enough training data available to train, classification in branch will terminate at node 130\n",
      "_train_local_classifier() - not enough training data available to train, classification in branch will terminate at node 3\n",
      "_train_local_classifier() - not enough training data available to train, classification in branch will terminate at node 4\n",
      "_train_local_classifier() - not enough training data available to train, classification in branch will terminate at node 9\n",
      "_train_local_classifier() - not enough training data available to train, classification in branch will terminate at node 651\n",
      "_train_local_classifier() - not enough training data available to train, classification in branch will terminate at node 109\n",
      "_train_local_classifier() - not enough training data available to train, classification in branch will terminate at node 26\n",
      "_train_local_classifier() - not enough training data available to train, classification in branch will terminate at node 45\n",
      "_train_local_classifier() - not enough training data available to train, classification in branch will terminate at node 53\n",
      "_train_local_classifier() - not enough training data available to train, classification in branch will terminate at node 85\n",
      "_train_local_classifier() - not enough training data available to train, classification in branch will terminate at node 13\n",
      "_train_local_classifier() - not enough training data available to train, classification in branch will terminate at node 14\n",
      "_train_local_classifier() - not enough training data available to train, classification in branch will terminate at node 19\n",
      "_train_local_classifier() - not enough training data available to train, classification in branch will terminate at node 181\n",
      "_train_local_classifier() - not enough training data available to train, classification in branch will terminate at node 182\n",
      "_train_local_classifier() - not enough training data available to train, classification in branch will terminate at node 468\n",
      "_train_local_classifier() - not enough training data available to train, classification in branch will terminate at node 65\n",
      "_train_local_classifier() - not enough training data available to train, classification in branch will terminate at node 6\n",
      "_train_local_classifier() - not enough training data available to train, classification in branch will terminate at node 16\n",
      "_train_local_classifier() - not enough training data available to train, classification in branch will terminate at node 763\n"
     ]
    }
   ],
   "source": [
    "base_estimator = make_pipeline(LogisticRegression(C=0.631))\n",
    "clf = HierarchicalClassifier(\n",
    "                    base_estimator = base_estimator,\n",
    "                    class_hierarchy=class_hierarchy,\n",
    "                    prediction_depth=\"nmlnp\",\n",
    "                    stopping_criteria=0.5,\n",
    "                    )\n",
    "clf.fit(X_smoted, y_smoted)\n",
    "y_pred = clf.predict(X_test_sca)\n",
    "y_pred_train = clf.predict(X_smoted) "
   ]
  },
  {
   "cell_type": "code",
   "execution_count": 12,
   "metadata": {
    "ExecuteTime": {
     "end_time": "2018-09-17T03:10:41.141401Z",
     "start_time": "2018-09-17T03:10:41.088748Z"
    }
   },
   "outputs": [
    {
     "data": {
      "text/plain": [
       "(0.3572278714256466, 0.09074912016088486)"
      ]
     },
     "execution_count": 12,
     "metadata": {},
     "output_type": "execute_result"
    }
   ],
   "source": [
    "(accuracy_score(y_smoted, y_pred_train), accuracy_score(y_test, y_pred))"
   ]
  },
  {
   "cell_type": "code",
   "execution_count": null,
   "metadata": {},
   "outputs": [],
   "source": []
  }
 ],
 "metadata": {
  "kernelspec": {
   "display_name": "Python 3",
   "language": "python",
   "name": "python3"
  },
  "language_info": {
   "codemirror_mode": {
    "name": "ipython",
    "version": 3
   },
   "file_extension": ".py",
   "mimetype": "text/x-python",
   "name": "python",
   "nbconvert_exporter": "python",
   "pygments_lexer": "ipython3",
   "version": "3.6.4"
  },
  "varInspector": {
   "cols": {
    "lenName": 16,
    "lenType": 16,
    "lenVar": 40
   },
   "kernels_config": {
    "python": {
     "delete_cmd_postfix": "",
     "delete_cmd_prefix": "del ",
     "library": "var_list.py",
     "varRefreshCmd": "print(var_dic_list())"
    },
    "r": {
     "delete_cmd_postfix": ") ",
     "delete_cmd_prefix": "rm(",
     "library": "var_list.r",
     "varRefreshCmd": "cat(var_dic_list()) "
    }
   },
   "types_to_exclude": [
    "module",
    "function",
    "builtin_function_or_method",
    "instance",
    "_Feature"
   ],
   "window_display": false
  }
 },
 "nbformat": 4,
 "nbformat_minor": 2
}
