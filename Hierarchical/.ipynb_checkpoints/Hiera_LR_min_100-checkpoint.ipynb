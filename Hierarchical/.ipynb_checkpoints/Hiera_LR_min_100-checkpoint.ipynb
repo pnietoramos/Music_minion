{
 "cells": [
  {
   "cell_type": "markdown",
   "metadata": {},
   "source": [
    "### Hierarchical classification"
   ]
  },
  {
   "cell_type": "code",
   "execution_count": 10,
   "metadata": {
    "ExecuteTime": {
     "end_time": "2018-09-16T19:48:25.995852Z",
     "start_time": "2018-09-16T19:48:25.972763Z"
    }
   },
   "outputs": [],
   "source": [
    "import pandas as pd\n",
    "import numpy as np\n",
    "import ast\n",
    "\n",
    "from sklearn.cross_validation import train_test_split\n",
    "from sklearn.preprocessing import StandardScaler\n",
    "from sklearn.model_selection import GridSearchCV\n",
    "from sklearn.metrics import accuracy_score\n",
    "from sklearn.decomposition import TruncatedSVD\n",
    "from sklearn.pipeline import make_pipeline\n",
    "from sklearn.linear_model import LogisticRegression\n",
    "\n",
    "from sklearn.metrics import classification_report\n",
    "\n",
    "from sklearn_hierarchical_classification.classifier import HierarchicalClassifier\n",
    "from sklearn_hierarchical_classification.constants import ROOT\n",
    "\n",
    "from util_koyak import col_selector_hiera, grid_estimator\n",
    "from tqdm import tqdm_notebook\n",
    "\n",
    "import warnings; warnings.simplefilter('ignore')"
   ]
  },
  {
   "cell_type": "code",
   "execution_count": 20,
   "metadata": {
    "ExecuteTime": {
     "end_time": "2018-09-16T19:57:10.466838Z",
     "start_time": "2018-09-16T19:57:10.294666Z"
    }
   },
   "outputs": [],
   "source": [
    "from sklearn.metrics import confusion_matrix\n",
    "import matplotlib.pyplot as plt\n",
    "import seaborn as sns\n",
    "plt.style.use(\"seaborn\")\n",
    "%matplotlib inline"
   ]
  },
  {
   "cell_type": "code",
   "execution_count": 21,
   "metadata": {
    "ExecuteTime": {
     "end_time": "2018-09-16T19:57:10.604428Z",
     "start_time": "2018-09-16T19:57:10.599967Z"
    }
   },
   "outputs": [],
   "source": [
    "def conf_plot(y, y_pred):\n",
    "    plt.figure(dpi=180)\n",
    "    sns.heatmap(confusion_matrix(y, y_pred), cmap=plt.cm.Blues, annot=True, square=True, fmt='d', annot_kws={\"size\": 15});\n",
    "    plt.xlabel('prediction')\n",
    "    plt.ylabel('actual');"
   ]
  },
  {
   "cell_type": "markdown",
   "metadata": {},
   "source": [
    "#### Importing features and selecting them."
   ]
  },
  {
   "cell_type": "code",
   "execution_count": 11,
   "metadata": {
    "ExecuteTime": {
     "end_time": "2018-09-16T19:48:30.777548Z",
     "start_time": "2018-09-16T19:48:26.388136Z"
    },
    "scrolled": true
   },
   "outputs": [],
   "source": [
    "df_genre = pd.read_csv(\"features_genre_HIERA_min_100.csv\", index_col=0)\n",
    "df_mfcc_cont = col_selector_hiera(['mfcc','contrast'], df_genre)"
   ]
  },
  {
   "cell_type": "code",
   "execution_count": 12,
   "metadata": {
    "ExecuteTime": {
     "end_time": "2018-09-16T19:48:30.954473Z",
     "start_time": "2018-09-16T19:48:30.936194Z"
    }
   },
   "outputs": [],
   "source": [
    "X = df_mfcc_cont.drop(\"genre_selected\",axis=1)\n",
    "y = df_mfcc_cont[\"genre_selected\"]"
   ]
  },
  {
   "cell_type": "code",
   "execution_count": 13,
   "metadata": {
    "ExecuteTime": {
     "end_time": "2018-09-16T19:48:31.177727Z",
     "start_time": "2018-09-16T19:48:31.105614Z"
    }
   },
   "outputs": [],
   "source": [
    "X_train, X_test, y_train, y_test = train_test_split(X, y, stratify=y, test_size=.10, random_state=4444)"
   ]
  },
  {
   "cell_type": "code",
   "execution_count": 14,
   "metadata": {
    "ExecuteTime": {
     "end_time": "2018-09-16T19:48:31.484182Z",
     "start_time": "2018-09-16T19:48:31.312718Z"
    }
   },
   "outputs": [],
   "source": [
    "sca = StandardScaler()\n",
    "X_train_sca = sca.fit_transform(X_train)\n",
    "X_test_sca = sca.transform(X_test);"
   ]
  },
  {
   "cell_type": "markdown",
   "metadata": {},
   "source": [
    "Creating the class hierarchy"
   ]
  },
  {
   "cell_type": "code",
   "execution_count": 15,
   "metadata": {
    "ExecuteTime": {
     "end_time": "2018-09-16T19:48:31.613038Z",
     "start_time": "2018-09-16T19:48:31.608874Z"
    },
    "scrolled": true
   },
   "outputs": [],
   "source": [
    "df_genres = pd.read_csv(\"genres.csv\")"
   ]
  },
  {
   "cell_type": "code",
   "execution_count": 16,
   "metadata": {
    "ExecuteTime": {
     "end_time": "2018-09-16T19:48:31.760845Z",
     "start_time": "2018-09-16T19:48:31.749303Z"
    }
   },
   "outputs": [],
   "source": [
    "class_hierarchy = {}\n",
    "for index in range(df_genres[\"genre_id\"].shape[0]):\n",
    "    try:\n",
    "        class_hierarchy[df_genres[\"parent\"].iloc[index]].append(df_genres[\"genre_id\"].iloc[index])\n",
    "    except:    \n",
    "        class_hierarchy[df_genres[\"parent\"].iloc[index]] = [df_genres[\"genre_id\"].iloc[index]]\n",
    "                     \n",
    "class_hierarchy[ROOT]=class_hierarchy[0]\n",
    "del class_hierarchy[0]"
   ]
  },
  {
   "cell_type": "markdown",
   "metadata": {},
   "source": [
    "### Hierarchical classification with RandomForest"
   ]
  },
  {
   "cell_type": "code",
   "execution_count": 17,
   "metadata": {
    "ExecuteTime": {
     "end_time": "2018-09-16T19:48:31.901969Z",
     "start_time": "2018-09-16T19:48:31.894765Z"
    }
   },
   "outputs": [],
   "source": [
    "def Hierarchical_fit(estimator, class_hierarchy, X_train_sca, y_train, X_test_sca, y_test, stopping_criteria =0.5):\n",
    "    base_estimator = make_pipeline(estimator)\n",
    "    clf = HierarchicalClassifier(\n",
    "                        base_estimator = base_estimator,\n",
    "                        class_hierarchy=class_hierarchy,\n",
    "                        prediction_depth=\"nmlnp\",\n",
    "                        stopping_criteria=stopping_criteria,\n",
    "#                        progress_wrapper=tqdm_notebook\n",
    "                        )\n",
    "    clf.fit(X_train_sca, y_train)\n",
    "    y_pred = clf.predict(X_test_sca)\n",
    "    y_pred_train = clf.predict(X_train_sca)    \n",
    "    return accuracy_score(y_train, y_pred_train), accuracy_score(y_test, y_pred)"
   ]
  },
  {
   "cell_type": "code",
   "execution_count": 18,
   "metadata": {
    "ExecuteTime": {
     "end_time": "2018-09-16T19:54:17.841955Z",
     "start_time": "2018-09-16T19:48:48.011862Z"
    }
   },
   "outputs": [
    {
     "name": "stderr",
     "output_type": "stream",
     "text": [
      "_train_local_classifier() - not enough training data available to train, classification in branch will terminate at node 46\n",
      "_train_local_classifier() - not enough training data available to train, classification in branch will terminate at node 79\n",
      "_train_local_classifier() - not enough training data available to train, classification in branch will terminate at node 86\n",
      "_train_local_classifier() - not enough training data available to train, classification in branch will terminate at node 92\n",
      "_train_local_classifier() - not enough training data available to train, classification in branch will terminate at node 102\n",
      "_train_local_classifier() - not enough training data available to train, classification in branch will terminate at node 130\n",
      "_train_local_classifier() - not enough training data available to train, classification in branch will terminate at node 3\n",
      "_train_local_classifier() - not enough training data available to train, classification in branch will terminate at node 4\n",
      "_train_local_classifier() - not enough training data available to train, classification in branch will terminate at node 9\n",
      "_train_local_classifier() - not enough training data available to train, classification in branch will terminate at node 651\n",
      "_train_local_classifier() - not enough training data available to train, classification in branch will terminate at node 109\n",
      "_train_local_classifier() - not enough training data available to train, classification in branch will terminate at node 26\n",
      "_train_local_classifier() - not enough training data available to train, classification in branch will terminate at node 45\n",
      "_train_local_classifier() - not enough training data available to train, classification in branch will terminate at node 53\n",
      "_train_local_classifier() - not enough training data available to train, classification in branch will terminate at node 85\n",
      "_train_local_classifier() - not enough training data available to train, classification in branch will terminate at node 13\n",
      "_train_local_classifier() - not enough training data available to train, classification in branch will terminate at node 14\n",
      "_train_local_classifier() - not enough training data available to train, classification in branch will terminate at node 19\n",
      "_train_local_classifier() - not enough training data available to train, classification in branch will terminate at node 181\n",
      "_train_local_classifier() - not enough training data available to train, classification in branch will terminate at node 182\n",
      "_train_local_classifier() - not enough training data available to train, classification in branch will terminate at node 468\n",
      "_train_local_classifier() - not enough training data available to train, classification in branch will terminate at node 65\n",
      "_train_local_classifier() - not enough training data available to train, classification in branch will terminate at node 6\n",
      "_train_local_classifier() - not enough training data available to train, classification in branch will terminate at node 16\n",
      "_train_local_classifier() - not enough training data available to train, classification in branch will terminate at node 763\n",
      "_train_local_classifier() - not enough training data available to train, classification in branch will terminate at node 46\n",
      "_train_local_classifier() - not enough training data available to train, classification in branch will terminate at node 79\n",
      "_train_local_classifier() - not enough training data available to train, classification in branch will terminate at node 86\n",
      "_train_local_classifier() - not enough training data available to train, classification in branch will terminate at node 92\n",
      "_train_local_classifier() - not enough training data available to train, classification in branch will terminate at node 102\n",
      "_train_local_classifier() - not enough training data available to train, classification in branch will terminate at node 130\n",
      "_train_local_classifier() - not enough training data available to train, classification in branch will terminate at node 3\n",
      "_train_local_classifier() - not enough training data available to train, classification in branch will terminate at node 4\n",
      "_train_local_classifier() - not enough training data available to train, classification in branch will terminate at node 9\n",
      "_train_local_classifier() - not enough training data available to train, classification in branch will terminate at node 651\n",
      "_train_local_classifier() - not enough training data available to train, classification in branch will terminate at node 109\n",
      "_train_local_classifier() - not enough training data available to train, classification in branch will terminate at node 26\n",
      "_train_local_classifier() - not enough training data available to train, classification in branch will terminate at node 45\n",
      "_train_local_classifier() - not enough training data available to train, classification in branch will terminate at node 53\n",
      "_train_local_classifier() - not enough training data available to train, classification in branch will terminate at node 85\n",
      "_train_local_classifier() - not enough training data available to train, classification in branch will terminate at node 13\n",
      "_train_local_classifier() - not enough training data available to train, classification in branch will terminate at node 14\n",
      "_train_local_classifier() - not enough training data available to train, classification in branch will terminate at node 19\n",
      "_train_local_classifier() - not enough training data available to train, classification in branch will terminate at node 181\n",
      "_train_local_classifier() - not enough training data available to train, classification in branch will terminate at node 182\n",
      "_train_local_classifier() - not enough training data available to train, classification in branch will terminate at node 468\n",
      "_train_local_classifier() - not enough training data available to train, classification in branch will terminate at node 65\n",
      "_train_local_classifier() - not enough training data available to train, classification in branch will terminate at node 6\n",
      "_train_local_classifier() - not enough training data available to train, classification in branch will terminate at node 16\n",
      "_train_local_classifier() - not enough training data available to train, classification in branch will terminate at node 763\n",
      "_train_local_classifier() - not enough training data available to train, classification in branch will terminate at node 46\n",
      "_train_local_classifier() - not enough training data available to train, classification in branch will terminate at node 79\n",
      "_train_local_classifier() - not enough training data available to train, classification in branch will terminate at node 86\n",
      "_train_local_classifier() - not enough training data available to train, classification in branch will terminate at node 92\n",
      "_train_local_classifier() - not enough training data available to train, classification in branch will terminate at node 102\n",
      "_train_local_classifier() - not enough training data available to train, classification in branch will terminate at node 130\n",
      "_train_local_classifier() - not enough training data available to train, classification in branch will terminate at node 3\n",
      "_train_local_classifier() - not enough training data available to train, classification in branch will terminate at node 4\n",
      "_train_local_classifier() - not enough training data available to train, classification in branch will terminate at node 9\n",
      "_train_local_classifier() - not enough training data available to train, classification in branch will terminate at node 651\n",
      "_train_local_classifier() - not enough training data available to train, classification in branch will terminate at node 109\n",
      "_train_local_classifier() - not enough training data available to train, classification in branch will terminate at node 26\n",
      "_train_local_classifier() - not enough training data available to train, classification in branch will terminate at node 45\n",
      "_train_local_classifier() - not enough training data available to train, classification in branch will terminate at node 53\n",
      "_train_local_classifier() - not enough training data available to train, classification in branch will terminate at node 85\n",
      "_train_local_classifier() - not enough training data available to train, classification in branch will terminate at node 13\n"
     ]
    },
    {
     "name": "stderr",
     "output_type": "stream",
     "text": [
      "_train_local_classifier() - not enough training data available to train, classification in branch will terminate at node 14\n",
      "_train_local_classifier() - not enough training data available to train, classification in branch will terminate at node 19\n",
      "_train_local_classifier() - not enough training data available to train, classification in branch will terminate at node 181\n",
      "_train_local_classifier() - not enough training data available to train, classification in branch will terminate at node 182\n",
      "_train_local_classifier() - not enough training data available to train, classification in branch will terminate at node 468\n",
      "_train_local_classifier() - not enough training data available to train, classification in branch will terminate at node 65\n",
      "_train_local_classifier() - not enough training data available to train, classification in branch will terminate at node 6\n",
      "_train_local_classifier() - not enough training data available to train, classification in branch will terminate at node 16\n",
      "_train_local_classifier() - not enough training data available to train, classification in branch will terminate at node 763\n"
     ]
    }
   ],
   "source": [
    "results=[]\n",
    "for stopping_criteria in [0.2,0.5,0.8]:\n",
    "    results.append([stopping_criteria, \n",
    "                    Hierarchical_fit(LogisticRegression(), \n",
    "                                     class_hierarchy, X_train_sca, y_train, X_test_sca, \n",
    "                                     y_test, stopping_criteria =stopping_criteria)])"
   ]
  },
  {
   "cell_type": "code",
   "execution_count": 19,
   "metadata": {
    "ExecuteTime": {
     "end_time": "2018-09-16T19:54:17.961595Z",
     "start_time": "2018-09-16T19:54:17.954431Z"
    }
   },
   "outputs": [
    {
     "data": {
      "text/plain": [
       "[[0.2, (0.4328529132450701, 0.42961287078934135)],\n",
       " [0.5, (0.4334953354561198, 0.4306184012066365)],\n",
       " [0.8, (0.41606614155633764, 0.4034690799396682)]]"
      ]
     },
     "execution_count": 19,
     "metadata": {},
     "output_type": "execute_result"
    }
   ],
   "source": [
    "results"
   ]
  },
  {
   "cell_type": "code",
   "execution_count": 22,
   "metadata": {
    "ExecuteTime": {
     "end_time": "2018-09-16T22:30:11.171827Z",
     "start_time": "2018-09-16T21:55:06.348861Z"
    }
   },
   "outputs": [
    {
     "name": "stderr",
     "output_type": "stream",
     "text": [
      "_train_local_classifier() - not enough training data available to train, classification in branch will terminate at node 46\n",
      "_train_local_classifier() - not enough training data available to train, classification in branch will terminate at node 79\n",
      "_train_local_classifier() - not enough training data available to train, classification in branch will terminate at node 86\n",
      "_train_local_classifier() - not enough training data available to train, classification in branch will terminate at node 92\n",
      "_train_local_classifier() - not enough training data available to train, classification in branch will terminate at node 102\n",
      "_train_local_classifier() - not enough training data available to train, classification in branch will terminate at node 130\n",
      "_train_local_classifier() - not enough training data available to train, classification in branch will terminate at node 3\n",
      "_train_local_classifier() - not enough training data available to train, classification in branch will terminate at node 4\n",
      "_train_local_classifier() - not enough training data available to train, classification in branch will terminate at node 9\n",
      "_train_local_classifier() - not enough training data available to train, classification in branch will terminate at node 651\n",
      "_train_local_classifier() - not enough training data available to train, classification in branch will terminate at node 109\n",
      "_train_local_classifier() - not enough training data available to train, classification in branch will terminate at node 26\n",
      "_train_local_classifier() - not enough training data available to train, classification in branch will terminate at node 45\n",
      "_train_local_classifier() - not enough training data available to train, classification in branch will terminate at node 53\n",
      "_train_local_classifier() - not enough training data available to train, classification in branch will terminate at node 85\n",
      "_train_local_classifier() - not enough training data available to train, classification in branch will terminate at node 13\n",
      "_train_local_classifier() - not enough training data available to train, classification in branch will terminate at node 14\n",
      "_train_local_classifier() - not enough training data available to train, classification in branch will terminate at node 19\n",
      "_train_local_classifier() - not enough training data available to train, classification in branch will terminate at node 181\n",
      "_train_local_classifier() - not enough training data available to train, classification in branch will terminate at node 182\n",
      "_train_local_classifier() - not enough training data available to train, classification in branch will terminate at node 468\n",
      "_train_local_classifier() - not enough training data available to train, classification in branch will terminate at node 65\n",
      "_train_local_classifier() - not enough training data available to train, classification in branch will terminate at node 6\n",
      "_train_local_classifier() - not enough training data available to train, classification in branch will terminate at node 16\n",
      "_train_local_classifier() - not enough training data available to train, classification in branch will terminate at node 763\n",
      "_train_local_classifier() - not enough training data available to train, classification in branch will terminate at node 46\n",
      "_train_local_classifier() - not enough training data available to train, classification in branch will terminate at node 79\n",
      "_train_local_classifier() - not enough training data available to train, classification in branch will terminate at node 86\n",
      "_train_local_classifier() - not enough training data available to train, classification in branch will terminate at node 92\n",
      "_train_local_classifier() - not enough training data available to train, classification in branch will terminate at node 102\n",
      "_train_local_classifier() - not enough training data available to train, classification in branch will terminate at node 130\n",
      "_train_local_classifier() - not enough training data available to train, classification in branch will terminate at node 3\n",
      "_train_local_classifier() - not enough training data available to train, classification in branch will terminate at node 4\n",
      "_train_local_classifier() - not enough training data available to train, classification in branch will terminate at node 9\n",
      "_train_local_classifier() - not enough training data available to train, classification in branch will terminate at node 651\n",
      "_train_local_classifier() - not enough training data available to train, classification in branch will terminate at node 109\n",
      "_train_local_classifier() - not enough training data available to train, classification in branch will terminate at node 26\n",
      "_train_local_classifier() - not enough training data available to train, classification in branch will terminate at node 45\n",
      "_train_local_classifier() - not enough training data available to train, classification in branch will terminate at node 53\n",
      "_train_local_classifier() - not enough training data available to train, classification in branch will terminate at node 85\n",
      "_train_local_classifier() - not enough training data available to train, classification in branch will terminate at node 13\n",
      "_train_local_classifier() - not enough training data available to train, classification in branch will terminate at node 14\n",
      "_train_local_classifier() - not enough training data available to train, classification in branch will terminate at node 19\n",
      "_train_local_classifier() - not enough training data available to train, classification in branch will terminate at node 181\n",
      "_train_local_classifier() - not enough training data available to train, classification in branch will terminate at node 182\n",
      "_train_local_classifier() - not enough training data available to train, classification in branch will terminate at node 468\n",
      "_train_local_classifier() - not enough training data available to train, classification in branch will terminate at node 65\n",
      "_train_local_classifier() - not enough training data available to train, classification in branch will terminate at node 6\n",
      "_train_local_classifier() - not enough training data available to train, classification in branch will terminate at node 16\n",
      "_train_local_classifier() - not enough training data available to train, classification in branch will terminate at node 763\n",
      "_train_local_classifier() - not enough training data available to train, classification in branch will terminate at node 46\n",
      "_train_local_classifier() - not enough training data available to train, classification in branch will terminate at node 79\n",
      "_train_local_classifier() - not enough training data available to train, classification in branch will terminate at node 86\n",
      "_train_local_classifier() - not enough training data available to train, classification in branch will terminate at node 92\n",
      "_train_local_classifier() - not enough training data available to train, classification in branch will terminate at node 102\n",
      "_train_local_classifier() - not enough training data available to train, classification in branch will terminate at node 130\n",
      "_train_local_classifier() - not enough training data available to train, classification in branch will terminate at node 3\n",
      "_train_local_classifier() - not enough training data available to train, classification in branch will terminate at node 4\n",
      "_train_local_classifier() - not enough training data available to train, classification in branch will terminate at node 9\n",
      "_train_local_classifier() - not enough training data available to train, classification in branch will terminate at node 651\n",
      "_train_local_classifier() - not enough training data available to train, classification in branch will terminate at node 109\n",
      "_train_local_classifier() - not enough training data available to train, classification in branch will terminate at node 26\n",
      "_train_local_classifier() - not enough training data available to train, classification in branch will terminate at node 45\n",
      "_train_local_classifier() - not enough training data available to train, classification in branch will terminate at node 53\n",
      "_train_local_classifier() - not enough training data available to train, classification in branch will terminate at node 85\n",
      "_train_local_classifier() - not enough training data available to train, classification in branch will terminate at node 13\n"
     ]
    },
    {
     "name": "stderr",
     "output_type": "stream",
     "text": [
      "_train_local_classifier() - not enough training data available to train, classification in branch will terminate at node 14\n",
      "_train_local_classifier() - not enough training data available to train, classification in branch will terminate at node 19\n",
      "_train_local_classifier() - not enough training data available to train, classification in branch will terminate at node 181\n",
      "_train_local_classifier() - not enough training data available to train, classification in branch will terminate at node 182\n",
      "_train_local_classifier() - not enough training data available to train, classification in branch will terminate at node 468\n",
      "_train_local_classifier() - not enough training data available to train, classification in branch will terminate at node 65\n",
      "_train_local_classifier() - not enough training data available to train, classification in branch will terminate at node 6\n",
      "_train_local_classifier() - not enough training data available to train, classification in branch will terminate at node 16\n",
      "_train_local_classifier() - not enough training data available to train, classification in branch will terminate at node 763\n",
      "_train_local_classifier() - not enough training data available to train, classification in branch will terminate at node 46\n",
      "_train_local_classifier() - not enough training data available to train, classification in branch will terminate at node 79\n",
      "_train_local_classifier() - not enough training data available to train, classification in branch will terminate at node 86\n",
      "_train_local_classifier() - not enough training data available to train, classification in branch will terminate at node 92\n",
      "_train_local_classifier() - not enough training data available to train, classification in branch will terminate at node 102\n",
      "_train_local_classifier() - not enough training data available to train, classification in branch will terminate at node 130\n",
      "_train_local_classifier() - not enough training data available to train, classification in branch will terminate at node 3\n",
      "_train_local_classifier() - not enough training data available to train, classification in branch will terminate at node 4\n",
      "_train_local_classifier() - not enough training data available to train, classification in branch will terminate at node 9\n",
      "_train_local_classifier() - not enough training data available to train, classification in branch will terminate at node 651\n",
      "_train_local_classifier() - not enough training data available to train, classification in branch will terminate at node 109\n",
      "_train_local_classifier() - not enough training data available to train, classification in branch will terminate at node 26\n",
      "_train_local_classifier() - not enough training data available to train, classification in branch will terminate at node 45\n",
      "_train_local_classifier() - not enough training data available to train, classification in branch will terminate at node 53\n",
      "_train_local_classifier() - not enough training data available to train, classification in branch will terminate at node 85\n",
      "_train_local_classifier() - not enough training data available to train, classification in branch will terminate at node 13\n",
      "_train_local_classifier() - not enough training data available to train, classification in branch will terminate at node 14\n",
      "_train_local_classifier() - not enough training data available to train, classification in branch will terminate at node 19\n",
      "_train_local_classifier() - not enough training data available to train, classification in branch will terminate at node 181\n",
      "_train_local_classifier() - not enough training data available to train, classification in branch will terminate at node 182\n",
      "_train_local_classifier() - not enough training data available to train, classification in branch will terminate at node 468\n",
      "_train_local_classifier() - not enough training data available to train, classification in branch will terminate at node 65\n",
      "_train_local_classifier() - not enough training data available to train, classification in branch will terminate at node 6\n",
      "_train_local_classifier() - not enough training data available to train, classification in branch will terminate at node 16\n",
      "_train_local_classifier() - not enough training data available to train, classification in branch will terminate at node 763\n",
      "_train_local_classifier() - not enough training data available to train, classification in branch will terminate at node 46\n",
      "_train_local_classifier() - not enough training data available to train, classification in branch will terminate at node 79\n",
      "_train_local_classifier() - not enough training data available to train, classification in branch will terminate at node 86\n",
      "_train_local_classifier() - not enough training data available to train, classification in branch will terminate at node 92\n",
      "_train_local_classifier() - not enough training data available to train, classification in branch will terminate at node 102\n",
      "_train_local_classifier() - not enough training data available to train, classification in branch will terminate at node 130\n",
      "_train_local_classifier() - not enough training data available to train, classification in branch will terminate at node 3\n",
      "_train_local_classifier() - not enough training data available to train, classification in branch will terminate at node 4\n",
      "_train_local_classifier() - not enough training data available to train, classification in branch will terminate at node 9\n",
      "_train_local_classifier() - not enough training data available to train, classification in branch will terminate at node 651\n",
      "_train_local_classifier() - not enough training data available to train, classification in branch will terminate at node 109\n",
      "_train_local_classifier() - not enough training data available to train, classification in branch will terminate at node 26\n",
      "_train_local_classifier() - not enough training data available to train, classification in branch will terminate at node 45\n",
      "_train_local_classifier() - not enough training data available to train, classification in branch will terminate at node 53\n",
      "_train_local_classifier() - not enough training data available to train, classification in branch will terminate at node 85\n",
      "_train_local_classifier() - not enough training data available to train, classification in branch will terminate at node 13\n",
      "_train_local_classifier() - not enough training data available to train, classification in branch will terminate at node 14\n",
      "_train_local_classifier() - not enough training data available to train, classification in branch will terminate at node 19\n",
      "_train_local_classifier() - not enough training data available to train, classification in branch will terminate at node 181\n",
      "_train_local_classifier() - not enough training data available to train, classification in branch will terminate at node 182\n",
      "_train_local_classifier() - not enough training data available to train, classification in branch will terminate at node 468\n",
      "_train_local_classifier() - not enough training data available to train, classification in branch will terminate at node 65\n",
      "_train_local_classifier() - not enough training data available to train, classification in branch will terminate at node 6\n",
      "_train_local_classifier() - not enough training data available to train, classification in branch will terminate at node 16\n",
      "_train_local_classifier() - not enough training data available to train, classification in branch will terminate at node 763\n",
      "_train_local_classifier() - not enough training data available to train, classification in branch will terminate at node 46\n",
      "_train_local_classifier() - not enough training data available to train, classification in branch will terminate at node 79\n",
      "_train_local_classifier() - not enough training data available to train, classification in branch will terminate at node 86\n",
      "_train_local_classifier() - not enough training data available to train, classification in branch will terminate at node 92\n",
      "_train_local_classifier() - not enough training data available to train, classification in branch will terminate at node 102\n",
      "_train_local_classifier() - not enough training data available to train, classification in branch will terminate at node 130\n",
      "_train_local_classifier() - not enough training data available to train, classification in branch will terminate at node 3\n"
     ]
    },
    {
     "name": "stderr",
     "output_type": "stream",
     "text": [
      "_train_local_classifier() - not enough training data available to train, classification in branch will terminate at node 4\n",
      "_train_local_classifier() - not enough training data available to train, classification in branch will terminate at node 9\n",
      "_train_local_classifier() - not enough training data available to train, classification in branch will terminate at node 651\n",
      "_train_local_classifier() - not enough training data available to train, classification in branch will terminate at node 109\n",
      "_train_local_classifier() - not enough training data available to train, classification in branch will terminate at node 26\n",
      "_train_local_classifier() - not enough training data available to train, classification in branch will terminate at node 45\n",
      "_train_local_classifier() - not enough training data available to train, classification in branch will terminate at node 53\n",
      "_train_local_classifier() - not enough training data available to train, classification in branch will terminate at node 85\n",
      "_train_local_classifier() - not enough training data available to train, classification in branch will terminate at node 13\n",
      "_train_local_classifier() - not enough training data available to train, classification in branch will terminate at node 14\n",
      "_train_local_classifier() - not enough training data available to train, classification in branch will terminate at node 19\n",
      "_train_local_classifier() - not enough training data available to train, classification in branch will terminate at node 181\n",
      "_train_local_classifier() - not enough training data available to train, classification in branch will terminate at node 182\n",
      "_train_local_classifier() - not enough training data available to train, classification in branch will terminate at node 468\n",
      "_train_local_classifier() - not enough training data available to train, classification in branch will terminate at node 65\n",
      "_train_local_classifier() - not enough training data available to train, classification in branch will terminate at node 6\n",
      "_train_local_classifier() - not enough training data available to train, classification in branch will terminate at node 16\n",
      "_train_local_classifier() - not enough training data available to train, classification in branch will terminate at node 763\n",
      "_train_local_classifier() - not enough training data available to train, classification in branch will terminate at node 46\n",
      "_train_local_classifier() - not enough training data available to train, classification in branch will terminate at node 79\n",
      "_train_local_classifier() - not enough training data available to train, classification in branch will terminate at node 86\n",
      "_train_local_classifier() - not enough training data available to train, classification in branch will terminate at node 92\n",
      "_train_local_classifier() - not enough training data available to train, classification in branch will terminate at node 102\n",
      "_train_local_classifier() - not enough training data available to train, classification in branch will terminate at node 130\n",
      "_train_local_classifier() - not enough training data available to train, classification in branch will terminate at node 3\n",
      "_train_local_classifier() - not enough training data available to train, classification in branch will terminate at node 4\n",
      "_train_local_classifier() - not enough training data available to train, classification in branch will terminate at node 9\n",
      "_train_local_classifier() - not enough training data available to train, classification in branch will terminate at node 651\n",
      "_train_local_classifier() - not enough training data available to train, classification in branch will terminate at node 109\n",
      "_train_local_classifier() - not enough training data available to train, classification in branch will terminate at node 26\n",
      "_train_local_classifier() - not enough training data available to train, classification in branch will terminate at node 45\n",
      "_train_local_classifier() - not enough training data available to train, classification in branch will terminate at node 53\n",
      "_train_local_classifier() - not enough training data available to train, classification in branch will terminate at node 85\n",
      "_train_local_classifier() - not enough training data available to train, classification in branch will terminate at node 13\n",
      "_train_local_classifier() - not enough training data available to train, classification in branch will terminate at node 14\n",
      "_train_local_classifier() - not enough training data available to train, classification in branch will terminate at node 19\n",
      "_train_local_classifier() - not enough training data available to train, classification in branch will terminate at node 181\n",
      "_train_local_classifier() - not enough training data available to train, classification in branch will terminate at node 182\n",
      "_train_local_classifier() - not enough training data available to train, classification in branch will terminate at node 468\n",
      "_train_local_classifier() - not enough training data available to train, classification in branch will terminate at node 65\n",
      "_train_local_classifier() - not enough training data available to train, classification in branch will terminate at node 6\n",
      "_train_local_classifier() - not enough training data available to train, classification in branch will terminate at node 16\n",
      "_train_local_classifier() - not enough training data available to train, classification in branch will terminate at node 763\n",
      "_train_local_classifier() - not enough training data available to train, classification in branch will terminate at node 46\n",
      "_train_local_classifier() - not enough training data available to train, classification in branch will terminate at node 79\n",
      "_train_local_classifier() - not enough training data available to train, classification in branch will terminate at node 86\n",
      "_train_local_classifier() - not enough training data available to train, classification in branch will terminate at node 92\n",
      "_train_local_classifier() - not enough training data available to train, classification in branch will terminate at node 102\n",
      "_train_local_classifier() - not enough training data available to train, classification in branch will terminate at node 130\n",
      "_train_local_classifier() - not enough training data available to train, classification in branch will terminate at node 3\n",
      "_train_local_classifier() - not enough training data available to train, classification in branch will terminate at node 4\n",
      "_train_local_classifier() - not enough training data available to train, classification in branch will terminate at node 9\n",
      "_train_local_classifier() - not enough training data available to train, classification in branch will terminate at node 651\n",
      "_train_local_classifier() - not enough training data available to train, classification in branch will terminate at node 109\n",
      "_train_local_classifier() - not enough training data available to train, classification in branch will terminate at node 26\n",
      "_train_local_classifier() - not enough training data available to train, classification in branch will terminate at node 45\n",
      "_train_local_classifier() - not enough training data available to train, classification in branch will terminate at node 53\n",
      "_train_local_classifier() - not enough training data available to train, classification in branch will terminate at node 85\n",
      "_train_local_classifier() - not enough training data available to train, classification in branch will terminate at node 13\n",
      "_train_local_classifier() - not enough training data available to train, classification in branch will terminate at node 14\n",
      "_train_local_classifier() - not enough training data available to train, classification in branch will terminate at node 19\n",
      "_train_local_classifier() - not enough training data available to train, classification in branch will terminate at node 181\n",
      "_train_local_classifier() - not enough training data available to train, classification in branch will terminate at node 182\n",
      "_train_local_classifier() - not enough training data available to train, classification in branch will terminate at node 468\n",
      "_train_local_classifier() - not enough training data available to train, classification in branch will terminate at node 65\n",
      "_train_local_classifier() - not enough training data available to train, classification in branch will terminate at node 6\n"
     ]
    },
    {
     "name": "stderr",
     "output_type": "stream",
     "text": [
      "_train_local_classifier() - not enough training data available to train, classification in branch will terminate at node 16\n",
      "_train_local_classifier() - not enough training data available to train, classification in branch will terminate at node 763\n",
      "_train_local_classifier() - not enough training data available to train, classification in branch will terminate at node 46\n",
      "_train_local_classifier() - not enough training data available to train, classification in branch will terminate at node 79\n",
      "_train_local_classifier() - not enough training data available to train, classification in branch will terminate at node 86\n",
      "_train_local_classifier() - not enough training data available to train, classification in branch will terminate at node 92\n",
      "_train_local_classifier() - not enough training data available to train, classification in branch will terminate at node 102\n",
      "_train_local_classifier() - not enough training data available to train, classification in branch will terminate at node 130\n",
      "_train_local_classifier() - not enough training data available to train, classification in branch will terminate at node 3\n",
      "_train_local_classifier() - not enough training data available to train, classification in branch will terminate at node 4\n",
      "_train_local_classifier() - not enough training data available to train, classification in branch will terminate at node 9\n",
      "_train_local_classifier() - not enough training data available to train, classification in branch will terminate at node 651\n",
      "_train_local_classifier() - not enough training data available to train, classification in branch will terminate at node 109\n",
      "_train_local_classifier() - not enough training data available to train, classification in branch will terminate at node 26\n",
      "_train_local_classifier() - not enough training data available to train, classification in branch will terminate at node 45\n",
      "_train_local_classifier() - not enough training data available to train, classification in branch will terminate at node 53\n",
      "_train_local_classifier() - not enough training data available to train, classification in branch will terminate at node 85\n",
      "_train_local_classifier() - not enough training data available to train, classification in branch will terminate at node 13\n",
      "_train_local_classifier() - not enough training data available to train, classification in branch will terminate at node 14\n",
      "_train_local_classifier() - not enough training data available to train, classification in branch will terminate at node 19\n",
      "_train_local_classifier() - not enough training data available to train, classification in branch will terminate at node 181\n",
      "_train_local_classifier() - not enough training data available to train, classification in branch will terminate at node 182\n",
      "_train_local_classifier() - not enough training data available to train, classification in branch will terminate at node 468\n",
      "_train_local_classifier() - not enough training data available to train, classification in branch will terminate at node 65\n",
      "_train_local_classifier() - not enough training data available to train, classification in branch will terminate at node 6\n",
      "_train_local_classifier() - not enough training data available to train, classification in branch will terminate at node 16\n",
      "_train_local_classifier() - not enough training data available to train, classification in branch will terminate at node 763\n",
      "_train_local_classifier() - not enough training data available to train, classification in branch will terminate at node 46\n",
      "_train_local_classifier() - not enough training data available to train, classification in branch will terminate at node 79\n",
      "_train_local_classifier() - not enough training data available to train, classification in branch will terminate at node 86\n",
      "_train_local_classifier() - not enough training data available to train, classification in branch will terminate at node 92\n",
      "_train_local_classifier() - not enough training data available to train, classification in branch will terminate at node 102\n",
      "_train_local_classifier() - not enough training data available to train, classification in branch will terminate at node 130\n",
      "_train_local_classifier() - not enough training data available to train, classification in branch will terminate at node 3\n",
      "_train_local_classifier() - not enough training data available to train, classification in branch will terminate at node 4\n",
      "_train_local_classifier() - not enough training data available to train, classification in branch will terminate at node 9\n",
      "_train_local_classifier() - not enough training data available to train, classification in branch will terminate at node 651\n",
      "_train_local_classifier() - not enough training data available to train, classification in branch will terminate at node 109\n",
      "_train_local_classifier() - not enough training data available to train, classification in branch will terminate at node 26\n",
      "_train_local_classifier() - not enough training data available to train, classification in branch will terminate at node 45\n",
      "_train_local_classifier() - not enough training data available to train, classification in branch will terminate at node 53\n",
      "_train_local_classifier() - not enough training data available to train, classification in branch will terminate at node 85\n",
      "_train_local_classifier() - not enough training data available to train, classification in branch will terminate at node 13\n",
      "_train_local_classifier() - not enough training data available to train, classification in branch will terminate at node 14\n",
      "_train_local_classifier() - not enough training data available to train, classification in branch will terminate at node 19\n",
      "_train_local_classifier() - not enough training data available to train, classification in branch will terminate at node 181\n",
      "_train_local_classifier() - not enough training data available to train, classification in branch will terminate at node 182\n",
      "_train_local_classifier() - not enough training data available to train, classification in branch will terminate at node 468\n",
      "_train_local_classifier() - not enough training data available to train, classification in branch will terminate at node 65\n",
      "_train_local_classifier() - not enough training data available to train, classification in branch will terminate at node 6\n",
      "_train_local_classifier() - not enough training data available to train, classification in branch will terminate at node 16\n",
      "_train_local_classifier() - not enough training data available to train, classification in branch will terminate at node 763\n",
      "_train_local_classifier() - not enough training data available to train, classification in branch will terminate at node 46\n",
      "_train_local_classifier() - not enough training data available to train, classification in branch will terminate at node 79\n",
      "_train_local_classifier() - not enough training data available to train, classification in branch will terminate at node 86\n",
      "_train_local_classifier() - not enough training data available to train, classification in branch will terminate at node 92\n",
      "_train_local_classifier() - not enough training data available to train, classification in branch will terminate at node 102\n",
      "_train_local_classifier() - not enough training data available to train, classification in branch will terminate at node 130\n",
      "_train_local_classifier() - not enough training data available to train, classification in branch will terminate at node 3\n",
      "_train_local_classifier() - not enough training data available to train, classification in branch will terminate at node 4\n",
      "_train_local_classifier() - not enough training data available to train, classification in branch will terminate at node 9\n",
      "_train_local_classifier() - not enough training data available to train, classification in branch will terminate at node 651\n",
      "_train_local_classifier() - not enough training data available to train, classification in branch will terminate at node 109\n",
      "_train_local_classifier() - not enough training data available to train, classification in branch will terminate at node 26\n",
      "_train_local_classifier() - not enough training data available to train, classification in branch will terminate at node 45\n",
      "_train_local_classifier() - not enough training data available to train, classification in branch will terminate at node 53\n"
     ]
    },
    {
     "name": "stderr",
     "output_type": "stream",
     "text": [
      "_train_local_classifier() - not enough training data available to train, classification in branch will terminate at node 85\n",
      "_train_local_classifier() - not enough training data available to train, classification in branch will terminate at node 13\n",
      "_train_local_classifier() - not enough training data available to train, classification in branch will terminate at node 14\n",
      "_train_local_classifier() - not enough training data available to train, classification in branch will terminate at node 19\n",
      "_train_local_classifier() - not enough training data available to train, classification in branch will terminate at node 181\n",
      "_train_local_classifier() - not enough training data available to train, classification in branch will terminate at node 182\n",
      "_train_local_classifier() - not enough training data available to train, classification in branch will terminate at node 468\n",
      "_train_local_classifier() - not enough training data available to train, classification in branch will terminate at node 65\n",
      "_train_local_classifier() - not enough training data available to train, classification in branch will terminate at node 6\n",
      "_train_local_classifier() - not enough training data available to train, classification in branch will terminate at node 16\n",
      "_train_local_classifier() - not enough training data available to train, classification in branch will terminate at node 763\n",
      "_train_local_classifier() - not enough training data available to train, classification in branch will terminate at node 46\n",
      "_train_local_classifier() - not enough training data available to train, classification in branch will terminate at node 79\n",
      "_train_local_classifier() - not enough training data available to train, classification in branch will terminate at node 86\n",
      "_train_local_classifier() - not enough training data available to train, classification in branch will terminate at node 92\n",
      "_train_local_classifier() - not enough training data available to train, classification in branch will terminate at node 102\n",
      "_train_local_classifier() - not enough training data available to train, classification in branch will terminate at node 130\n",
      "_train_local_classifier() - not enough training data available to train, classification in branch will terminate at node 3\n",
      "_train_local_classifier() - not enough training data available to train, classification in branch will terminate at node 4\n",
      "_train_local_classifier() - not enough training data available to train, classification in branch will terminate at node 9\n",
      "_train_local_classifier() - not enough training data available to train, classification in branch will terminate at node 651\n",
      "_train_local_classifier() - not enough training data available to train, classification in branch will terminate at node 109\n",
      "_train_local_classifier() - not enough training data available to train, classification in branch will terminate at node 26\n",
      "_train_local_classifier() - not enough training data available to train, classification in branch will terminate at node 45\n",
      "_train_local_classifier() - not enough training data available to train, classification in branch will terminate at node 53\n",
      "_train_local_classifier() - not enough training data available to train, classification in branch will terminate at node 85\n",
      "_train_local_classifier() - not enough training data available to train, classification in branch will terminate at node 13\n",
      "_train_local_classifier() - not enough training data available to train, classification in branch will terminate at node 14\n",
      "_train_local_classifier() - not enough training data available to train, classification in branch will terminate at node 19\n",
      "_train_local_classifier() - not enough training data available to train, classification in branch will terminate at node 181\n",
      "_train_local_classifier() - not enough training data available to train, classification in branch will terminate at node 182\n",
      "_train_local_classifier() - not enough training data available to train, classification in branch will terminate at node 468\n",
      "_train_local_classifier() - not enough training data available to train, classification in branch will terminate at node 65\n",
      "_train_local_classifier() - not enough training data available to train, classification in branch will terminate at node 6\n",
      "_train_local_classifier() - not enough training data available to train, classification in branch will terminate at node 16\n",
      "_train_local_classifier() - not enough training data available to train, classification in branch will terminate at node 763\n",
      "_train_local_classifier() - not enough training data available to train, classification in branch will terminate at node 46\n",
      "_train_local_classifier() - not enough training data available to train, classification in branch will terminate at node 79\n",
      "_train_local_classifier() - not enough training data available to train, classification in branch will terminate at node 86\n",
      "_train_local_classifier() - not enough training data available to train, classification in branch will terminate at node 92\n",
      "_train_local_classifier() - not enough training data available to train, classification in branch will terminate at node 102\n",
      "_train_local_classifier() - not enough training data available to train, classification in branch will terminate at node 130\n",
      "_train_local_classifier() - not enough training data available to train, classification in branch will terminate at node 3\n",
      "_train_local_classifier() - not enough training data available to train, classification in branch will terminate at node 4\n",
      "_train_local_classifier() - not enough training data available to train, classification in branch will terminate at node 9\n",
      "_train_local_classifier() - not enough training data available to train, classification in branch will terminate at node 651\n",
      "_train_local_classifier() - not enough training data available to train, classification in branch will terminate at node 109\n",
      "_train_local_classifier() - not enough training data available to train, classification in branch will terminate at node 26\n",
      "_train_local_classifier() - not enough training data available to train, classification in branch will terminate at node 45\n",
      "_train_local_classifier() - not enough training data available to train, classification in branch will terminate at node 53\n",
      "_train_local_classifier() - not enough training data available to train, classification in branch will terminate at node 85\n",
      "_train_local_classifier() - not enough training data available to train, classification in branch will terminate at node 13\n",
      "_train_local_classifier() - not enough training data available to train, classification in branch will terminate at node 14\n",
      "_train_local_classifier() - not enough training data available to train, classification in branch will terminate at node 19\n",
      "_train_local_classifier() - not enough training data available to train, classification in branch will terminate at node 181\n",
      "_train_local_classifier() - not enough training data available to train, classification in branch will terminate at node 182\n",
      "_train_local_classifier() - not enough training data available to train, classification in branch will terminate at node 468\n",
      "_train_local_classifier() - not enough training data available to train, classification in branch will terminate at node 65\n",
      "_train_local_classifier() - not enough training data available to train, classification in branch will terminate at node 6\n",
      "_train_local_classifier() - not enough training data available to train, classification in branch will terminate at node 16\n",
      "_train_local_classifier() - not enough training data available to train, classification in branch will terminate at node 763\n",
      "_train_local_classifier() - not enough training data available to train, classification in branch will terminate at node 46\n",
      "_train_local_classifier() - not enough training data available to train, classification in branch will terminate at node 79\n",
      "_train_local_classifier() - not enough training data available to train, classification in branch will terminate at node 86\n",
      "_train_local_classifier() - not enough training data available to train, classification in branch will terminate at node 92\n",
      "_train_local_classifier() - not enough training data available to train, classification in branch will terminate at node 102\n"
     ]
    },
    {
     "name": "stderr",
     "output_type": "stream",
     "text": [
      "_train_local_classifier() - not enough training data available to train, classification in branch will terminate at node 130\n",
      "_train_local_classifier() - not enough training data available to train, classification in branch will terminate at node 3\n",
      "_train_local_classifier() - not enough training data available to train, classification in branch will terminate at node 4\n",
      "_train_local_classifier() - not enough training data available to train, classification in branch will terminate at node 9\n",
      "_train_local_classifier() - not enough training data available to train, classification in branch will terminate at node 651\n",
      "_train_local_classifier() - not enough training data available to train, classification in branch will terminate at node 109\n",
      "_train_local_classifier() - not enough training data available to train, classification in branch will terminate at node 26\n",
      "_train_local_classifier() - not enough training data available to train, classification in branch will terminate at node 45\n",
      "_train_local_classifier() - not enough training data available to train, classification in branch will terminate at node 53\n",
      "_train_local_classifier() - not enough training data available to train, classification in branch will terminate at node 85\n",
      "_train_local_classifier() - not enough training data available to train, classification in branch will terminate at node 13\n",
      "_train_local_classifier() - not enough training data available to train, classification in branch will terminate at node 14\n",
      "_train_local_classifier() - not enough training data available to train, classification in branch will terminate at node 19\n",
      "_train_local_classifier() - not enough training data available to train, classification in branch will terminate at node 181\n",
      "_train_local_classifier() - not enough training data available to train, classification in branch will terminate at node 182\n",
      "_train_local_classifier() - not enough training data available to train, classification in branch will terminate at node 468\n",
      "_train_local_classifier() - not enough training data available to train, classification in branch will terminate at node 65\n",
      "_train_local_classifier() - not enough training data available to train, classification in branch will terminate at node 6\n",
      "_train_local_classifier() - not enough training data available to train, classification in branch will terminate at node 16\n",
      "_train_local_classifier() - not enough training data available to train, classification in branch will terminate at node 763\n",
      "_train_local_classifier() - not enough training data available to train, classification in branch will terminate at node 46\n",
      "_train_local_classifier() - not enough training data available to train, classification in branch will terminate at node 79\n",
      "_train_local_classifier() - not enough training data available to train, classification in branch will terminate at node 86\n",
      "_train_local_classifier() - not enough training data available to train, classification in branch will terminate at node 92\n",
      "_train_local_classifier() - not enough training data available to train, classification in branch will terminate at node 102\n",
      "_train_local_classifier() - not enough training data available to train, classification in branch will terminate at node 130\n",
      "_train_local_classifier() - not enough training data available to train, classification in branch will terminate at node 3\n",
      "_train_local_classifier() - not enough training data available to train, classification in branch will terminate at node 4\n",
      "_train_local_classifier() - not enough training data available to train, classification in branch will terminate at node 9\n",
      "_train_local_classifier() - not enough training data available to train, classification in branch will terminate at node 651\n",
      "_train_local_classifier() - not enough training data available to train, classification in branch will terminate at node 109\n",
      "_train_local_classifier() - not enough training data available to train, classification in branch will terminate at node 26\n",
      "_train_local_classifier() - not enough training data available to train, classification in branch will terminate at node 45\n",
      "_train_local_classifier() - not enough training data available to train, classification in branch will terminate at node 53\n",
      "_train_local_classifier() - not enough training data available to train, classification in branch will terminate at node 85\n",
      "_train_local_classifier() - not enough training data available to train, classification in branch will terminate at node 13\n",
      "_train_local_classifier() - not enough training data available to train, classification in branch will terminate at node 14\n",
      "_train_local_classifier() - not enough training data available to train, classification in branch will terminate at node 19\n",
      "_train_local_classifier() - not enough training data available to train, classification in branch will terminate at node 181\n",
      "_train_local_classifier() - not enough training data available to train, classification in branch will terminate at node 182\n",
      "_train_local_classifier() - not enough training data available to train, classification in branch will terminate at node 468\n",
      "_train_local_classifier() - not enough training data available to train, classification in branch will terminate at node 65\n",
      "_train_local_classifier() - not enough training data available to train, classification in branch will terminate at node 6\n",
      "_train_local_classifier() - not enough training data available to train, classification in branch will terminate at node 16\n",
      "_train_local_classifier() - not enough training data available to train, classification in branch will terminate at node 763\n",
      "_train_local_classifier() - not enough training data available to train, classification in branch will terminate at node 46\n",
      "_train_local_classifier() - not enough training data available to train, classification in branch will terminate at node 79\n",
      "_train_local_classifier() - not enough training data available to train, classification in branch will terminate at node 86\n",
      "_train_local_classifier() - not enough training data available to train, classification in branch will terminate at node 92\n",
      "_train_local_classifier() - not enough training data available to train, classification in branch will terminate at node 102\n",
      "_train_local_classifier() - not enough training data available to train, classification in branch will terminate at node 130\n",
      "_train_local_classifier() - not enough training data available to train, classification in branch will terminate at node 3\n",
      "_train_local_classifier() - not enough training data available to train, classification in branch will terminate at node 4\n",
      "_train_local_classifier() - not enough training data available to train, classification in branch will terminate at node 9\n",
      "_train_local_classifier() - not enough training data available to train, classification in branch will terminate at node 651\n",
      "_train_local_classifier() - not enough training data available to train, classification in branch will terminate at node 109\n",
      "_train_local_classifier() - not enough training data available to train, classification in branch will terminate at node 26\n",
      "_train_local_classifier() - not enough training data available to train, classification in branch will terminate at node 45\n",
      "_train_local_classifier() - not enough training data available to train, classification in branch will terminate at node 53\n",
      "_train_local_classifier() - not enough training data available to train, classification in branch will terminate at node 85\n",
      "_train_local_classifier() - not enough training data available to train, classification in branch will terminate at node 13\n",
      "_train_local_classifier() - not enough training data available to train, classification in branch will terminate at node 14\n",
      "_train_local_classifier() - not enough training data available to train, classification in branch will terminate at node 19\n",
      "_train_local_classifier() - not enough training data available to train, classification in branch will terminate at node 181\n",
      "_train_local_classifier() - not enough training data available to train, classification in branch will terminate at node 182\n",
      "_train_local_classifier() - not enough training data available to train, classification in branch will terminate at node 468\n"
     ]
    },
    {
     "name": "stderr",
     "output_type": "stream",
     "text": [
      "_train_local_classifier() - not enough training data available to train, classification in branch will terminate at node 65\n",
      "_train_local_classifier() - not enough training data available to train, classification in branch will terminate at node 6\n",
      "_train_local_classifier() - not enough training data available to train, classification in branch will terminate at node 16\n",
      "_train_local_classifier() - not enough training data available to train, classification in branch will terminate at node 763\n",
      "_train_local_classifier() - not enough training data available to train, classification in branch will terminate at node 46\n",
      "_train_local_classifier() - not enough training data available to train, classification in branch will terminate at node 79\n",
      "_train_local_classifier() - not enough training data available to train, classification in branch will terminate at node 86\n",
      "_train_local_classifier() - not enough training data available to train, classification in branch will terminate at node 92\n",
      "_train_local_classifier() - not enough training data available to train, classification in branch will terminate at node 102\n",
      "_train_local_classifier() - not enough training data available to train, classification in branch will terminate at node 130\n",
      "_train_local_classifier() - not enough training data available to train, classification in branch will terminate at node 3\n",
      "_train_local_classifier() - not enough training data available to train, classification in branch will terminate at node 4\n",
      "_train_local_classifier() - not enough training data available to train, classification in branch will terminate at node 9\n",
      "_train_local_classifier() - not enough training data available to train, classification in branch will terminate at node 651\n",
      "_train_local_classifier() - not enough training data available to train, classification in branch will terminate at node 109\n",
      "_train_local_classifier() - not enough training data available to train, classification in branch will terminate at node 26\n",
      "_train_local_classifier() - not enough training data available to train, classification in branch will terminate at node 45\n",
      "_train_local_classifier() - not enough training data available to train, classification in branch will terminate at node 53\n",
      "_train_local_classifier() - not enough training data available to train, classification in branch will terminate at node 85\n",
      "_train_local_classifier() - not enough training data available to train, classification in branch will terminate at node 13\n",
      "_train_local_classifier() - not enough training data available to train, classification in branch will terminate at node 14\n",
      "_train_local_classifier() - not enough training data available to train, classification in branch will terminate at node 19\n",
      "_train_local_classifier() - not enough training data available to train, classification in branch will terminate at node 181\n",
      "_train_local_classifier() - not enough training data available to train, classification in branch will terminate at node 182\n",
      "_train_local_classifier() - not enough training data available to train, classification in branch will terminate at node 468\n",
      "_train_local_classifier() - not enough training data available to train, classification in branch will terminate at node 65\n",
      "_train_local_classifier() - not enough training data available to train, classification in branch will terminate at node 6\n",
      "_train_local_classifier() - not enough training data available to train, classification in branch will terminate at node 16\n",
      "_train_local_classifier() - not enough training data available to train, classification in branch will terminate at node 763\n",
      "_train_local_classifier() - not enough training data available to train, classification in branch will terminate at node 46\n",
      "_train_local_classifier() - not enough training data available to train, classification in branch will terminate at node 79\n",
      "_train_local_classifier() - not enough training data available to train, classification in branch will terminate at node 86\n",
      "_train_local_classifier() - not enough training data available to train, classification in branch will terminate at node 92\n",
      "_train_local_classifier() - not enough training data available to train, classification in branch will terminate at node 102\n",
      "_train_local_classifier() - not enough training data available to train, classification in branch will terminate at node 130\n",
      "_train_local_classifier() - not enough training data available to train, classification in branch will terminate at node 3\n",
      "_train_local_classifier() - not enough training data available to train, classification in branch will terminate at node 4\n",
      "_train_local_classifier() - not enough training data available to train, classification in branch will terminate at node 9\n",
      "_train_local_classifier() - not enough training data available to train, classification in branch will terminate at node 651\n",
      "_train_local_classifier() - not enough training data available to train, classification in branch will terminate at node 109\n",
      "_train_local_classifier() - not enough training data available to train, classification in branch will terminate at node 26\n",
      "_train_local_classifier() - not enough training data available to train, classification in branch will terminate at node 45\n",
      "_train_local_classifier() - not enough training data available to train, classification in branch will terminate at node 53\n",
      "_train_local_classifier() - not enough training data available to train, classification in branch will terminate at node 85\n",
      "_train_local_classifier() - not enough training data available to train, classification in branch will terminate at node 13\n",
      "_train_local_classifier() - not enough training data available to train, classification in branch will terminate at node 14\n",
      "_train_local_classifier() - not enough training data available to train, classification in branch will terminate at node 19\n",
      "_train_local_classifier() - not enough training data available to train, classification in branch will terminate at node 181\n",
      "_train_local_classifier() - not enough training data available to train, classification in branch will terminate at node 182\n",
      "_train_local_classifier() - not enough training data available to train, classification in branch will terminate at node 468\n",
      "_train_local_classifier() - not enough training data available to train, classification in branch will terminate at node 65\n",
      "_train_local_classifier() - not enough training data available to train, classification in branch will terminate at node 6\n",
      "_train_local_classifier() - not enough training data available to train, classification in branch will terminate at node 16\n",
      "_train_local_classifier() - not enough training data available to train, classification in branch will terminate at node 763\n"
     ]
    }
   ],
   "source": [
    "results=[]\n",
    "for C in np.logspace(-2,1,6):\n",
    "    for stopping_criteria in [0.2,0.5,0.8]:\n",
    "        results.append([C, stopping_criteria, \n",
    "                        Hierarchical_fit(LogisticRegression(C=C), \n",
    "                                         class_hierarchy, X_train_sca, y_train, X_test_sca, \n",
    "                                         y_test, stopping_criteria =stopping_criteria)])"
   ]
  },
  {
   "cell_type": "code",
   "execution_count": 23,
   "metadata": {
    "ExecuteTime": {
     "end_time": "2018-09-16T22:30:11.409540Z",
     "start_time": "2018-09-16T22:30:11.400118Z"
    }
   },
   "outputs": [
    {
     "data": {
      "text/plain": [
       "[[0.01, 0.2, (0.4243617674990224, 0.42483660130718953)],\n",
       " [0.01, 0.5, (0.4248924641081504, 0.4240824534942182)],\n",
       " [0.01, 0.8, (0.3443103737221384, 0.3378582202111614)],\n",
       " [0.039810717055349734, 0.2, (0.4274900843528294, 0.42735042735042733)],\n",
       " [0.039810717055349734, 0.5, (0.4278531925590749, 0.4276018099547511)],\n",
       " [0.039810717055349734, 0.8, (0.40718395620356407, 0.4004524886877828)],\n",
       " [0.15848931924611134, 0.2, (0.43036701860231275, 0.42860734037204623)],\n",
       " [0.15848931924611134, 0.5, (0.4310653036143232, 0.4291101055806938)],\n",
       " [0.15848931924611134, 0.8, (0.4140830121222278, 0.4032176973353444)],\n",
       " [0.630957344480193, 0.2, (0.4322942852354617, 0.43011563599798897)],\n",
       " [0.630957344480193, 0.5, (0.4331322272498743, 0.4311211664152841)],\n",
       " [0.630957344480193, 0.8, (0.41598234735489636, 0.4042232277526395)],\n",
       " [2.5118864315095797, 0.2, (0.43321602145131555, 0.42860734037204623)],\n",
       " [2.5118864315095797, 0.5, (0.4334953354561198, 0.42936148818501757)],\n",
       " [2.5118864315095797, 0.8, (0.4158706217529747, 0.40271493212669685)],\n",
       " [10.0, 0.2, (0.43405396346572817, 0.42810457516339867)],\n",
       " [10.0, 0.5, (0.43441707167197363, 0.42810457516339867)],\n",
       " [10.0, 0.8, (0.41626166135970055, 0.40246354952237307)]]"
      ]
     },
     "execution_count": 23,
     "metadata": {},
     "output_type": "execute_result"
    }
   ],
   "source": [
    "results"
   ]
  },
  {
   "cell_type": "code",
   "execution_count": 25,
   "metadata": {
    "ExecuteTime": {
     "end_time": "2018-09-16T22:37:32.655201Z",
     "start_time": "2018-09-16T22:37:32.644069Z"
    }
   },
   "outputs": [],
   "source": [
    "def Hierarchical_fit_TruncatedSVD(estimator, class_hierarchy, X_train_sca, y_train, X_test_sca,\n",
    "                     y_test, stopping_criteria =0.5, n_components=20):\n",
    "    base_estimator = make_pipeline(TruncatedSVD(n_components=n_components),estimator)\n",
    "    clf = HierarchicalClassifier(\n",
    "                        base_estimator = base_estimator,\n",
    "                        class_hierarchy=class_hierarchy,\n",
    "                        prediction_depth=\"nmlnp\",\n",
    "                        stopping_criteria=stopping_criteria,\n",
    "#                        progress_wrapper=tqdm_notebook\n",
    "                        )\n",
    "    clf.fit(X_train_sca, y_train)\n",
    "    y_pred = clf.predict(X_test_sca)\n",
    "    y_pred_train = clf.predict(X_train_sca)    \n",
    "    return accuracy_score(y_train, y_pred_train), accuracy_score(y_test, y_pred)"
   ]
  },
  {
   "cell_type": "code",
   "execution_count": null,
   "metadata": {
    "ExecuteTime": {
     "start_time": "2018-09-16T23:00:46.512Z"
    }
   },
   "outputs": [],
   "source": [
    "results=[]\n",
    "for n_components in np.arange(10,151,20):\n",
    "    results.append([n_components, \n",
    "                    Hierarchical_fit_TruncatedSVD(LogisticRegression(C=0.631), \n",
    "                                     class_hierarchy, X_train_sca, y_train, X_test_sca, \n",
    "                                     y_test, stopping_criteria =0.5,n_components=n_components)])"
   ]
  },
  {
   "cell_type": "code",
   "execution_count": null,
   "metadata": {
    "ExecuteTime": {
     "start_time": "2018-09-16T23:00:47.945Z"
    }
   },
   "outputs": [],
   "source": [
    "results"
   ]
  },
  {
   "cell_type": "code",
   "execution_count": null,
   "metadata": {},
   "outputs": [],
   "source": []
  }
 ],
 "metadata": {
  "kernelspec": {
   "display_name": "Python 3",
   "language": "python",
   "name": "python3"
  },
  "language_info": {
   "codemirror_mode": {
    "name": "ipython",
    "version": 3
   },
   "file_extension": ".py",
   "mimetype": "text/x-python",
   "name": "python",
   "nbconvert_exporter": "python",
   "pygments_lexer": "ipython3",
   "version": "3.6.4"
  },
  "varInspector": {
   "cols": {
    "lenName": 16,
    "lenType": 16,
    "lenVar": 40
   },
   "kernels_config": {
    "python": {
     "delete_cmd_postfix": "",
     "delete_cmd_prefix": "del ",
     "library": "var_list.py",
     "varRefreshCmd": "print(var_dic_list())"
    },
    "r": {
     "delete_cmd_postfix": ") ",
     "delete_cmd_prefix": "rm(",
     "library": "var_list.r",
     "varRefreshCmd": "cat(var_dic_list()) "
    }
   },
   "types_to_exclude": [
    "module",
    "function",
    "builtin_function_or_method",
    "instance",
    "_Feature"
   ],
   "window_display": false
  }
 },
 "nbformat": 4,
 "nbformat_minor": 2
}
