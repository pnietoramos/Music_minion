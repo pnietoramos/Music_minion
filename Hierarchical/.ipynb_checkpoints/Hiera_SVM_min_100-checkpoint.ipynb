{
 "cells": [
  {
   "cell_type": "markdown",
   "metadata": {},
   "source": [
    "### Hierarchical classification"
   ]
  },
  {
   "cell_type": "code",
   "execution_count": 1,
   "metadata": {
    "ExecuteTime": {
     "end_time": "2018-09-16T21:44:34.836619Z",
     "start_time": "2018-09-16T21:44:34.155577Z"
    }
   },
   "outputs": [
    {
     "name": "stderr",
     "output_type": "stream",
     "text": [
      "/home/pnietoramos/anaconda3/lib/python3.6/site-packages/sklearn/cross_validation.py:41: DeprecationWarning: This module was deprecated in version 0.18 in favor of the model_selection module into which all the refactored classes and functions are moved. Also note that the interface of the new CV iterators are different from that of this module. This module will be removed in 0.20.\n",
      "  \"This module will be removed in 0.20.\", DeprecationWarning)\n"
     ]
    }
   ],
   "source": [
    "import pandas as pd\n",
    "import numpy as np\n",
    "import ast\n",
    "\n",
    "from sklearn.cross_validation import train_test_split\n",
    "from sklearn.preprocessing import StandardScaler\n",
    "from sklearn.model_selection import GridSearchCV\n",
    "from sklearn.metrics import accuracy_score\n",
    "from sklearn.decomposition import TruncatedSVD\n",
    "from sklearn.svm import SVC\n",
    "from sklearn.ensemble import RandomForestClassifier\n",
    "from sklearn.pipeline import make_pipeline\n",
    "\n",
    "from sklearn.metrics import classification_report\n",
    "\n",
    "from sklearn.preprocessing import MultiLabelBinarizer\n",
    "\n",
    "from sklearn_hierarchical_classification.classifier import HierarchicalClassifier\n",
    "from sklearn_hierarchical_classification.constants import ROOT\n",
    "\n",
    "from util_koyak import col_selector_hiera, grid_estimator\n",
    "from tqdm import tqdm_notebook\n",
    "\n",
    "import warnings; warnings.simplefilter('ignore')"
   ]
  },
  {
   "cell_type": "markdown",
   "metadata": {},
   "source": [
    "#### Importing features and selecting them."
   ]
  },
  {
   "cell_type": "code",
   "execution_count": 2,
   "metadata": {
    "ExecuteTime": {
     "end_time": "2018-09-16T21:44:39.535947Z",
     "start_time": "2018-09-16T21:44:35.501557Z"
    },
    "scrolled": true
   },
   "outputs": [],
   "source": [
    "df_genre = pd.read_csv(\"features_genre_HIERA_min_100.csv\", index_col=0)\n",
    "df_mfcc_cont = col_selector_hiera(['mfcc','contrast'], df_genre)"
   ]
  },
  {
   "cell_type": "code",
   "execution_count": 3,
   "metadata": {
    "ExecuteTime": {
     "end_time": "2018-09-16T21:44:39.883073Z",
     "start_time": "2018-09-16T21:44:39.850290Z"
    }
   },
   "outputs": [],
   "source": [
    "X = df_mfcc_cont.drop(\"genre_selected\",axis=1)\n",
    "y = df_mfcc_cont[\"genre_selected\"]"
   ]
  },
  {
   "cell_type": "code",
   "execution_count": 4,
   "metadata": {
    "ExecuteTime": {
     "end_time": "2018-09-16T21:44:40.304062Z",
     "start_time": "2018-09-16T21:44:40.248441Z"
    }
   },
   "outputs": [],
   "source": [
    "X_train, X_test, y_train, y_test = train_test_split(X, y, stratify=y, test_size=.10, random_state=4444)"
   ]
  },
  {
   "cell_type": "code",
   "execution_count": 5,
   "metadata": {
    "ExecuteTime": {
     "end_time": "2018-09-16T21:44:41.003834Z",
     "start_time": "2018-09-16T21:44:40.849319Z"
    }
   },
   "outputs": [],
   "source": [
    "sca = StandardScaler()\n",
    "X_train_sca = sca.fit_transform(X_train)\n",
    "X_test_sca = sca.transform(X_test);"
   ]
  },
  {
   "cell_type": "markdown",
   "metadata": {},
   "source": [
    "Creating the class hierarchy"
   ]
  },
  {
   "cell_type": "code",
   "execution_count": 6,
   "metadata": {
    "ExecuteTime": {
     "end_time": "2018-09-16T21:44:41.515225Z",
     "start_time": "2018-09-16T21:44:41.510793Z"
    },
    "scrolled": true
   },
   "outputs": [],
   "source": [
    "df_genres = pd.read_csv(\"genres.csv\")"
   ]
  },
  {
   "cell_type": "code",
   "execution_count": 7,
   "metadata": {
    "ExecuteTime": {
     "end_time": "2018-09-16T21:44:42.093235Z",
     "start_time": "2018-09-16T21:44:42.080984Z"
    }
   },
   "outputs": [],
   "source": [
    "class_hierarchy = {}\n",
    "for index in range(df_genres[\"genre_id\"].shape[0]):\n",
    "    try:\n",
    "        class_hierarchy[df_genres[\"parent\"].iloc[index]].append(df_genres[\"genre_id\"].iloc[index])\n",
    "    except:    \n",
    "        class_hierarchy[df_genres[\"parent\"].iloc[index]] = [df_genres[\"genre_id\"].iloc[index]]\n",
    "                     \n",
    "class_hierarchy[ROOT]=class_hierarchy[0]\n",
    "del class_hierarchy[0]"
   ]
  },
  {
   "cell_type": "markdown",
   "metadata": {},
   "source": [
    "### Hierarchical classification with SVM"
   ]
  },
  {
   "cell_type": "code",
   "execution_count": 8,
   "metadata": {
    "ExecuteTime": {
     "end_time": "2018-09-16T21:44:43.675862Z",
     "start_time": "2018-09-16T21:44:43.667496Z"
    }
   },
   "outputs": [],
   "source": [
    "def Hierarchical_fit(estimator, class_hierarchy, X_train_sca, y_train, X_test_sca, y_test, stopping_criteria =0.5):\n",
    "    base_estimator = make_pipeline(TruncatedSVD(n_components=24),estimator)\n",
    "    clf = HierarchicalClassifier(\n",
    "                        base_estimator = base_estimator,\n",
    "                        class_hierarchy=class_hierarchy,\n",
    "                        prediction_depth=\"nmlnp\",\n",
    "                        stopping_criteria=stopping_criteria,\n",
    "#                        progress_wrapper=tqdm_notebook\n",
    "                        )\n",
    "    clf.fit(X_train_sca, y_train)\n",
    "    y_pred = clf.predict(X_test_sca)\n",
    "    y_pred_train = clf.predict(X_train_sca)    \n",
    "    return accuracy_score(y_train, y_pred_train), accuracy_score(y_test, y_pred)"
   ]
  },
  {
   "cell_type": "code",
   "execution_count": 9,
   "metadata": {
    "ExecuteTime": {
     "end_time": "2018-09-16T23:06:42.672785Z",
     "start_time": "2018-09-16T21:44:47.318381Z"
    }
   },
   "outputs": [
    {
     "name": "stderr",
     "output_type": "stream",
     "text": [
      "_train_local_classifier() - not enough training data available to train, classification in branch will terminate at node 46\n",
      "_train_local_classifier() - not enough training data available to train, classification in branch will terminate at node 79\n",
      "_train_local_classifier() - not enough training data available to train, classification in branch will terminate at node 86\n",
      "_train_local_classifier() - not enough training data available to train, classification in branch will terminate at node 92\n",
      "_train_local_classifier() - not enough training data available to train, classification in branch will terminate at node 102\n",
      "_train_local_classifier() - not enough training data available to train, classification in branch will terminate at node 130\n",
      "_train_local_classifier() - not enough training data available to train, classification in branch will terminate at node 3\n",
      "_train_local_classifier() - not enough training data available to train, classification in branch will terminate at node 4\n",
      "_train_local_classifier() - not enough training data available to train, classification in branch will terminate at node 9\n",
      "_train_local_classifier() - not enough training data available to train, classification in branch will terminate at node 651\n",
      "_train_local_classifier() - not enough training data available to train, classification in branch will terminate at node 109\n",
      "_train_local_classifier() - not enough training data available to train, classification in branch will terminate at node 26\n",
      "_train_local_classifier() - not enough training data available to train, classification in branch will terminate at node 45\n",
      "_train_local_classifier() - not enough training data available to train, classification in branch will terminate at node 53\n",
      "_train_local_classifier() - not enough training data available to train, classification in branch will terminate at node 85\n",
      "_train_local_classifier() - not enough training data available to train, classification in branch will terminate at node 13\n",
      "_train_local_classifier() - not enough training data available to train, classification in branch will terminate at node 14\n",
      "_train_local_classifier() - not enough training data available to train, classification in branch will terminate at node 19\n",
      "_train_local_classifier() - not enough training data available to train, classification in branch will terminate at node 181\n",
      "_train_local_classifier() - not enough training data available to train, classification in branch will terminate at node 182\n",
      "_train_local_classifier() - not enough training data available to train, classification in branch will terminate at node 468\n",
      "_train_local_classifier() - not enough training data available to train, classification in branch will terminate at node 65\n",
      "_train_local_classifier() - not enough training data available to train, classification in branch will terminate at node 6\n",
      "_train_local_classifier() - not enough training data available to train, classification in branch will terminate at node 16\n",
      "_train_local_classifier() - not enough training data available to train, classification in branch will terminate at node 763\n",
      "_train_local_classifier() - not enough training data available to train, classification in branch will terminate at node 46\n",
      "_train_local_classifier() - not enough training data available to train, classification in branch will terminate at node 79\n",
      "_train_local_classifier() - not enough training data available to train, classification in branch will terminate at node 86\n",
      "_train_local_classifier() - not enough training data available to train, classification in branch will terminate at node 92\n",
      "_train_local_classifier() - not enough training data available to train, classification in branch will terminate at node 102\n",
      "_train_local_classifier() - not enough training data available to train, classification in branch will terminate at node 130\n",
      "_train_local_classifier() - not enough training data available to train, classification in branch will terminate at node 3\n",
      "_train_local_classifier() - not enough training data available to train, classification in branch will terminate at node 4\n",
      "_train_local_classifier() - not enough training data available to train, classification in branch will terminate at node 9\n",
      "_train_local_classifier() - not enough training data available to train, classification in branch will terminate at node 651\n",
      "_train_local_classifier() - not enough training data available to train, classification in branch will terminate at node 109\n",
      "_train_local_classifier() - not enough training data available to train, classification in branch will terminate at node 26\n",
      "_train_local_classifier() - not enough training data available to train, classification in branch will terminate at node 45\n",
      "_train_local_classifier() - not enough training data available to train, classification in branch will terminate at node 53\n",
      "_train_local_classifier() - not enough training data available to train, classification in branch will terminate at node 85\n",
      "_train_local_classifier() - not enough training data available to train, classification in branch will terminate at node 13\n",
      "_train_local_classifier() - not enough training data available to train, classification in branch will terminate at node 14\n",
      "_train_local_classifier() - not enough training data available to train, classification in branch will terminate at node 19\n",
      "_train_local_classifier() - not enough training data available to train, classification in branch will terminate at node 181\n",
      "_train_local_classifier() - not enough training data available to train, classification in branch will terminate at node 182\n",
      "_train_local_classifier() - not enough training data available to train, classification in branch will terminate at node 468\n",
      "_train_local_classifier() - not enough training data available to train, classification in branch will terminate at node 65\n",
      "_train_local_classifier() - not enough training data available to train, classification in branch will terminate at node 6\n",
      "_train_local_classifier() - not enough training data available to train, classification in branch will terminate at node 16\n",
      "_train_local_classifier() - not enough training data available to train, classification in branch will terminate at node 763\n",
      "_train_local_classifier() - not enough training data available to train, classification in branch will terminate at node 46\n",
      "_train_local_classifier() - not enough training data available to train, classification in branch will terminate at node 79\n",
      "_train_local_classifier() - not enough training data available to train, classification in branch will terminate at node 86\n",
      "_train_local_classifier() - not enough training data available to train, classification in branch will terminate at node 92\n",
      "_train_local_classifier() - not enough training data available to train, classification in branch will terminate at node 102\n",
      "_train_local_classifier() - not enough training data available to train, classification in branch will terminate at node 130\n",
      "_train_local_classifier() - not enough training data available to train, classification in branch will terminate at node 3\n",
      "_train_local_classifier() - not enough training data available to train, classification in branch will terminate at node 4\n",
      "_train_local_classifier() - not enough training data available to train, classification in branch will terminate at node 9\n",
      "_train_local_classifier() - not enough training data available to train, classification in branch will terminate at node 651\n",
      "_train_local_classifier() - not enough training data available to train, classification in branch will terminate at node 109\n",
      "_train_local_classifier() - not enough training data available to train, classification in branch will terminate at node 26\n",
      "_train_local_classifier() - not enough training data available to train, classification in branch will terminate at node 45\n",
      "_train_local_classifier() - not enough training data available to train, classification in branch will terminate at node 53\n",
      "_train_local_classifier() - not enough training data available to train, classification in branch will terminate at node 85\n",
      "_train_local_classifier() - not enough training data available to train, classification in branch will terminate at node 13\n"
     ]
    },
    {
     "name": "stderr",
     "output_type": "stream",
     "text": [
      "_train_local_classifier() - not enough training data available to train, classification in branch will terminate at node 14\n",
      "_train_local_classifier() - not enough training data available to train, classification in branch will terminate at node 19\n",
      "_train_local_classifier() - not enough training data available to train, classification in branch will terminate at node 181\n",
      "_train_local_classifier() - not enough training data available to train, classification in branch will terminate at node 182\n",
      "_train_local_classifier() - not enough training data available to train, classification in branch will terminate at node 468\n",
      "_train_local_classifier() - not enough training data available to train, classification in branch will terminate at node 65\n",
      "_train_local_classifier() - not enough training data available to train, classification in branch will terminate at node 6\n",
      "_train_local_classifier() - not enough training data available to train, classification in branch will terminate at node 16\n",
      "_train_local_classifier() - not enough training data available to train, classification in branch will terminate at node 763\n"
     ]
    }
   ],
   "source": [
    "results=[]\n",
    "for stopping_criteria in [0.2,0.5,0.8]:    \n",
    "    results.append([stopping_criteria, \n",
    "                    Hierarchical_fit(SVC(kernel=\"rbf\", probability=True), \n",
    "                                     class_hierarchy, X_train_sca, y_train, X_test_sca, \n",
    "                                     y_test, stopping_criteria =stopping_criteria)])"
   ]
  },
  {
   "cell_type": "code",
   "execution_count": 10,
   "metadata": {
    "ExecuteTime": {
     "end_time": "2018-09-16T23:06:43.202794Z",
     "start_time": "2018-09-16T23:06:43.194105Z"
    }
   },
   "outputs": [
    {
     "data": {
      "text/plain": [
       "[[0.2, (0.5745209764817608, 0.4489693313222725)],\n",
       " [0.5, (0.5760292721077035, 0.45098039215686275)],\n",
       " [0.8, (0.576532037316351, 0.44419306184012064)]]"
      ]
     },
     "execution_count": 10,
     "metadata": {},
     "output_type": "execute_result"
    }
   ],
   "source": [
    "results"
   ]
  },
  {
   "cell_type": "code",
   "execution_count": null,
   "metadata": {
    "ExecuteTime": {
     "start_time": "2018-09-16T23:14:23.358Z"
    }
   },
   "outputs": [
    {
     "name": "stdout",
     "output_type": "stream",
     "text": [
      "gamma: 0.001\n"
     ]
    }
   ],
   "source": [
    "results=[]\n",
    "for gamma in [0.001, 0.01, 0.1, 1, 10]:\n",
    "    print(\"gamma: \" + str(gamma))\n",
    "    for stopping_criteria in [0.2,0.5,0.8]:    \n",
    "        results.append([stopping_criteria, \n",
    "                        Hierarchical_fit(SVC(gamma=gamma, kernel=\"rbf\", probability=True), \n",
    "                                         class_hierarchy, X_train_sca, y_train, X_test_sca, \n",
    "                                         y_test, stopping_criteria =stopping_criteria)])"
   ]
  },
  {
   "cell_type": "code",
   "execution_count": null,
   "metadata": {},
   "outputs": [],
   "source": [
    "results"
   ]
  }
 ],
 "metadata": {
  "kernelspec": {
   "display_name": "Python 3",
   "language": "python",
   "name": "python3"
  },
  "language_info": {
   "codemirror_mode": {
    "name": "ipython",
    "version": 3
   },
   "file_extension": ".py",
   "mimetype": "text/x-python",
   "name": "python",
   "nbconvert_exporter": "python",
   "pygments_lexer": "ipython3",
   "version": "3.6.4"
  },
  "varInspector": {
   "cols": {
    "lenName": 16,
    "lenType": 16,
    "lenVar": 40
   },
   "kernels_config": {
    "python": {
     "delete_cmd_postfix": "",
     "delete_cmd_prefix": "del ",
     "library": "var_list.py",
     "varRefreshCmd": "print(var_dic_list())"
    },
    "r": {
     "delete_cmd_postfix": ") ",
     "delete_cmd_prefix": "rm(",
     "library": "var_list.r",
     "varRefreshCmd": "cat(var_dic_list()) "
    }
   },
   "types_to_exclude": [
    "module",
    "function",
    "builtin_function_or_method",
    "instance",
    "_Feature"
   ],
   "window_display": false
  }
 },
 "nbformat": 4,
 "nbformat_minor": 2
}
