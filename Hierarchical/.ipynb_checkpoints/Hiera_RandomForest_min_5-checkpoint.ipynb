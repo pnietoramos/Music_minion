{
 "cells": [
  {
   "cell_type": "code",
   "execution_count": 22,
   "metadata": {
    "ExecuteTime": {
     "end_time": "2018-09-14T03:42:28.383611Z",
     "start_time": "2018-09-14T03:42:28.365056Z"
    }
   },
   "outputs": [],
   "source": [
    "import pandas as pd\n",
    "import numpy as np\n",
    "import ast\n",
    "\n",
    "from sklearn.cross_validation import train_test_split\n",
    "from sklearn.preprocessing import StandardScaler\n",
    "from sklearn.model_selection import GridSearchCV\n",
    "from sklearn.metrics import accuracy_score\n",
    "from sklearn.ensemble import RandomForestClassifier\n",
    "\n",
    "from sklearn import svm\n",
    "from sklearn.decomposition import TruncatedSVD\n",
    "from sklearn.metrics import classification_report\n",
    "from sklearn.model_selection import train_test_split\n",
    "from sklearn.pipeline import make_pipeline\n",
    "\n",
    "from sklearn.metrics import classification_report\n",
    "from imblearn.over_sampling import SMOTE\n",
    "\n",
    "from sklearn_hierarchical_classification.classifier import HierarchicalClassifier\n",
    "from sklearn_hierarchical_classification.constants import ROOT\n",
    "\n",
    "from util_koyak import col_selector_hiera, grid_estimator\n",
    "from tqdm import tqdm_notebook"
   ]
  },
  {
   "cell_type": "markdown",
   "metadata": {},
   "source": [
    "#### Importing features and selecting them."
   ]
  },
  {
   "cell_type": "code",
   "execution_count": 23,
   "metadata": {
    "ExecuteTime": {
     "end_time": "2018-09-14T03:42:34.631695Z",
     "start_time": "2018-09-14T03:42:30.116187Z"
    },
    "scrolled": true
   },
   "outputs": [],
   "source": [
    "df_genre = pd.read_csv(\"features_genre_HIERA_min_5.csv\", index_col=0)\n",
    "df_mfcc_cont = col_selector_hiera(['mfcc','contrast'], df_genre)"
   ]
  },
  {
   "cell_type": "code",
   "execution_count": 24,
   "metadata": {
    "ExecuteTime": {
     "end_time": "2018-09-14T03:42:35.176697Z",
     "start_time": "2018-09-14T03:42:35.158818Z"
    }
   },
   "outputs": [
    {
     "data": {
      "text/html": [
       "<div>\n",
       "<style scoped>\n",
       "    .dataframe tbody tr th:only-of-type {\n",
       "        vertical-align: middle;\n",
       "    }\n",
       "\n",
       "    .dataframe tbody tr th {\n",
       "        vertical-align: top;\n",
       "    }\n",
       "\n",
       "    .dataframe thead th {\n",
       "        text-align: right;\n",
       "    }\n",
       "</style>\n",
       "<table border=\"1\" class=\"dataframe\">\n",
       "  <thead>\n",
       "    <tr style=\"text-align: right;\">\n",
       "      <th></th>\n",
       "      <th>('mfcc', 'kurtosis', '01')</th>\n",
       "      <th>('mfcc', 'kurtosis', '02')</th>\n",
       "      <th>('mfcc', 'kurtosis', '03')</th>\n",
       "      <th>('mfcc', 'kurtosis', '04')</th>\n",
       "      <th>('mfcc', 'kurtosis', '05')</th>\n",
       "      <th>('mfcc', 'kurtosis', '06')</th>\n",
       "      <th>('mfcc', 'kurtosis', '07')</th>\n",
       "      <th>('mfcc', 'kurtosis', '08')</th>\n",
       "      <th>('mfcc', 'kurtosis', '09')</th>\n",
       "      <th>('mfcc', 'kurtosis', '10')</th>\n",
       "      <th>...</th>\n",
       "      <th>('spectral_contrast', 'skew', '06')</th>\n",
       "      <th>('spectral_contrast', 'skew', '07')</th>\n",
       "      <th>('spectral_contrast', 'std', '01')</th>\n",
       "      <th>('spectral_contrast', 'std', '02')</th>\n",
       "      <th>('spectral_contrast', 'std', '03')</th>\n",
       "      <th>('spectral_contrast', 'std', '04')</th>\n",
       "      <th>('spectral_contrast', 'std', '05')</th>\n",
       "      <th>('spectral_contrast', 'std', '06')</th>\n",
       "      <th>('spectral_contrast', 'std', '07')</th>\n",
       "      <th>genre_selected</th>\n",
       "    </tr>\n",
       "    <tr>\n",
       "      <th>track_id</th>\n",
       "      <th></th>\n",
       "      <th></th>\n",
       "      <th></th>\n",
       "      <th></th>\n",
       "      <th></th>\n",
       "      <th></th>\n",
       "      <th></th>\n",
       "      <th></th>\n",
       "      <th></th>\n",
       "      <th></th>\n",
       "      <th></th>\n",
       "      <th></th>\n",
       "      <th></th>\n",
       "      <th></th>\n",
       "      <th></th>\n",
       "      <th></th>\n",
       "      <th></th>\n",
       "      <th></th>\n",
       "      <th></th>\n",
       "      <th></th>\n",
       "      <th></th>\n",
       "    </tr>\n",
       "  </thead>\n",
       "  <tbody>\n",
       "    <tr>\n",
       "      <th>2</th>\n",
       "      <td>3.856789</td>\n",
       "      <td>1.541901</td>\n",
       "      <td>0.000816</td>\n",
       "      <td>0.330728</td>\n",
       "      <td>0.118731</td>\n",
       "      <td>-0.342687</td>\n",
       "      <td>-0.259252</td>\n",
       "      <td>0.146735</td>\n",
       "      <td>0.410656</td>\n",
       "      <td>-0.162872</td>\n",
       "      <td>...</td>\n",
       "      <td>1.690805</td>\n",
       "      <td>-1.571900</td>\n",
       "      <td>4.541557</td>\n",
       "      <td>4.321756</td>\n",
       "      <td>3.936234</td>\n",
       "      <td>3.144537</td>\n",
       "      <td>3.310087</td>\n",
       "      <td>3.096597</td>\n",
       "      <td>7.622641</td>\n",
       "      <td>21</td>\n",
       "    </tr>\n",
       "    <tr>\n",
       "      <th>3</th>\n",
       "      <td>4.296755</td>\n",
       "      <td>1.399977</td>\n",
       "      <td>0.112535</td>\n",
       "      <td>-0.211170</td>\n",
       "      <td>0.032953</td>\n",
       "      <td>-0.023489</td>\n",
       "      <td>0.150404</td>\n",
       "      <td>0.046454</td>\n",
       "      <td>0.033484</td>\n",
       "      <td>-0.064596</td>\n",
       "      <td>...</td>\n",
       "      <td>0.391984</td>\n",
       "      <td>-1.461130</td>\n",
       "      <td>4.430571</td>\n",
       "      <td>4.517010</td>\n",
       "      <td>4.631938</td>\n",
       "      <td>3.747272</td>\n",
       "      <td>4.085845</td>\n",
       "      <td>3.351878</td>\n",
       "      <td>7.611158</td>\n",
       "      <td>21</td>\n",
       "    </tr>\n",
       "    <tr>\n",
       "      <th>5</th>\n",
       "      <td>2.624517</td>\n",
       "      <td>2.415293</td>\n",
       "      <td>0.440233</td>\n",
       "      <td>-0.782131</td>\n",
       "      <td>-0.771069</td>\n",
       "      <td>-0.724216</td>\n",
       "      <td>0.090260</td>\n",
       "      <td>0.152119</td>\n",
       "      <td>0.261731</td>\n",
       "      <td>-0.608905</td>\n",
       "      <td>...</td>\n",
       "      <td>0.366885</td>\n",
       "      <td>-1.271206</td>\n",
       "      <td>4.942019</td>\n",
       "      <td>4.376371</td>\n",
       "      <td>4.262785</td>\n",
       "      <td>3.190465</td>\n",
       "      <td>3.102941</td>\n",
       "      <td>3.087401</td>\n",
       "      <td>8.494939</td>\n",
       "      <td>21</td>\n",
       "    </tr>\n",
       "    <tr>\n",
       "      <th>10</th>\n",
       "      <td>5.076893</td>\n",
       "      <td>1.161854</td>\n",
       "      <td>2.095651</td>\n",
       "      <td>1.372743</td>\n",
       "      <td>-0.203574</td>\n",
       "      <td>-0.345354</td>\n",
       "      <td>-0.529139</td>\n",
       "      <td>0.561974</td>\n",
       "      <td>0.281350</td>\n",
       "      <td>-0.150672</td>\n",
       "      <td>...</td>\n",
       "      <td>1.257145</td>\n",
       "      <td>-0.592026</td>\n",
       "      <td>5.561779</td>\n",
       "      <td>4.008956</td>\n",
       "      <td>3.690036</td>\n",
       "      <td>2.646124</td>\n",
       "      <td>3.457347</td>\n",
       "      <td>4.693093</td>\n",
       "      <td>8.396724</td>\n",
       "      <td>10</td>\n",
       "    </tr>\n",
       "    <tr>\n",
       "      <th>134</th>\n",
       "      <td>1.559808</td>\n",
       "      <td>0.840775</td>\n",
       "      <td>-0.171289</td>\n",
       "      <td>-0.265671</td>\n",
       "      <td>-0.279361</td>\n",
       "      <td>0.190866</td>\n",
       "      <td>-0.192000</td>\n",
       "      <td>0.422766</td>\n",
       "      <td>0.044087</td>\n",
       "      <td>-0.003510</td>\n",
       "      <td>...</td>\n",
       "      <td>0.683411</td>\n",
       "      <td>-0.736473</td>\n",
       "      <td>4.736264</td>\n",
       "      <td>4.715623</td>\n",
       "      <td>4.440975</td>\n",
       "      <td>3.465022</td>\n",
       "      <td>3.858569</td>\n",
       "      <td>3.905518</td>\n",
       "      <td>8.469674</td>\n",
       "      <td>21</td>\n",
       "    </tr>\n",
       "  </tbody>\n",
       "</table>\n",
       "<p>5 rows × 190 columns</p>\n",
       "</div>"
      ],
      "text/plain": [
       "          ('mfcc', 'kurtosis', '01')  ('mfcc', 'kurtosis', '02')  \\\n",
       "track_id                                                           \n",
       "2                           3.856789                    1.541901   \n",
       "3                           4.296755                    1.399977   \n",
       "5                           2.624517                    2.415293   \n",
       "10                          5.076893                    1.161854   \n",
       "134                         1.559808                    0.840775   \n",
       "\n",
       "          ('mfcc', 'kurtosis', '03')  ('mfcc', 'kurtosis', '04')  \\\n",
       "track_id                                                           \n",
       "2                           0.000816                    0.330728   \n",
       "3                           0.112535                   -0.211170   \n",
       "5                           0.440233                   -0.782131   \n",
       "10                          2.095651                    1.372743   \n",
       "134                        -0.171289                   -0.265671   \n",
       "\n",
       "          ('mfcc', 'kurtosis', '05')  ('mfcc', 'kurtosis', '06')  \\\n",
       "track_id                                                           \n",
       "2                           0.118731                   -0.342687   \n",
       "3                           0.032953                   -0.023489   \n",
       "5                          -0.771069                   -0.724216   \n",
       "10                         -0.203574                   -0.345354   \n",
       "134                        -0.279361                    0.190866   \n",
       "\n",
       "          ('mfcc', 'kurtosis', '07')  ('mfcc', 'kurtosis', '08')  \\\n",
       "track_id                                                           \n",
       "2                          -0.259252                    0.146735   \n",
       "3                           0.150404                    0.046454   \n",
       "5                           0.090260                    0.152119   \n",
       "10                         -0.529139                    0.561974   \n",
       "134                        -0.192000                    0.422766   \n",
       "\n",
       "          ('mfcc', 'kurtosis', '09')  ('mfcc', 'kurtosis', '10')  \\\n",
       "track_id                                                           \n",
       "2                           0.410656                   -0.162872   \n",
       "3                           0.033484                   -0.064596   \n",
       "5                           0.261731                   -0.608905   \n",
       "10                          0.281350                   -0.150672   \n",
       "134                         0.044087                   -0.003510   \n",
       "\n",
       "               ...        ('spectral_contrast', 'skew', '06')  \\\n",
       "track_id       ...                                              \n",
       "2              ...                                   1.690805   \n",
       "3              ...                                   0.391984   \n",
       "5              ...                                   0.366885   \n",
       "10             ...                                   1.257145   \n",
       "134            ...                                   0.683411   \n",
       "\n",
       "          ('spectral_contrast', 'skew', '07')  \\\n",
       "track_id                                        \n",
       "2                                   -1.571900   \n",
       "3                                   -1.461130   \n",
       "5                                   -1.271206   \n",
       "10                                  -0.592026   \n",
       "134                                 -0.736473   \n",
       "\n",
       "          ('spectral_contrast', 'std', '01')  \\\n",
       "track_id                                       \n",
       "2                                   4.541557   \n",
       "3                                   4.430571   \n",
       "5                                   4.942019   \n",
       "10                                  5.561779   \n",
       "134                                 4.736264   \n",
       "\n",
       "          ('spectral_contrast', 'std', '02')  \\\n",
       "track_id                                       \n",
       "2                                   4.321756   \n",
       "3                                   4.517010   \n",
       "5                                   4.376371   \n",
       "10                                  4.008956   \n",
       "134                                 4.715623   \n",
       "\n",
       "          ('spectral_contrast', 'std', '03')  \\\n",
       "track_id                                       \n",
       "2                                   3.936234   \n",
       "3                                   4.631938   \n",
       "5                                   4.262785   \n",
       "10                                  3.690036   \n",
       "134                                 4.440975   \n",
       "\n",
       "          ('spectral_contrast', 'std', '04')  \\\n",
       "track_id                                       \n",
       "2                                   3.144537   \n",
       "3                                   3.747272   \n",
       "5                                   3.190465   \n",
       "10                                  2.646124   \n",
       "134                                 3.465022   \n",
       "\n",
       "          ('spectral_contrast', 'std', '05')  \\\n",
       "track_id                                       \n",
       "2                                   3.310087   \n",
       "3                                   4.085845   \n",
       "5                                   3.102941   \n",
       "10                                  3.457347   \n",
       "134                                 3.858569   \n",
       "\n",
       "          ('spectral_contrast', 'std', '06')  \\\n",
       "track_id                                       \n",
       "2                                   3.096597   \n",
       "3                                   3.351878   \n",
       "5                                   3.087401   \n",
       "10                                  4.693093   \n",
       "134                                 3.905518   \n",
       "\n",
       "          ('spectral_contrast', 'std', '07')  genre_selected  \n",
       "track_id                                                      \n",
       "2                                   7.622641              21  \n",
       "3                                   7.611158              21  \n",
       "5                                   8.494939              21  \n",
       "10                                  8.396724              10  \n",
       "134                                 8.469674              21  \n",
       "\n",
       "[5 rows x 190 columns]"
      ]
     },
     "execution_count": 24,
     "metadata": {},
     "output_type": "execute_result"
    }
   ],
   "source": [
    "df_mfcc_cont.head()"
   ]
  },
  {
   "cell_type": "code",
   "execution_count": 25,
   "metadata": {
    "ExecuteTime": {
     "end_time": "2018-09-14T03:42:35.700475Z",
     "start_time": "2018-09-14T03:42:35.670785Z"
    }
   },
   "outputs": [],
   "source": [
    "X = df_mfcc_cont.drop(\"genre_selected\",axis=1)\n",
    "y = df_mfcc_cont[\"genre_selected\"]"
   ]
  },
  {
   "cell_type": "code",
   "execution_count": 26,
   "metadata": {
    "ExecuteTime": {
     "end_time": "2018-09-14T03:43:02.477563Z",
     "start_time": "2018-09-14T03:43:02.309501Z"
    }
   },
   "outputs": [],
   "source": [
    "X_train, X_test, y_train, y_test = train_test_split(X, y, stratify=y, test_size=.10, random_state=4444)"
   ]
  },
  {
   "cell_type": "code",
   "execution_count": 27,
   "metadata": {
    "ExecuteTime": {
     "end_time": "2018-09-14T03:43:03.290349Z",
     "start_time": "2018-09-14T03:43:03.122358Z"
    }
   },
   "outputs": [],
   "source": [
    "sca = StandardScaler()\n",
    "X_train_sca = sca.fit_transform(X_train)\n",
    "X_test_sca = sca.transform(X_test);"
   ]
  },
  {
   "cell_type": "markdown",
   "metadata": {},
   "source": [
    "Creating the class hierarchy"
   ]
  },
  {
   "cell_type": "code",
   "execution_count": 28,
   "metadata": {
    "ExecuteTime": {
     "end_time": "2018-09-14T03:43:13.358472Z",
     "start_time": "2018-09-14T03:43:13.352406Z"
    },
    "scrolled": true
   },
   "outputs": [],
   "source": [
    "df_genres = pd.read_csv(\"genres.csv\")"
   ]
  },
  {
   "cell_type": "code",
   "execution_count": 29,
   "metadata": {
    "ExecuteTime": {
     "end_time": "2018-09-14T03:43:13.985441Z",
     "start_time": "2018-09-14T03:43:13.974941Z"
    }
   },
   "outputs": [],
   "source": [
    "class_hierarchy = {}\n",
    "for index in range(df_genres[\"genre_id\"].shape[0]):\n",
    "    try:\n",
    "        class_hierarchy[df_genres[\"parent\"].iloc[index]].append(df_genres[\"genre_id\"].iloc[index])\n",
    "    except:    \n",
    "        class_hierarchy[df_genres[\"parent\"].iloc[index]] = [df_genres[\"genre_id\"].iloc[index]]\n",
    "                     \n",
    "class_hierarchy[ROOT]=class_hierarchy[0]\n",
    "del class_hierarchy[0]"
   ]
  },
  {
   "cell_type": "markdown",
   "metadata": {},
   "source": [
    "### Hierarchical classification"
   ]
  },
  {
   "cell_type": "code",
   "execution_count": 31,
   "metadata": {
    "ExecuteTime": {
     "end_time": "2018-09-14T03:43:16.715646Z",
     "start_time": "2018-09-14T03:43:16.713273Z"
    }
   },
   "outputs": [],
   "source": [
    "base_estimator = make_pipeline(\n",
    " #   TruncatedSVD(n_components=100),\n",
    "    RandomForestClassifier()\n",
    "    )"
   ]
  },
  {
   "cell_type": "code",
   "execution_count": 32,
   "metadata": {
    "ExecuteTime": {
     "end_time": "2018-09-14T03:43:17.596049Z",
     "start_time": "2018-09-14T03:43:17.590536Z"
    }
   },
   "outputs": [],
   "source": [
    "clf = HierarchicalClassifier(\n",
    "    base_estimator = base_estimator,\n",
    "     class_hierarchy=class_hierarchy,\n",
    "    progress_wrapper=tqdm_notebook)\n"
   ]
  },
  {
   "cell_type": "code",
   "execution_count": 33,
   "metadata": {
    "ExecuteTime": {
     "end_time": "2018-09-14T03:44:32.599876Z",
     "start_time": "2018-09-14T03:43:19.512055Z"
    },
    "scrolled": true
   },
   "outputs": [
    {
     "data": {
      "application/vnd.jupyter.widget-view+json": {
       "model_id": "96c865ab9ece459885723e3515392058",
       "version_major": 2,
       "version_minor": 0
      },
      "text/html": [
       "<p>Failed to display Jupyter Widget of type <code>HBox</code>.</p>\n",
       "<p>\n",
       "  If you're reading this message in the Jupyter Notebook or JupyterLab Notebook, it may mean\n",
       "  that the widgets JavaScript is still loading. If this message persists, it\n",
       "  likely means that the widgets JavaScript library is either not installed or\n",
       "  not enabled. See the <a href=\"https://ipywidgets.readthedocs.io/en/stable/user_install.html\">Jupyter\n",
       "  Widgets Documentation</a> for setup instructions.\n",
       "</p>\n",
       "<p>\n",
       "  If you're reading this message in another frontend (for example, a static\n",
       "  rendering on GitHub or <a href=\"https://nbviewer.jupyter.org/\">NBViewer</a>),\n",
       "  it may mean that your frontend doesn't currently support widgets.\n",
       "</p>\n"
      ],
      "text/plain": [
       "HBox(children=(IntProgress(value=0, description='Building features', max=164), HTML(value='')))"
      ]
     },
     "metadata": {},
     "output_type": "display_data"
    },
    {
     "name": "stdout",
     "output_type": "stream",
     "text": [
      "\n"
     ]
    },
    {
     "data": {
      "application/vnd.jupyter.widget-view+json": {
       "model_id": "52809699be2e49c9818288c245c4c943",
       "version_major": 2,
       "version_minor": 0
      },
      "text/html": [
       "<p>Failed to display Jupyter Widget of type <code>HBox</code>.</p>\n",
       "<p>\n",
       "  If you're reading this message in the Jupyter Notebook or JupyterLab Notebook, it may mean\n",
       "  that the widgets JavaScript is still loading. If this message persists, it\n",
       "  likely means that the widgets JavaScript library is either not installed or\n",
       "  not enabled. See the <a href=\"https://ipywidgets.readthedocs.io/en/stable/user_install.html\">Jupyter\n",
       "  Widgets Documentation</a> for setup instructions.\n",
       "</p>\n",
       "<p>\n",
       "  If you're reading this message in another frontend (for example, a static\n",
       "  rendering on GitHub or <a href=\"https://nbviewer.jupyter.org/\">NBViewer</a>),\n",
       "  it may mean that your frontend doesn't currently support widgets.\n",
       "</p>\n"
      ],
      "text/plain": [
       "HBox(children=(IntProgress(value=0, description='Training base classifiers', max=164), HTML(value='')))"
      ]
     },
     "metadata": {},
     "output_type": "display_data"
    },
    {
     "name": "stderr",
     "output_type": "stream",
     "text": [
      "_train_local_classifier() - not enough training data available to train, classification in branch will terminate at node 86\n",
      "_train_local_classifier() - not enough training data available to train, classification in branch will terminate at node 3\n",
      "_train_local_classifier() - not enough training data available to train, classification in branch will terminate at node 651\n",
      "_train_local_classifier() - not enough training data available to train, classification in branch will terminate at node 109\n",
      "_train_local_classifier() - not enough training data available to train, classification in branch will terminate at node 19\n",
      "_train_local_classifier() - not enough training data available to train, classification in branch will terminate at node 181\n",
      "_train_local_classifier() - not enough training data available to train, classification in branch will terminate at node 468\n",
      "_train_local_classifier() - not enough training data available to train, classification in branch will terminate at node 16\n",
      "_train_local_classifier() - not enough training data available to train, classification in branch will terminate at node 763\n"
     ]
    },
    {
     "name": "stdout",
     "output_type": "stream",
     "text": [
      "\n"
     ]
    }
   ],
   "source": [
    "clf.fit(X_train_sca, y_train)\n",
    "y_pred = clf.predict(X_test)"
   ]
  },
  {
   "cell_type": "code",
   "execution_count": 34,
   "metadata": {
    "ExecuteTime": {
     "end_time": "2018-09-14T03:44:33.082068Z",
     "start_time": "2018-09-14T03:44:33.077983Z"
    }
   },
   "outputs": [
    {
     "data": {
      "text/plain": [
       "0.21383352872215708"
      ]
     },
     "execution_count": 34,
     "metadata": {},
     "output_type": "execute_result"
    }
   ],
   "source": [
    "accuracy_score(y_test, y_pred)"
   ]
  },
  {
   "cell_type": "code",
   "execution_count": 35,
   "metadata": {
    "ExecuteTime": {
     "end_time": "2018-09-14T03:45:23.536609Z",
     "start_time": "2018-09-14T03:44:33.535861Z"
    }
   },
   "outputs": [
    {
     "data": {
      "text/plain": [
       "0.21363067944977074"
      ]
     },
     "execution_count": 35,
     "metadata": {},
     "output_type": "execute_result"
    }
   ],
   "source": [
    "y_pred_train = clf.predict(X_train)\n",
    "accuracy_score(y_train, y_pred_train)"
   ]
  },
  {
   "cell_type": "code",
   "execution_count": 36,
   "metadata": {
    "ExecuteTime": {
     "end_time": "2018-09-14T03:48:36.364191Z",
     "start_time": "2018-09-14T03:48:36.360796Z"
    }
   },
   "outputs": [],
   "source": [
    "base_estimator = make_pipeline(\n",
    "    TruncatedSVD(n_components=100),\n",
    "    RandomForestClassifier()\n",
    "    )"
   ]
  },
  {
   "cell_type": "code",
   "execution_count": 37,
   "metadata": {
    "ExecuteTime": {
     "end_time": "2018-09-14T03:48:37.084345Z",
     "start_time": "2018-09-14T03:48:37.082080Z"
    }
   },
   "outputs": [],
   "source": [
    "clf = HierarchicalClassifier(\n",
    "    base_estimator = base_estimator,\n",
    "     class_hierarchy=class_hierarchy,\n",
    "    progress_wrapper=tqdm_notebook)\n"
   ]
  },
  {
   "cell_type": "code",
   "execution_count": 38,
   "metadata": {
    "ExecuteTime": {
     "end_time": "2018-09-14T03:50:13.542646Z",
     "start_time": "2018-09-14T03:48:37.717242Z"
    },
    "scrolled": true
   },
   "outputs": [
    {
     "data": {
      "application/vnd.jupyter.widget-view+json": {
       "model_id": "38c2590006eb42e29846dd18f3d36f41",
       "version_major": 2,
       "version_minor": 0
      },
      "text/html": [
       "<p>Failed to display Jupyter Widget of type <code>HBox</code>.</p>\n",
       "<p>\n",
       "  If you're reading this message in the Jupyter Notebook or JupyterLab Notebook, it may mean\n",
       "  that the widgets JavaScript is still loading. If this message persists, it\n",
       "  likely means that the widgets JavaScript library is either not installed or\n",
       "  not enabled. See the <a href=\"https://ipywidgets.readthedocs.io/en/stable/user_install.html\">Jupyter\n",
       "  Widgets Documentation</a> for setup instructions.\n",
       "</p>\n",
       "<p>\n",
       "  If you're reading this message in another frontend (for example, a static\n",
       "  rendering on GitHub or <a href=\"https://nbviewer.jupyter.org/\">NBViewer</a>),\n",
       "  it may mean that your frontend doesn't currently support widgets.\n",
       "</p>\n"
      ],
      "text/plain": [
       "HBox(children=(IntProgress(value=0, description='Building features', max=164), HTML(value='')))"
      ]
     },
     "metadata": {},
     "output_type": "display_data"
    },
    {
     "name": "stdout",
     "output_type": "stream",
     "text": [
      "\n"
     ]
    },
    {
     "data": {
      "application/vnd.jupyter.widget-view+json": {
       "model_id": "29f3a252118d4fe9a33d38b96f24f0e7",
       "version_major": 2,
       "version_minor": 0
      },
      "text/html": [
       "<p>Failed to display Jupyter Widget of type <code>HBox</code>.</p>\n",
       "<p>\n",
       "  If you're reading this message in the Jupyter Notebook or JupyterLab Notebook, it may mean\n",
       "  that the widgets JavaScript is still loading. If this message persists, it\n",
       "  likely means that the widgets JavaScript library is either not installed or\n",
       "  not enabled. See the <a href=\"https://ipywidgets.readthedocs.io/en/stable/user_install.html\">Jupyter\n",
       "  Widgets Documentation</a> for setup instructions.\n",
       "</p>\n",
       "<p>\n",
       "  If you're reading this message in another frontend (for example, a static\n",
       "  rendering on GitHub or <a href=\"https://nbviewer.jupyter.org/\">NBViewer</a>),\n",
       "  it may mean that your frontend doesn't currently support widgets.\n",
       "</p>\n"
      ],
      "text/plain": [
       "HBox(children=(IntProgress(value=0, description='Training base classifiers', max=164), HTML(value='')))"
      ]
     },
     "metadata": {},
     "output_type": "display_data"
    },
    {
     "name": "stderr",
     "output_type": "stream",
     "text": [
      "_train_local_classifier() - not enough training data available to train, classification in branch will terminate at node 86\n",
      "_train_local_classifier() - not enough training data available to train, classification in branch will terminate at node 3\n",
      "_train_local_classifier() - not enough training data available to train, classification in branch will terminate at node 651\n",
      "_train_local_classifier() - not enough training data available to train, classification in branch will terminate at node 109\n",
      "_train_local_classifier() - not enough training data available to train, classification in branch will terminate at node 19\n",
      "_train_local_classifier() - not enough training data available to train, classification in branch will terminate at node 181\n",
      "_train_local_classifier() - not enough training data available to train, classification in branch will terminate at node 468\n",
      "_train_local_classifier() - not enough training data available to train, classification in branch will terminate at node 16\n",
      "_train_local_classifier() - not enough training data available to train, classification in branch will terminate at node 763\n"
     ]
    },
    {
     "name": "stdout",
     "output_type": "stream",
     "text": [
      "\n"
     ]
    }
   ],
   "source": [
    "clf.fit(X_train_sca, y_train)\n",
    "y_pred = clf.predict(X_test)"
   ]
  },
  {
   "cell_type": "code",
   "execution_count": 39,
   "metadata": {
    "ExecuteTime": {
     "end_time": "2018-09-14T03:50:14.250073Z",
     "start_time": "2018-09-14T03:50:14.246623Z"
    }
   },
   "outputs": [
    {
     "data": {
      "text/plain": [
       "0.03610785463071512"
      ]
     },
     "execution_count": 39,
     "metadata": {},
     "output_type": "execute_result"
    }
   ],
   "source": [
    "accuracy_score(y_test, y_pred)"
   ]
  },
  {
   "cell_type": "code",
   "execution_count": 40,
   "metadata": {
    "ExecuteTime": {
     "end_time": "2018-09-14T03:51:52.606796Z",
     "start_time": "2018-09-14T03:50:14.851628Z"
    }
   },
   "outputs": [
    {
     "data": {
      "text/plain": [
       "0.036551688203418094"
      ]
     },
     "execution_count": 40,
     "metadata": {},
     "output_type": "execute_result"
    }
   ],
   "source": [
    "y_pred_train = clf.predict(X_train)\n",
    "accuracy_score(y_train, y_pred_train)"
   ]
  },
  {
   "cell_type": "code",
   "execution_count": null,
   "metadata": {},
   "outputs": [],
   "source": []
  }
 ],
 "metadata": {
  "kernelspec": {
   "display_name": "Python 3",
   "language": "python",
   "name": "python3"
  },
  "language_info": {
   "codemirror_mode": {
    "name": "ipython",
    "version": 3
   },
   "file_extension": ".py",
   "mimetype": "text/x-python",
   "name": "python",
   "nbconvert_exporter": "python",
   "pygments_lexer": "ipython3",
   "version": "3.6.4"
  },
  "varInspector": {
   "cols": {
    "lenName": 16,
    "lenType": 16,
    "lenVar": 40
   },
   "kernels_config": {
    "python": {
     "delete_cmd_postfix": "",
     "delete_cmd_prefix": "del ",
     "library": "var_list.py",
     "varRefreshCmd": "print(var_dic_list())"
    },
    "r": {
     "delete_cmd_postfix": ") ",
     "delete_cmd_prefix": "rm(",
     "library": "var_list.r",
     "varRefreshCmd": "cat(var_dic_list()) "
    }
   },
   "types_to_exclude": [
    "module",
    "function",
    "builtin_function_or_method",
    "instance",
    "_Feature"
   ],
   "window_display": false
  }
 },
 "nbformat": 4,
 "nbformat_minor": 2
}
