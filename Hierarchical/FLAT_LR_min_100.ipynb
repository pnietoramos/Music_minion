{
 "cells": [
  {
   "cell_type": "markdown",
   "metadata": {},
   "source": [
    "### Flat classification for 50 genres"
   ]
  },
  {
   "cell_type": "code",
   "execution_count": 21,
   "metadata": {
    "ExecuteTime": {
     "end_time": "2018-09-16T23:41:18.742053Z",
     "start_time": "2018-09-16T23:41:18.732999Z"
    }
   },
   "outputs": [],
   "source": [
    "import pandas as pd\n",
    "import numpy as np\n",
    "import ast\n",
    "\n",
    "from sklearn.cross_validation import train_test_split\n",
    "from sklearn.preprocessing import StandardScaler\n",
    "from sklearn.model_selection import GridSearchCV\n",
    "from sklearn.metrics import accuracy_score\n",
    "from sklearn.linear_model import LogisticRegression\n",
    "\n",
    "from sklearn.metrics import classification_report\n",
    "from imblearn.over_sampling import SMOTE\n",
    "\n",
    "from util_koyak import col_selector_hiera, grid_estimator\n",
    "\n",
    "import warnings; warnings.simplefilter('ignore')"
   ]
  },
  {
   "cell_type": "code",
   "execution_count": 9,
   "metadata": {
    "ExecuteTime": {
     "end_time": "2018-09-16T19:57:44.702550Z",
     "start_time": "2018-09-16T19:57:44.536943Z"
    }
   },
   "outputs": [],
   "source": [
    "from sklearn.metrics import confusion_matrix\n",
    "import matplotlib.pyplot as plt\n",
    "import seaborn as sns\n",
    "plt.style.use(\"seaborn\")\n",
    "%matplotlib inline"
   ]
  },
  {
   "cell_type": "code",
   "execution_count": 10,
   "metadata": {
    "ExecuteTime": {
     "end_time": "2018-09-16T19:57:44.986344Z",
     "start_time": "2018-09-16T19:57:44.980745Z"
    }
   },
   "outputs": [],
   "source": [
    "def conf_plot(y, y_pred):\n",
    "    plt.figure(dpi=180)\n",
    "    sns.heatmap(confusion_matrix(y, y_pred), cmap=plt.cm.Blues, annot=True, square=True, fmt='d', annot_kws={\"size\": 15});\n",
    "    plt.xlabel('prediction')\n",
    "    plt.ylabel('actual');"
   ]
  },
  {
   "cell_type": "markdown",
   "metadata": {},
   "source": [
    "#### Importing features and selecting them."
   ]
  },
  {
   "cell_type": "code",
   "execution_count": 3,
   "metadata": {
    "ExecuteTime": {
     "end_time": "2018-09-16T19:09:41.545292Z",
     "start_time": "2018-09-16T19:09:37.010529Z"
    },
    "scrolled": true
   },
   "outputs": [],
   "source": [
    "df_genre = pd.read_csv(\"features_genre_HIERA_min_100.csv\", index_col=0)\n",
    "df_mfcc_cont = col_selector_hiera(['mfcc','contrast'], df_genre)"
   ]
  },
  {
   "cell_type": "code",
   "execution_count": 4,
   "metadata": {
    "ExecuteTime": {
     "end_time": "2018-09-16T19:09:41.741172Z",
     "start_time": "2018-09-16T19:09:41.706554Z"
    }
   },
   "outputs": [],
   "source": [
    "X = df_mfcc_cont.drop(\"genre_selected\",axis=1)\n",
    "y = df_mfcc_cont[\"genre_selected\"]"
   ]
  },
  {
   "cell_type": "code",
   "execution_count": 5,
   "metadata": {
    "ExecuteTime": {
     "end_time": "2018-09-16T19:09:42.054456Z",
     "start_time": "2018-09-16T19:09:41.970865Z"
    }
   },
   "outputs": [],
   "source": [
    "X_train, X_test, y_train, y_test = train_test_split(X, y, stratify=y, test_size=.10, random_state=4444)"
   ]
  },
  {
   "cell_type": "code",
   "execution_count": 6,
   "metadata": {
    "ExecuteTime": {
     "end_time": "2018-09-16T19:09:42.641822Z",
     "start_time": "2018-09-16T19:09:42.414480Z"
    }
   },
   "outputs": [],
   "source": [
    "sca = StandardScaler()\n",
    "X_train_sca = sca.fit_transform(X_train)\n",
    "X_test_sca = sca.transform(X_test);"
   ]
  },
  {
   "cell_type": "code",
   "execution_count": 7,
   "metadata": {
    "ExecuteTime": {
     "end_time": "2018-09-16T19:43:57.467941Z",
     "start_time": "2018-09-16T19:09:42.948394Z"
    }
   },
   "outputs": [
    {
     "name": "stdout",
     "output_type": "stream",
     "text": [
      "Accuracy training: 0.5001396570024021\n",
      "Accuracy test: 0.49421820010055306\n",
      "LogisticRegression(C=1.0, class_weight=None, dual=False, fit_intercept=True,\n",
      "          intercept_scaling=1, max_iter=100, multi_class='ovr', n_jobs=1,\n",
      "          penalty='l2', random_state=None, solver='liblinear', tol=0.0001,\n",
      "          verbose=0, warm_start=False)\n"
     ]
    }
   ],
   "source": [
    "param_grid = {}\n",
    "grid_estimator(LogisticRegression(), param_grid, X_train_sca, y_train, X_test_sca, y_test)"
   ]
  },
  {
   "cell_type": "code",
   "execution_count": null,
   "metadata": {
    "ExecuteTime": {
     "end_time": "2018-09-16T20:03:01.509404Z",
     "start_time": "2018-09-16T19:57:53.771891Z"
    }
   },
   "outputs": [],
   "source": [
    "LR = LogisticRegression()\n",
    "LR.fit(X_train_sca, y_train)\n",
    "y_pred = LR.predict(X_test_sca)"
   ]
  },
  {
   "cell_type": "code",
   "execution_count": 12,
   "metadata": {
    "ExecuteTime": {
     "end_time": "2018-09-16T20:03:01.746053Z",
     "start_time": "2018-09-16T20:03:01.742292Z"
    }
   },
   "outputs": [
    {
     "data": {
      "text/plain": [
       "0.49421820010055306"
      ]
     },
     "execution_count": 12,
     "metadata": {},
     "output_type": "execute_result"
    }
   ],
   "source": [
    "accuracy_score(y_test, y_pred)"
   ]
  },
  {
   "cell_type": "code",
   "execution_count": 13,
   "metadata": {
    "ExecuteTime": {
     "end_time": "2018-09-16T20:03:02.015350Z",
     "start_time": "2018-09-16T20:03:01.959861Z"
    },
    "scrolled": true
   },
   "outputs": [
    {
     "data": {
      "text/plain": [
       "0.5226244343891403"
      ]
     },
     "execution_count": 13,
     "metadata": {},
     "output_type": "execute_result"
    }
   ],
   "source": [
    "LR.score(X_train_sca,y_train)"
   ]
  },
  {
   "cell_type": "code",
   "execution_count": 17,
   "metadata": {
    "ExecuteTime": {
     "end_time": "2018-09-16T22:54:06.251347Z",
     "start_time": "2018-09-16T22:13:58.460823Z"
    }
   },
   "outputs": [],
   "source": [
    "results = []\n",
    "for C in np.logspace(-2,1,6):\n",
    "    LR = LogisticRegression(C=C)\n",
    "    LR.fit(X_train_sca, y_train)\n",
    "    y_pred = LR.predict(X_test_sca)\n",
    "    results.append([C,accuracy_score(y_test, y_pred),LR.score(X_train_sca,y_train)])"
   ]
  },
  {
   "cell_type": "code",
   "execution_count": 18,
   "metadata": {
    "ExecuteTime": {
     "end_time": "2018-09-16T22:54:06.644926Z",
     "start_time": "2018-09-16T22:54:06.637957Z"
    }
   },
   "outputs": [
    {
     "data": {
      "text/plain": [
       "[[0.01, 0.47863247863247865, 0.48838053740014525],\n",
       " [0.039810717055349734, 0.48893916540975363, 0.5029327970504441],\n",
       " [0.15848931924611134, 0.497737556561086, 0.514831573655103],\n",
       " [0.630957344480193, 0.4959778783308195, 0.5213116585665605],\n",
       " [2.5118864315095797, 0.4937154348919055, 0.5253896430367019],\n",
       " [10.0, 0.4917043740573152, 0.52726104686889]]"
      ]
     },
     "execution_count": 18,
     "metadata": {},
     "output_type": "execute_result"
    }
   ],
   "source": [
    "results"
   ]
  },
  {
   "cell_type": "code",
   "execution_count": 19,
   "metadata": {
    "ExecuteTime": {
     "end_time": "2018-09-16T23:32:36.175372Z",
     "start_time": "2018-09-16T22:59:17.748088Z"
    }
   },
   "outputs": [],
   "source": [
    "results = []\n",
    "for C in np.arange(0.05, 0.6, 0.1):\n",
    "    LR = LogisticRegression(C=C)\n",
    "    LR.fit(X_train_sca, y_train)\n",
    "    y_pred = LR.predict(X_test_sca)\n",
    "    results.append([C,accuracy_score(y_test, y_pred),LR.score(X_train_sca,y_train)])"
   ]
  },
  {
   "cell_type": "code",
   "execution_count": 20,
   "metadata": {
    "ExecuteTime": {
     "end_time": "2018-09-16T23:32:36.508610Z",
     "start_time": "2018-09-16T23:32:36.504021Z"
    }
   },
   "outputs": [
    {
     "data": {
      "text/plain": [
       "[[0.05, 0.4906988436400201, 0.5053907602927211],\n",
       " [0.15000000000000002, 0.4974861739567622, 0.5142729456454946],\n",
       " [0.25000000000000006, 0.497737556561086, 0.5171219484944976],\n",
       " [0.35000000000000003, 0.4964806435394671, 0.5191330093290878],\n",
       " [0.45000000000000007, 0.49673202614379086, 0.5203061281492654],\n",
       " [0.5500000000000002, 0.4962292609351433, 0.5207250991564717]]"
      ]
     },
     "execution_count": 20,
     "metadata": {},
     "output_type": "execute_result"
    }
   ],
   "source": [
    "results"
   ]
  },
  {
   "cell_type": "markdown",
   "metadata": {},
   "source": [
    "### Now with SMOTE"
   ]
  },
  {
   "cell_type": "code",
   "execution_count": 9,
   "metadata": {
    "ExecuteTime": {
     "start_time": "2018-09-17T02:00:07.208Z"
    }
   },
   "outputs": [],
   "source": [
    "X_smoted, y_smoted = SMOTE(random_state=42).fit_sample(X_train_sca,y_train)"
   ]
  },
  {
   "cell_type": "code",
   "execution_count": 10,
   "metadata": {
    "ExecuteTime": {
     "start_time": "2018-09-17T01:47:24.159Z"
    }
   },
   "outputs": [
    {
     "data": {
      "text/plain": [
       "(0.16716943187531422, 0.6333733706408244)"
      ]
     },
     "execution_count": 10,
     "metadata": {},
     "output_type": "execute_result"
    }
   ],
   "source": [
    "LR = LogisticRegression(C=0.25, n_jobs=8)\n",
    "LR.fit(X_smoted, y_smoted)\n",
    "y_pred = LR.predict(X_test_sca)\n",
    "accuracy_score(y_test, y_pred), LR.score(X_smoted,y_smoted)"
   ]
  },
  {
   "cell_type": "code",
   "execution_count": null,
   "metadata": {},
   "outputs": [],
   "source": []
  }
 ],
 "metadata": {
  "kernelspec": {
   "display_name": "Python 3",
   "language": "python",
   "name": "python3"
  },
  "language_info": {
   "codemirror_mode": {
    "name": "ipython",
    "version": 3
   },
   "file_extension": ".py",
   "mimetype": "text/x-python",
   "name": "python",
   "nbconvert_exporter": "python",
   "pygments_lexer": "ipython3",
   "version": "3.6.4"
  },
  "varInspector": {
   "cols": {
    "lenName": 16,
    "lenType": 16,
    "lenVar": 40
   },
   "kernels_config": {
    "python": {
     "delete_cmd_postfix": "",
     "delete_cmd_prefix": "del ",
     "library": "var_list.py",
     "varRefreshCmd": "print(var_dic_list())"
    },
    "r": {
     "delete_cmd_postfix": ") ",
     "delete_cmd_prefix": "rm(",
     "library": "var_list.r",
     "varRefreshCmd": "cat(var_dic_list()) "
    }
   },
   "types_to_exclude": [
    "module",
    "function",
    "builtin_function_or_method",
    "instance",
    "_Feature"
   ],
   "window_display": false
  }
 },
 "nbformat": 4,
 "nbformat_minor": 2
}
