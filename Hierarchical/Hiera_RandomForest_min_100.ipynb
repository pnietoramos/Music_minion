{
 "cells": [
  {
   "cell_type": "markdown",
   "metadata": {},
   "source": [
    "### Hierarchical classification"
   ]
  },
  {
   "cell_type": "code",
   "execution_count": 17,
   "metadata": {
    "ExecuteTime": {
     "end_time": "2018-09-16T22:12:31.031590Z",
     "start_time": "2018-09-16T22:12:31.010358Z"
    }
   },
   "outputs": [],
   "source": [
    "import pandas as pd\n",
    "import numpy as np\n",
    "import ast\n",
    "\n",
    "from sklearn.cross_validation import train_test_split\n",
    "from sklearn.preprocessing import StandardScaler\n",
    "from sklearn.model_selection import GridSearchCV\n",
    "from sklearn.metrics import accuracy_score\n",
    "from sklearn.decomposition import TruncatedSVD\n",
    "from sklearn.svm import SVC\n",
    "from sklearn.ensemble import RandomForestClassifier\n",
    "from sklearn.pipeline import make_pipeline\n",
    "\n",
    "from sklearn.metrics import classification_report\n",
    "\n",
    "from sklearn.preprocessing import MultiLabelBinarizer\n",
    "\n",
    "from sklearn_hierarchical_classification.classifier import HierarchicalClassifier\n",
    "from sklearn_hierarchical_classification.constants import ROOT\n",
    "\n",
    "from util_koyak import col_selector_hiera, grid_estimator\n",
    "from tqdm import tqdm_notebook\n",
    "\n",
    "import warnings; warnings.simplefilter('ignore')"
   ]
  },
  {
   "cell_type": "markdown",
   "metadata": {},
   "source": [
    "#### Importing features and selecting them."
   ]
  },
  {
   "cell_type": "code",
   "execution_count": 3,
   "metadata": {
    "ExecuteTime": {
     "end_time": "2018-09-16T19:00:24.774175Z",
     "start_time": "2018-09-16T19:00:19.245714Z"
    },
    "scrolled": true
   },
   "outputs": [],
   "source": [
    "df_genre = pd.read_csv(\"features_genre_HIERA_min_100.csv\", index_col=0)\n",
    "df_mfcc_cont = col_selector_hiera(['mfcc','contrast'], df_genre)"
   ]
  },
  {
   "cell_type": "code",
   "execution_count": 4,
   "metadata": {
    "ExecuteTime": {
     "end_time": "2018-09-16T19:00:24.997937Z",
     "start_time": "2018-09-16T19:00:24.962927Z"
    }
   },
   "outputs": [],
   "source": [
    "X = df_mfcc_cont.drop(\"genre_selected\",axis=1)\n",
    "y = df_mfcc_cont[\"genre_selected\"]"
   ]
  },
  {
   "cell_type": "code",
   "execution_count": 5,
   "metadata": {
    "ExecuteTime": {
     "end_time": "2018-09-16T19:00:25.229781Z",
     "start_time": "2018-09-16T19:00:25.183994Z"
    }
   },
   "outputs": [],
   "source": [
    "X_train, X_test, y_train, y_test = train_test_split(X, y, stratify=y, test_size=.10, random_state=4444)"
   ]
  },
  {
   "cell_type": "code",
   "execution_count": 6,
   "metadata": {
    "ExecuteTime": {
     "end_time": "2018-09-16T19:00:25.713404Z",
     "start_time": "2018-09-16T19:00:25.519942Z"
    }
   },
   "outputs": [],
   "source": [
    "sca = StandardScaler()\n",
    "X_train_sca = sca.fit_transform(X_train)\n",
    "X_test_sca = sca.transform(X_test);"
   ]
  },
  {
   "cell_type": "markdown",
   "metadata": {},
   "source": [
    "Creating the class hierarchy"
   ]
  },
  {
   "cell_type": "code",
   "execution_count": 7,
   "metadata": {
    "ExecuteTime": {
     "end_time": "2018-09-16T19:00:26.083703Z",
     "start_time": "2018-09-16T19:00:26.068027Z"
    },
    "scrolled": true
   },
   "outputs": [],
   "source": [
    "df_genres = pd.read_csv(\"genres.csv\")"
   ]
  },
  {
   "cell_type": "code",
   "execution_count": 8,
   "metadata": {
    "ExecuteTime": {
     "end_time": "2018-09-16T19:00:26.367818Z",
     "start_time": "2018-09-16T19:00:26.355787Z"
    }
   },
   "outputs": [],
   "source": [
    "class_hierarchy = {}\n",
    "for index in range(df_genres[\"genre_id\"].shape[0]):\n",
    "    try:\n",
    "        class_hierarchy[df_genres[\"parent\"].iloc[index]].append(df_genres[\"genre_id\"].iloc[index])\n",
    "    except:    \n",
    "        class_hierarchy[df_genres[\"parent\"].iloc[index]] = [df_genres[\"genre_id\"].iloc[index]]\n",
    "                     \n",
    "class_hierarchy[ROOT]=class_hierarchy[0]\n",
    "del class_hierarchy[0]"
   ]
  },
  {
   "cell_type": "markdown",
   "metadata": {},
   "source": [
    "### Hierarchical classification with RandomForest"
   ]
  },
  {
   "cell_type": "code",
   "execution_count": 11,
   "metadata": {
    "ExecuteTime": {
     "end_time": "2018-09-16T19:01:05.852728Z",
     "start_time": "2018-09-16T19:01:05.845654Z"
    }
   },
   "outputs": [],
   "source": [
    "def Hierarchical_fit(estimator, class_hierarchy, X_train_sca, y_train, X_test_sca, y_test, stopping_criteria =0.5):\n",
    "    base_estimator = make_pipeline(estimator)\n",
    "    clf = HierarchicalClassifier(\n",
    "                        base_estimator = base_estimator,\n",
    "                        class_hierarchy=class_hierarchy,\n",
    "                        prediction_depth=\"nmlnp\",\n",
    "                        stopping_criteria=stopping_criteria,\n",
    "#                        progress_wrapper=tqdm_notebook\n",
    "                        )\n",
    "    clf.fit(X_train_sca, y_train)\n",
    "    y_pred = clf.predict(X_test_sca)\n",
    "    y_pred_train = clf.predict(X_train_sca)    \n",
    "    return accuracy_score(y_train, y_pred_train), accuracy_score(y_test, y_pred)"
   ]
  },
  {
   "cell_type": "code",
   "execution_count": null,
   "metadata": {
    "ExecuteTime": {
     "end_time": "2018-09-16T18:43:27.433545Z",
     "start_time": "2018-09-16T18:37:11.105639Z"
    }
   },
   "outputs": [],
   "source": [
    "results=[]\n",
    "#for stopping_criteria in np.arange(0.01, 1.05, 0.05):\n",
    "for stopping_criteria in [0.2,0.5,0.8]:\n",
    "    results.append([stopping_criteria, \n",
    "                    Hierarchical_fit(RandomForestClassifier(), \n",
    "                                     class_hierarchy, X_train_sca, y_train, X_test_sca, \n",
    "                                     y_test, stopping_criteria =stopping_criteria)])"
   ]
  },
  {
   "cell_type": "code",
   "execution_count": 13,
   "metadata": {
    "ExecuteTime": {
     "end_time": "2018-09-16T18:43:28.612044Z",
     "start_time": "2018-09-16T18:43:28.530849Z"
    }
   },
   "outputs": [
    {
     "data": {
      "text/plain": [
       "[[0.2, (0.5891290989330205, 0.43162393162393164)],\n",
       " [0.5, (0.5924529355901905, 0.43036701860231275)],\n",
       " [0.8, (0.5494106474498631, 0.3929110105580694)]]"
      ]
     },
     "execution_count": 13,
     "metadata": {},
     "output_type": "execute_result"
    }
   ],
   "source": [
    "results"
   ]
  },
  {
   "cell_type": "code",
   "execution_count": 12,
   "metadata": {
    "ExecuteTime": {
     "end_time": "2018-09-16T20:40:12.610244Z",
     "start_time": "2018-09-16T19:01:09.174238Z"
    },
    "scrolled": false
   },
   "outputs": [
    {
     "name": "stderr",
     "output_type": "stream",
     "text": [
      "_train_local_classifier() - not enough training data available to train, classification in branch will terminate at node 46\n",
      "_train_local_classifier() - not enough training data available to train, classification in branch will terminate at node 79\n",
      "_train_local_classifier() - not enough training data available to train, classification in branch will terminate at node 86\n",
      "_train_local_classifier() - not enough training data available to train, classification in branch will terminate at node 92\n",
      "_train_local_classifier() - not enough training data available to train, classification in branch will terminate at node 102\n",
      "_train_local_classifier() - not enough training data available to train, classification in branch will terminate at node 130\n",
      "_train_local_classifier() - not enough training data available to train, classification in branch will terminate at node 3\n",
      "_train_local_classifier() - not enough training data available to train, classification in branch will terminate at node 4\n",
      "_train_local_classifier() - not enough training data available to train, classification in branch will terminate at node 9\n",
      "_train_local_classifier() - not enough training data available to train, classification in branch will terminate at node 651\n",
      "_train_local_classifier() - not enough training data available to train, classification in branch will terminate at node 109\n",
      "_train_local_classifier() - not enough training data available to train, classification in branch will terminate at node 26\n",
      "_train_local_classifier() - not enough training data available to train, classification in branch will terminate at node 45\n",
      "_train_local_classifier() - not enough training data available to train, classification in branch will terminate at node 53\n",
      "_train_local_classifier() - not enough training data available to train, classification in branch will terminate at node 85\n",
      "_train_local_classifier() - not enough training data available to train, classification in branch will terminate at node 13\n",
      "_train_local_classifier() - not enough training data available to train, classification in branch will terminate at node 14\n",
      "_train_local_classifier() - not enough training data available to train, classification in branch will terminate at node 19\n",
      "_train_local_classifier() - not enough training data available to train, classification in branch will terminate at node 181\n",
      "_train_local_classifier() - not enough training data available to train, classification in branch will terminate at node 182\n",
      "_train_local_classifier() - not enough training data available to train, classification in branch will terminate at node 468\n",
      "_train_local_classifier() - not enough training data available to train, classification in branch will terminate at node 65\n",
      "_train_local_classifier() - not enough training data available to train, classification in branch will terminate at node 6\n",
      "_train_local_classifier() - not enough training data available to train, classification in branch will terminate at node 16\n",
      "_train_local_classifier() - not enough training data available to train, classification in branch will terminate at node 763\n"
     ]
    },
    {
     "data": {
      "text/plain": [
       "(0.604519300597732, 0.4318753142282554)"
      ]
     },
     "execution_count": 12,
     "metadata": {},
     "output_type": "execute_result"
    }
   ],
   "source": [
    "Hierarchical_fit(RandomForestClassifier(max_depth=100, max_leaf_nodes=1000000, n_estimators=1000), \n",
    "                 class_hierarchy, X_train_sca, y_train, X_test_sca, \n",
    "                 y_test, stopping_criteria =0.5)"
   ]
  },
  {
   "cell_type": "markdown",
   "metadata": {},
   "source": [
    "### Now with TruncatedSVD"
   ]
  },
  {
   "cell_type": "code",
   "execution_count": 20,
   "metadata": {
    "ExecuteTime": {
     "end_time": "2018-09-16T22:15:07.147705Z",
     "start_time": "2018-09-16T22:15:07.134766Z"
    }
   },
   "outputs": [],
   "source": [
    "def Hierarchical_fit_TruncatedSVD(estimator, class_hierarchy, X_train_sca, y_train, X_test_sca,\n",
    "                     y_test, stopping_criteria =0.5, n_components=20):\n",
    "    base_estimator = make_pipeline(TruncatedSVD(n_components=n_components),estimator)\n",
    "    clf = HierarchicalClassifier(\n",
    "                        base_estimator = base_estimator,\n",
    "                        class_hierarchy=class_hierarchy,\n",
    "                        prediction_depth=\"nmlnp\",\n",
    "                        stopping_criteria=stopping_criteria,\n",
    "#                        progress_wrapper=tqdm_notebook\n",
    "                        )\n",
    "    clf.fit(X_train_sca, y_train)\n",
    "    y_pred = clf.predict(X_test_sca)\n",
    "    y_pred_train = clf.predict(X_train_sca)    \n",
    "    return accuracy_score(y_train, y_pred_train), accuracy_score(y_test, y_pred)"
   ]
  },
  {
   "cell_type": "code",
   "execution_count": null,
   "metadata": {
    "ExecuteTime": {
     "end_time": "2018-09-16T22:21:47.789452Z",
     "start_time": "2018-09-16T22:15:07.689739Z"
    }
   },
   "outputs": [],
   "source": [
    "results=[]\n",
    "#for stopping_criteria in np.arange(0.01, 1.05, 0.05):\n",
    "for stopping_criteria in [0.2,0.5,0.8]:\n",
    "    results.append([stopping_criteria, \n",
    "                    Hierarchical_fit_TruncatedSVD(RandomForestClassifier(), \n",
    "                                     class_hierarchy, X_train_sca, y_train, X_test_sca, \n",
    "                                     y_test, stopping_criteria =stopping_criteria)])"
   ]
  },
  {
   "cell_type": "code",
   "execution_count": 22,
   "metadata": {
    "ExecuteTime": {
     "end_time": "2018-09-16T22:24:12.882723Z",
     "start_time": "2018-09-16T22:24:12.877983Z"
    }
   },
   "outputs": [
    {
     "data": {
      "text/plain": [
       "[[0.2, (0.5766996257192336, 0.42609351432880843)],\n",
       " [0.5, (0.5794648343667952, 0.42433383609854197)],\n",
       " [0.8, (0.5371487626389587, 0.3984414278531926)]]"
      ]
     },
     "execution_count": 22,
     "metadata": {},
     "output_type": "execute_result"
    }
   ],
   "source": [
    "results"
   ]
  },
  {
   "cell_type": "code",
   "execution_count": null,
   "metadata": {},
   "outputs": [],
   "source": []
  }
 ],
 "metadata": {
  "kernelspec": {
   "display_name": "Python 3",
   "language": "python",
   "name": "python3"
  },
  "language_info": {
   "codemirror_mode": {
    "name": "ipython",
    "version": 3
   },
   "file_extension": ".py",
   "mimetype": "text/x-python",
   "name": "python",
   "nbconvert_exporter": "python",
   "pygments_lexer": "ipython3",
   "version": "3.6.4"
  },
  "varInspector": {
   "cols": {
    "lenName": 16,
    "lenType": 16,
    "lenVar": 40
   },
   "kernels_config": {
    "python": {
     "delete_cmd_postfix": "",
     "delete_cmd_prefix": "del ",
     "library": "var_list.py",
     "varRefreshCmd": "print(var_dic_list())"
    },
    "r": {
     "delete_cmd_postfix": ") ",
     "delete_cmd_prefix": "rm(",
     "library": "var_list.r",
     "varRefreshCmd": "cat(var_dic_list()) "
    }
   },
   "types_to_exclude": [
    "module",
    "function",
    "builtin_function_or_method",
    "instance",
    "_Feature"
   ],
   "window_display": false
  }
 },
 "nbformat": 4,
 "nbformat_minor": 2
}
