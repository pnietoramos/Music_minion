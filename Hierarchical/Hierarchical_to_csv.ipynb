{
 "cells": [
  {
   "cell_type": "markdown",
   "metadata": {},
   "source": [
    "## Hierarchical classification\n",
    "Making table with features and a column with all genres"
   ]
  },
  {
   "cell_type": "code",
   "execution_count": 12,
   "metadata": {
    "ExecuteTime": {
     "end_time": "2018-09-16T21:58:16.300970Z",
     "start_time": "2018-09-16T21:58:16.295499Z"
    }
   },
   "outputs": [],
   "source": [
    "import pandas as pd\n",
    "import numpy as np\n",
    "import ast\n",
    "from util_koyak import find_element_dictio\n",
    "\n",
    "MIN_TRACKS = 100 # All genres with a number of songs equal or lower than this will be discarded"
   ]
  },
  {
   "cell_type": "markdown",
   "metadata": {},
   "source": [
    "Making genre_compact column with all genre ids"
   ]
  },
  {
   "cell_type": "code",
   "execution_count": 13,
   "metadata": {
    "ExecuteTime": {
     "end_time": "2018-09-16T21:58:23.279515Z",
     "start_time": "2018-09-16T21:58:17.241955Z"
    }
   },
   "outputs": [],
   "source": [
    "df_tracks = pd.read_csv(\"raw_tracks.csv\")\n",
    "df_tracks.dropna(subset=[\"track_genres\"], inplace=True)\n",
    "df_tracks[\"genre_compact\"] = df_tracks.track_genres.apply(lambda x: [ item[\"genre_id\"]for item in ast.literal_eval(x)])\n",
    "df_tracks.set_index(\"track_id\", inplace=True);"
   ]
  },
  {
   "cell_type": "code",
   "execution_count": 14,
   "metadata": {
    "ExecuteTime": {
     "end_time": "2018-09-16T21:58:25.921855Z",
     "start_time": "2018-09-16T21:58:25.878527Z"
    }
   },
   "outputs": [
    {
     "data": {
      "text/html": [
       "<div>\n",
       "<style scoped>\n",
       "    .dataframe tbody tr th:only-of-type {\n",
       "        vertical-align: middle;\n",
       "    }\n",
       "\n",
       "    .dataframe tbody tr th {\n",
       "        vertical-align: top;\n",
       "    }\n",
       "\n",
       "    .dataframe thead th {\n",
       "        text-align: right;\n",
       "    }\n",
       "</style>\n",
       "<table border=\"1\" class=\"dataframe\">\n",
       "  <thead>\n",
       "    <tr style=\"text-align: right;\">\n",
       "      <th></th>\n",
       "      <th>album_id</th>\n",
       "      <th>album_title</th>\n",
       "      <th>album_url</th>\n",
       "      <th>artist_id</th>\n",
       "      <th>artist_name</th>\n",
       "      <th>artist_url</th>\n",
       "      <th>artist_website</th>\n",
       "      <th>license_image_file</th>\n",
       "      <th>license_image_file_large</th>\n",
       "      <th>license_parent_id</th>\n",
       "      <th>...</th>\n",
       "      <th>track_instrumental</th>\n",
       "      <th>track_interest</th>\n",
       "      <th>track_language_code</th>\n",
       "      <th>track_listens</th>\n",
       "      <th>track_lyricist</th>\n",
       "      <th>track_number</th>\n",
       "      <th>track_publisher</th>\n",
       "      <th>track_title</th>\n",
       "      <th>track_url</th>\n",
       "      <th>genre_compact</th>\n",
       "    </tr>\n",
       "    <tr>\n",
       "      <th>track_id</th>\n",
       "      <th></th>\n",
       "      <th></th>\n",
       "      <th></th>\n",
       "      <th></th>\n",
       "      <th></th>\n",
       "      <th></th>\n",
       "      <th></th>\n",
       "      <th></th>\n",
       "      <th></th>\n",
       "      <th></th>\n",
       "      <th></th>\n",
       "      <th></th>\n",
       "      <th></th>\n",
       "      <th></th>\n",
       "      <th></th>\n",
       "      <th></th>\n",
       "      <th></th>\n",
       "      <th></th>\n",
       "      <th></th>\n",
       "      <th></th>\n",
       "      <th></th>\n",
       "    </tr>\n",
       "  </thead>\n",
       "  <tbody>\n",
       "    <tr>\n",
       "      <th>2</th>\n",
       "      <td>1.0</td>\n",
       "      <td>AWOL - A Way Of Life</td>\n",
       "      <td>http://freemusicarchive.org/music/AWOL/AWOL_-_...</td>\n",
       "      <td>1</td>\n",
       "      <td>AWOL</td>\n",
       "      <td>http://freemusicarchive.org/music/AWOL/</td>\n",
       "      <td>http://www.AzillionRecords.blogspot.com</td>\n",
       "      <td>http://i.creativecommons.org/l/by-nc-sa/3.0/us...</td>\n",
       "      <td>http://fma-files.s3.amazonaws.com/resources/im...</td>\n",
       "      <td>5.0</td>\n",
       "      <td>...</td>\n",
       "      <td>0</td>\n",
       "      <td>4656</td>\n",
       "      <td>en</td>\n",
       "      <td>1293</td>\n",
       "      <td>NaN</td>\n",
       "      <td>3</td>\n",
       "      <td>NaN</td>\n",
       "      <td>Food</td>\n",
       "      <td>http://freemusicarchive.org/music/AWOL/AWOL_-_...</td>\n",
       "      <td>[21]</td>\n",
       "    </tr>\n",
       "    <tr>\n",
       "      <th>3</th>\n",
       "      <td>1.0</td>\n",
       "      <td>AWOL - A Way Of Life</td>\n",
       "      <td>http://freemusicarchive.org/music/AWOL/AWOL_-_...</td>\n",
       "      <td>1</td>\n",
       "      <td>AWOL</td>\n",
       "      <td>http://freemusicarchive.org/music/AWOL/</td>\n",
       "      <td>http://www.AzillionRecords.blogspot.com</td>\n",
       "      <td>http://i.creativecommons.org/l/by-nc-sa/3.0/us...</td>\n",
       "      <td>http://fma-files.s3.amazonaws.com/resources/im...</td>\n",
       "      <td>5.0</td>\n",
       "      <td>...</td>\n",
       "      <td>0</td>\n",
       "      <td>1470</td>\n",
       "      <td>en</td>\n",
       "      <td>514</td>\n",
       "      <td>NaN</td>\n",
       "      <td>4</td>\n",
       "      <td>NaN</td>\n",
       "      <td>Electric Ave</td>\n",
       "      <td>http://freemusicarchive.org/music/AWOL/AWOL_-_...</td>\n",
       "      <td>[21]</td>\n",
       "    </tr>\n",
       "    <tr>\n",
       "      <th>5</th>\n",
       "      <td>1.0</td>\n",
       "      <td>AWOL - A Way Of Life</td>\n",
       "      <td>http://freemusicarchive.org/music/AWOL/AWOL_-_...</td>\n",
       "      <td>1</td>\n",
       "      <td>AWOL</td>\n",
       "      <td>http://freemusicarchive.org/music/AWOL/</td>\n",
       "      <td>http://www.AzillionRecords.blogspot.com</td>\n",
       "      <td>http://i.creativecommons.org/l/by-nc-sa/3.0/us...</td>\n",
       "      <td>http://fma-files.s3.amazonaws.com/resources/im...</td>\n",
       "      <td>5.0</td>\n",
       "      <td>...</td>\n",
       "      <td>0</td>\n",
       "      <td>1933</td>\n",
       "      <td>en</td>\n",
       "      <td>1151</td>\n",
       "      <td>NaN</td>\n",
       "      <td>6</td>\n",
       "      <td>NaN</td>\n",
       "      <td>This World</td>\n",
       "      <td>http://freemusicarchive.org/music/AWOL/AWOL_-_...</td>\n",
       "      <td>[21]</td>\n",
       "    </tr>\n",
       "    <tr>\n",
       "      <th>10</th>\n",
       "      <td>6.0</td>\n",
       "      <td>Constant Hitmaker</td>\n",
       "      <td>http://freemusicarchive.org/music/Kurt_Vile/Co...</td>\n",
       "      <td>6</td>\n",
       "      <td>Kurt Vile</td>\n",
       "      <td>http://freemusicarchive.org/music/Kurt_Vile/</td>\n",
       "      <td>http://kurtvile.com</td>\n",
       "      <td>http://i.creativecommons.org/l/by-nc-nd/3.0/88...</td>\n",
       "      <td>http://fma-files.s3.amazonaws.com/resources/im...</td>\n",
       "      <td>NaN</td>\n",
       "      <td>...</td>\n",
       "      <td>0</td>\n",
       "      <td>54881</td>\n",
       "      <td>en</td>\n",
       "      <td>50135</td>\n",
       "      <td>NaN</td>\n",
       "      <td>1</td>\n",
       "      <td>NaN</td>\n",
       "      <td>Freeway</td>\n",
       "      <td>http://freemusicarchive.org/music/Kurt_Vile/Co...</td>\n",
       "      <td>[10]</td>\n",
       "    </tr>\n",
       "    <tr>\n",
       "      <th>20</th>\n",
       "      <td>4.0</td>\n",
       "      <td>Niris</td>\n",
       "      <td>http://freemusicarchive.org/music/Chris_and_Ni...</td>\n",
       "      <td>4</td>\n",
       "      <td>Nicky Cook</td>\n",
       "      <td>http://freemusicarchive.org/music/Chris_and_Ni...</td>\n",
       "      <td>NaN</td>\n",
       "      <td>http://i.creativecommons.org/l/by-nc-nd/3.0/88...</td>\n",
       "      <td>http://fma-files.s3.amazonaws.com/resources/im...</td>\n",
       "      <td>NaN</td>\n",
       "      <td>...</td>\n",
       "      <td>0</td>\n",
       "      <td>978</td>\n",
       "      <td>en</td>\n",
       "      <td>361</td>\n",
       "      <td>NaN</td>\n",
       "      <td>3</td>\n",
       "      <td>NaN</td>\n",
       "      <td>Spiritual Level</td>\n",
       "      <td>http://freemusicarchive.org/music/Chris_and_Ni...</td>\n",
       "      <td>[76, 103]</td>\n",
       "    </tr>\n",
       "  </tbody>\n",
       "</table>\n",
       "<p>5 rows × 39 columns</p>\n",
       "</div>"
      ],
      "text/plain": [
       "          album_id           album_title  \\\n",
       "track_id                                   \n",
       "2              1.0  AWOL - A Way Of Life   \n",
       "3              1.0  AWOL - A Way Of Life   \n",
       "5              1.0  AWOL - A Way Of Life   \n",
       "10             6.0     Constant Hitmaker   \n",
       "20             4.0                 Niris   \n",
       "\n",
       "                                                  album_url  artist_id  \\\n",
       "track_id                                                                 \n",
       "2         http://freemusicarchive.org/music/AWOL/AWOL_-_...          1   \n",
       "3         http://freemusicarchive.org/music/AWOL/AWOL_-_...          1   \n",
       "5         http://freemusicarchive.org/music/AWOL/AWOL_-_...          1   \n",
       "10        http://freemusicarchive.org/music/Kurt_Vile/Co...          6   \n",
       "20        http://freemusicarchive.org/music/Chris_and_Ni...          4   \n",
       "\n",
       "         artist_name                                         artist_url  \\\n",
       "track_id                                                                  \n",
       "2               AWOL            http://freemusicarchive.org/music/AWOL/   \n",
       "3               AWOL            http://freemusicarchive.org/music/AWOL/   \n",
       "5               AWOL            http://freemusicarchive.org/music/AWOL/   \n",
       "10         Kurt Vile       http://freemusicarchive.org/music/Kurt_Vile/   \n",
       "20        Nicky Cook  http://freemusicarchive.org/music/Chris_and_Ni...   \n",
       "\n",
       "                                   artist_website  \\\n",
       "track_id                                            \n",
       "2         http://www.AzillionRecords.blogspot.com   \n",
       "3         http://www.AzillionRecords.blogspot.com   \n",
       "5         http://www.AzillionRecords.blogspot.com   \n",
       "10                            http://kurtvile.com   \n",
       "20                                            NaN   \n",
       "\n",
       "                                         license_image_file  \\\n",
       "track_id                                                      \n",
       "2         http://i.creativecommons.org/l/by-nc-sa/3.0/us...   \n",
       "3         http://i.creativecommons.org/l/by-nc-sa/3.0/us...   \n",
       "5         http://i.creativecommons.org/l/by-nc-sa/3.0/us...   \n",
       "10        http://i.creativecommons.org/l/by-nc-nd/3.0/88...   \n",
       "20        http://i.creativecommons.org/l/by-nc-nd/3.0/88...   \n",
       "\n",
       "                                   license_image_file_large  \\\n",
       "track_id                                                      \n",
       "2         http://fma-files.s3.amazonaws.com/resources/im...   \n",
       "3         http://fma-files.s3.amazonaws.com/resources/im...   \n",
       "5         http://fma-files.s3.amazonaws.com/resources/im...   \n",
       "10        http://fma-files.s3.amazonaws.com/resources/im...   \n",
       "20        http://fma-files.s3.amazonaws.com/resources/im...   \n",
       "\n",
       "          license_parent_id      ...      track_instrumental track_interest  \\\n",
       "track_id                         ...                                          \n",
       "2                       5.0      ...                       0           4656   \n",
       "3                       5.0      ...                       0           1470   \n",
       "5                       5.0      ...                       0           1933   \n",
       "10                      NaN      ...                       0          54881   \n",
       "20                      NaN      ...                       0            978   \n",
       "\n",
       "         track_language_code  track_listens  track_lyricist track_number  \\\n",
       "track_id                                                                   \n",
       "2                         en           1293             NaN            3   \n",
       "3                         en            514             NaN            4   \n",
       "5                         en           1151             NaN            6   \n",
       "10                        en          50135             NaN            1   \n",
       "20                        en            361             NaN            3   \n",
       "\n",
       "         track_publisher      track_title  \\\n",
       "track_id                                    \n",
       "2                    NaN             Food   \n",
       "3                    NaN     Electric Ave   \n",
       "5                    NaN       This World   \n",
       "10                   NaN          Freeway   \n",
       "20                   NaN  Spiritual Level   \n",
       "\n",
       "                                                  track_url genre_compact  \n",
       "track_id                                                                   \n",
       "2         http://freemusicarchive.org/music/AWOL/AWOL_-_...          [21]  \n",
       "3         http://freemusicarchive.org/music/AWOL/AWOL_-_...          [21]  \n",
       "5         http://freemusicarchive.org/music/AWOL/AWOL_-_...          [21]  \n",
       "10        http://freemusicarchive.org/music/Kurt_Vile/Co...          [10]  \n",
       "20        http://freemusicarchive.org/music/Chris_and_Ni...     [76, 103]  \n",
       "\n",
       "[5 rows x 39 columns]"
      ]
     },
     "execution_count": 14,
     "metadata": {},
     "output_type": "execute_result"
    }
   ],
   "source": [
    "df_tracks.head()"
   ]
  },
  {
   "cell_type": "code",
   "execution_count": 15,
   "metadata": {
    "ExecuteTime": {
     "end_time": "2018-09-16T21:58:26.976676Z",
     "start_time": "2018-09-16T21:58:26.970729Z"
    }
   },
   "outputs": [
    {
     "data": {
      "text/plain": [
       "track_id\n",
       "2      [{'genre_id': '21', 'genre_title': 'Hip-Hop', ...\n",
       "3      [{'genre_id': '21', 'genre_title': 'Hip-Hop', ...\n",
       "5      [{'genre_id': '21', 'genre_title': 'Hip-Hop', ...\n",
       "10     [{'genre_id': '10', 'genre_title': 'Pop', 'gen...\n",
       "20     [{'genre_id': '76', 'genre_title': 'Experiment...\n",
       "26     [{'genre_id': '76', 'genre_title': 'Experiment...\n",
       "30     [{'genre_id': '76', 'genre_title': 'Experiment...\n",
       "46     [{'genre_id': '76', 'genre_title': 'Experiment...\n",
       "48     [{'genre_id': '76', 'genre_title': 'Experiment...\n",
       "134    [{'genre_id': '21', 'genre_title': 'Hip-Hop', ...\n",
       "Name: track_genres, dtype: object"
      ]
     },
     "execution_count": 15,
     "metadata": {},
     "output_type": "execute_result"
    }
   ],
   "source": [
    "df_tracks[\"track_genres\"][0:10]"
   ]
  },
  {
   "cell_type": "code",
   "execution_count": 16,
   "metadata": {
    "ExecuteTime": {
     "end_time": "2018-09-16T21:58:42.101939Z",
     "start_time": "2018-09-16T21:58:28.021797Z"
    }
   },
   "outputs": [],
   "source": [
    "df_features = pd.read_csv(\"features.csv\", index_col = 0, header = [0,1,2])"
   ]
  },
  {
   "cell_type": "code",
   "execution_count": 17,
   "metadata": {
    "ExecuteTime": {
     "end_time": "2018-09-16T21:58:43.401468Z",
     "start_time": "2018-09-16T21:58:43.135851Z"
    }
   },
   "outputs": [
    {
     "name": "stderr",
     "output_type": "stream",
     "text": [
      "/home/pnietoramos/anaconda3/lib/python3.6/site-packages/pandas/core/reshape/merge.py:544: UserWarning: merging between different levels can give an unintended result (3 levels on the left, 1 on the right)\n",
      "  warnings.warn(msg, UserWarning)\n"
     ]
    }
   ],
   "source": [
    "df_features_genre = df_features.join(df_tracks[\"genre_compact\"])"
   ]
  },
  {
   "cell_type": "code",
   "execution_count": 18,
   "metadata": {
    "ExecuteTime": {
     "end_time": "2018-09-16T21:58:47.527344Z",
     "start_time": "2018-09-16T21:58:47.493011Z"
    }
   },
   "outputs": [
    {
     "data": {
      "text/html": [
       "<div>\n",
       "<style scoped>\n",
       "    .dataframe tbody tr th:only-of-type {\n",
       "        vertical-align: middle;\n",
       "    }\n",
       "\n",
       "    .dataframe tbody tr th {\n",
       "        vertical-align: top;\n",
       "    }\n",
       "\n",
       "    .dataframe thead th {\n",
       "        text-align: right;\n",
       "    }\n",
       "</style>\n",
       "<table border=\"1\" class=\"dataframe\">\n",
       "  <thead>\n",
       "    <tr style=\"text-align: right;\">\n",
       "      <th></th>\n",
       "      <th>(chroma_cens, kurtosis, 01)</th>\n",
       "      <th>(chroma_cens, kurtosis, 02)</th>\n",
       "      <th>(chroma_cens, kurtosis, 03)</th>\n",
       "      <th>(chroma_cens, kurtosis, 04)</th>\n",
       "      <th>(chroma_cens, kurtosis, 05)</th>\n",
       "      <th>(chroma_cens, kurtosis, 06)</th>\n",
       "      <th>(chroma_cens, kurtosis, 07)</th>\n",
       "      <th>(chroma_cens, kurtosis, 08)</th>\n",
       "      <th>(chroma_cens, kurtosis, 09)</th>\n",
       "      <th>(chroma_cens, kurtosis, 10)</th>\n",
       "      <th>...</th>\n",
       "      <th>(tonnetz, std, 05)</th>\n",
       "      <th>(tonnetz, std, 06)</th>\n",
       "      <th>(zcr, kurtosis, 01)</th>\n",
       "      <th>(zcr, max, 01)</th>\n",
       "      <th>(zcr, mean, 01)</th>\n",
       "      <th>(zcr, median, 01)</th>\n",
       "      <th>(zcr, min, 01)</th>\n",
       "      <th>(zcr, skew, 01)</th>\n",
       "      <th>(zcr, std, 01)</th>\n",
       "      <th>genre_compact</th>\n",
       "    </tr>\n",
       "    <tr>\n",
       "      <th>track_id</th>\n",
       "      <th></th>\n",
       "      <th></th>\n",
       "      <th></th>\n",
       "      <th></th>\n",
       "      <th></th>\n",
       "      <th></th>\n",
       "      <th></th>\n",
       "      <th></th>\n",
       "      <th></th>\n",
       "      <th></th>\n",
       "      <th></th>\n",
       "      <th></th>\n",
       "      <th></th>\n",
       "      <th></th>\n",
       "      <th></th>\n",
       "      <th></th>\n",
       "      <th></th>\n",
       "      <th></th>\n",
       "      <th></th>\n",
       "      <th></th>\n",
       "      <th></th>\n",
       "    </tr>\n",
       "  </thead>\n",
       "  <tbody>\n",
       "    <tr>\n",
       "      <th>2</th>\n",
       "      <td>7.180653</td>\n",
       "      <td>5.230309</td>\n",
       "      <td>0.249321</td>\n",
       "      <td>1.347620</td>\n",
       "      <td>1.482478</td>\n",
       "      <td>0.531371</td>\n",
       "      <td>1.481593</td>\n",
       "      <td>2.691455</td>\n",
       "      <td>0.866868</td>\n",
       "      <td>1.341231</td>\n",
       "      <td>...</td>\n",
       "      <td>0.012226</td>\n",
       "      <td>0.012111</td>\n",
       "      <td>5.758890</td>\n",
       "      <td>0.459473</td>\n",
       "      <td>0.085629</td>\n",
       "      <td>0.071289</td>\n",
       "      <td>0.000000</td>\n",
       "      <td>2.089872</td>\n",
       "      <td>0.061448</td>\n",
       "      <td>[21]</td>\n",
       "    </tr>\n",
       "    <tr>\n",
       "      <th>3</th>\n",
       "      <td>1.888963</td>\n",
       "      <td>0.760539</td>\n",
       "      <td>0.345297</td>\n",
       "      <td>2.295201</td>\n",
       "      <td>1.654031</td>\n",
       "      <td>0.067592</td>\n",
       "      <td>1.366848</td>\n",
       "      <td>1.054094</td>\n",
       "      <td>0.108103</td>\n",
       "      <td>0.619185</td>\n",
       "      <td>...</td>\n",
       "      <td>0.014212</td>\n",
       "      <td>0.017740</td>\n",
       "      <td>2.824694</td>\n",
       "      <td>0.466309</td>\n",
       "      <td>0.084578</td>\n",
       "      <td>0.063965</td>\n",
       "      <td>0.000000</td>\n",
       "      <td>1.716724</td>\n",
       "      <td>0.069330</td>\n",
       "      <td>[21]</td>\n",
       "    </tr>\n",
       "    <tr>\n",
       "      <th>5</th>\n",
       "      <td>0.527563</td>\n",
       "      <td>-0.077654</td>\n",
       "      <td>-0.279610</td>\n",
       "      <td>0.685883</td>\n",
       "      <td>1.937570</td>\n",
       "      <td>0.880839</td>\n",
       "      <td>-0.923192</td>\n",
       "      <td>-0.927232</td>\n",
       "      <td>0.666617</td>\n",
       "      <td>1.038546</td>\n",
       "      <td>...</td>\n",
       "      <td>0.012691</td>\n",
       "      <td>0.014759</td>\n",
       "      <td>6.808415</td>\n",
       "      <td>0.375000</td>\n",
       "      <td>0.053114</td>\n",
       "      <td>0.041504</td>\n",
       "      <td>0.000000</td>\n",
       "      <td>2.193303</td>\n",
       "      <td>0.044861</td>\n",
       "      <td>[21]</td>\n",
       "    </tr>\n",
       "    <tr>\n",
       "      <th>10</th>\n",
       "      <td>3.702245</td>\n",
       "      <td>-0.291193</td>\n",
       "      <td>2.196742</td>\n",
       "      <td>-0.234449</td>\n",
       "      <td>1.367364</td>\n",
       "      <td>0.998411</td>\n",
       "      <td>1.770694</td>\n",
       "      <td>1.604566</td>\n",
       "      <td>0.521217</td>\n",
       "      <td>1.982386</td>\n",
       "      <td>...</td>\n",
       "      <td>0.017952</td>\n",
       "      <td>0.013921</td>\n",
       "      <td>21.434212</td>\n",
       "      <td>0.452148</td>\n",
       "      <td>0.077515</td>\n",
       "      <td>0.071777</td>\n",
       "      <td>0.000000</td>\n",
       "      <td>3.542325</td>\n",
       "      <td>0.040800</td>\n",
       "      <td>[10]</td>\n",
       "    </tr>\n",
       "    <tr>\n",
       "      <th>20</th>\n",
       "      <td>-0.193837</td>\n",
       "      <td>-0.198527</td>\n",
       "      <td>0.201546</td>\n",
       "      <td>0.258556</td>\n",
       "      <td>0.775204</td>\n",
       "      <td>0.084794</td>\n",
       "      <td>-0.289294</td>\n",
       "      <td>-0.816410</td>\n",
       "      <td>0.043851</td>\n",
       "      <td>-0.804761</td>\n",
       "      <td>...</td>\n",
       "      <td>0.022492</td>\n",
       "      <td>0.021355</td>\n",
       "      <td>16.669037</td>\n",
       "      <td>0.469727</td>\n",
       "      <td>0.047225</td>\n",
       "      <td>0.040039</td>\n",
       "      <td>0.000977</td>\n",
       "      <td>3.189831</td>\n",
       "      <td>0.030993</td>\n",
       "      <td>[76, 103]</td>\n",
       "    </tr>\n",
       "  </tbody>\n",
       "</table>\n",
       "<p>5 rows × 519 columns</p>\n",
       "</div>"
      ],
      "text/plain": [
       "          (chroma_cens, kurtosis, 01)  (chroma_cens, kurtosis, 02)  \\\n",
       "track_id                                                             \n",
       "2                            7.180653                     5.230309   \n",
       "3                            1.888963                     0.760539   \n",
       "5                            0.527563                    -0.077654   \n",
       "10                           3.702245                    -0.291193   \n",
       "20                          -0.193837                    -0.198527   \n",
       "\n",
       "          (chroma_cens, kurtosis, 03)  (chroma_cens, kurtosis, 04)  \\\n",
       "track_id                                                             \n",
       "2                            0.249321                     1.347620   \n",
       "3                            0.345297                     2.295201   \n",
       "5                           -0.279610                     0.685883   \n",
       "10                           2.196742                    -0.234449   \n",
       "20                           0.201546                     0.258556   \n",
       "\n",
       "          (chroma_cens, kurtosis, 05)  (chroma_cens, kurtosis, 06)  \\\n",
       "track_id                                                             \n",
       "2                            1.482478                     0.531371   \n",
       "3                            1.654031                     0.067592   \n",
       "5                            1.937570                     0.880839   \n",
       "10                           1.367364                     0.998411   \n",
       "20                           0.775204                     0.084794   \n",
       "\n",
       "          (chroma_cens, kurtosis, 07)  (chroma_cens, kurtosis, 08)  \\\n",
       "track_id                                                             \n",
       "2                            1.481593                     2.691455   \n",
       "3                            1.366848                     1.054094   \n",
       "5                           -0.923192                    -0.927232   \n",
       "10                           1.770694                     1.604566   \n",
       "20                          -0.289294                    -0.816410   \n",
       "\n",
       "          (chroma_cens, kurtosis, 09)  (chroma_cens, kurtosis, 10)  \\\n",
       "track_id                                                             \n",
       "2                            0.866868                     1.341231   \n",
       "3                            0.108103                     0.619185   \n",
       "5                            0.666617                     1.038546   \n",
       "10                           0.521217                     1.982386   \n",
       "20                           0.043851                    -0.804761   \n",
       "\n",
       "              ...        (tonnetz, std, 05)  (tonnetz, std, 06)  \\\n",
       "track_id      ...                                                 \n",
       "2             ...                  0.012226            0.012111   \n",
       "3             ...                  0.014212            0.017740   \n",
       "5             ...                  0.012691            0.014759   \n",
       "10            ...                  0.017952            0.013921   \n",
       "20            ...                  0.022492            0.021355   \n",
       "\n",
       "          (zcr, kurtosis, 01)  (zcr, max, 01)  (zcr, mean, 01)  \\\n",
       "track_id                                                         \n",
       "2                    5.758890        0.459473         0.085629   \n",
       "3                    2.824694        0.466309         0.084578   \n",
       "5                    6.808415        0.375000         0.053114   \n",
       "10                  21.434212        0.452148         0.077515   \n",
       "20                  16.669037        0.469727         0.047225   \n",
       "\n",
       "          (zcr, median, 01)  (zcr, min, 01)  (zcr, skew, 01)  (zcr, std, 01)  \\\n",
       "track_id                                                                       \n",
       "2                  0.071289        0.000000         2.089872        0.061448   \n",
       "3                  0.063965        0.000000         1.716724        0.069330   \n",
       "5                  0.041504        0.000000         2.193303        0.044861   \n",
       "10                 0.071777        0.000000         3.542325        0.040800   \n",
       "20                 0.040039        0.000977         3.189831        0.030993   \n",
       "\n",
       "          genre_compact  \n",
       "track_id                 \n",
       "2                  [21]  \n",
       "3                  [21]  \n",
       "5                  [21]  \n",
       "10                 [10]  \n",
       "20            [76, 103]  \n",
       "\n",
       "[5 rows x 519 columns]"
      ]
     },
     "execution_count": 18,
     "metadata": {},
     "output_type": "execute_result"
    }
   ],
   "source": [
    "df_features_genre.head()"
   ]
  },
  {
   "cell_type": "code",
   "execution_count": 19,
   "metadata": {
    "ExecuteTime": {
     "end_time": "2018-09-16T21:58:48.903747Z",
     "start_time": "2018-09-16T21:58:48.631331Z"
    }
   },
   "outputs": [],
   "source": [
    "df_features_genre.dropna(subset=[\"genre_compact\"], inplace=True)"
   ]
  },
  {
   "cell_type": "code",
   "execution_count": 20,
   "metadata": {
    "ExecuteTime": {
     "end_time": "2018-09-16T21:58:49.889093Z",
     "start_time": "2018-09-16T21:58:49.848851Z"
    }
   },
   "outputs": [
    {
     "name": "stdout",
     "output_type": "stream",
     "text": [
      "<class 'pandas.core.frame.DataFrame'>\n",
      "Int64Index: 104343 entries, 2 to 155320\n",
      "Columns: 519 entries, (chroma_cens, kurtosis, 01) to genre_compact\n",
      "dtypes: float64(518), object(1)\n",
      "memory usage: 414.0+ MB\n"
     ]
    }
   ],
   "source": [
    "df_features_genre.info()"
   ]
  },
  {
   "cell_type": "code",
   "execution_count": null,
   "metadata": {
    "ExecuteTime": {
     "end_time": "2018-09-16T21:57:25.636644Z",
     "start_time": "2018-09-16T21:57:01.996Z"
    }
   },
   "outputs": [],
   "source": [
    "df_features_genre.to_csv(\"features_genre_HIERA_multi.csv\")"
   ]
  },
  {
   "cell_type": "markdown",
   "metadata": {},
   "source": [
    "### Selecting single class for each entry\n",
    "We select the class for the entry which is deeper in the tree. We make a list with the hierarchy lebels."
   ]
  },
  {
   "cell_type": "code",
   "execution_count": 21,
   "metadata": {
    "ExecuteTime": {
     "end_time": "2018-09-16T21:58:56.283586Z",
     "start_time": "2018-09-16T21:58:56.263210Z"
    }
   },
   "outputs": [],
   "source": [
    "df_genres = pd.read_csv(\"genres.csv\")"
   ]
  },
  {
   "cell_type": "code",
   "execution_count": 22,
   "metadata": {
    "ExecuteTime": {
     "end_time": "2018-09-16T21:58:56.908514Z",
     "start_time": "2018-09-16T21:58:56.891122Z"
    }
   },
   "outputs": [],
   "source": [
    "class_hierarchy = {}\n",
    "for index in range(df_genres[\"genre_id\"].shape[0]):\n",
    "    try:\n",
    "        class_hierarchy[df_genres[\"parent\"].iloc[index]].append(df_genres[\"genre_id\"].iloc[index])\n",
    "    except:    \n",
    "        class_hierarchy[df_genres[\"parent\"].iloc[index]] = [df_genres[\"genre_id\"].iloc[index]]\n"
   ]
  },
  {
   "cell_type": "code",
   "execution_count": 23,
   "metadata": {
    "ExecuteTime": {
     "end_time": "2018-09-16T21:58:57.769821Z",
     "start_time": "2018-09-16T21:58:57.757723Z"
    }
   },
   "outputs": [
    {
     "data": {
      "text/plain": [
       "{0: [2, 3, 4, 5, 8, 9, 10, 12, 13, 14, 15, 17, 20, 21, 38, 1235],\n",
       " 2: [46, 77, 79, 86, 92, 102, 117, 118, 130, 171, 172, 176, 177, 232, 504],\n",
       " 3: [567],\n",
       " 4: [37, 74, 97, 178, 179, 906],\n",
       " 5: [187, 322, 441, 442, 443, 444, 659],\n",
       " 6: [16, 360],\n",
       " 9: [63, 137, 169, 651],\n",
       " 10: [76, 362],\n",
       " 12: [25, 26, 27, 31, 36, 45, 58, 66, 70, 85, 88, 98, 314, 359, 440],\n",
       " 13: [170, 311, 810],\n",
       " 14: [11, 19],\n",
       " 15: [42, 181, 182, 183, 184, 185, 236, 286, 296, 297, 337, 468, 495, 695],\n",
       " 16: [763],\n",
       " 17: [33, 49, 94, 103, 180],\n",
       " 18: [538],\n",
       " 19: [377],\n",
       " 20: [7, 65, 138, 188, 374, 378, 428, 465],\n",
       " 21: [83, 100, 539, 542, 580, 693, 811],\n",
       " 25: [64, 71, 89, 109, 111],\n",
       " 26: [113],\n",
       " 31: [101, 167, 439],\n",
       " 38: [1, 6, 22, 30, 32, 41, 47, 125, 186, 224, 247, 250, 456, 514],\n",
       " 45: [53],\n",
       " 46: [502, 808, 1060],\n",
       " 53: [90],\n",
       " 65: [43, 166, 189],\n",
       " 79: [602],\n",
       " 85: [404],\n",
       " 86: [173, 174, 175],\n",
       " 92: [81, 214],\n",
       " 102: [1032],\n",
       " 109: [361],\n",
       " 130: [524, 619, 741, 1156],\n",
       " 181: [401],\n",
       " 182: [400],\n",
       " 297: [240],\n",
       " 468: [491],\n",
       " 651: [493],\n",
       " 763: [1193],\n",
       " 1235: [18, 107, 267]}"
      ]
     },
     "execution_count": 23,
     "metadata": {},
     "output_type": "execute_result"
    }
   ],
   "source": [
    "class_hierarchy"
   ]
  },
  {
   "cell_type": "code",
   "execution_count": 24,
   "metadata": {
    "ExecuteTime": {
     "end_time": "2018-09-16T21:58:58.804596Z",
     "start_time": "2018-09-16T21:58:58.799661Z"
    }
   },
   "outputs": [],
   "source": [
    "genres_list = df_features_genre[\"genre_compact\"].tolist()"
   ]
  },
  {
   "cell_type": "markdown",
   "metadata": {},
   "source": [
    "Making a list with the hierarchy level for each label in each song. Selecting the genre which is deepest in the hierarchy. If we got two levels with the same depth for a song we write -1 to label it as invalid and drop it subsequently.  "
   ]
  },
  {
   "cell_type": "code",
   "execution_count": 25,
   "metadata": {
    "ExecuteTime": {
     "end_time": "2018-09-16T21:59:04.212747Z",
     "start_time": "2018-09-16T21:59:03.436212Z"
    },
    "scrolled": true
   },
   "outputs": [],
   "source": [
    "genres_selected =[]\n",
    "for song in genres_list:\n",
    "    level_list = []\n",
    "    if len(song)==1:\n",
    "        genres_selected.append(int(song[0])) \n",
    "    else:\n",
    "        for genre in song:           \n",
    "            element = int(genre)\n",
    "            level = 0\n",
    "            while element != 0: \n",
    "                parent = find_element_dictio(class_hierarchy, element)\n",
    "                if parent !=0:\n",
    "                    level +=1\n",
    "                element = parent\n",
    "            level_list.append(level)\n",
    "        selected_gen = [index for index, value in enumerate(level_list) if value == max(level_list)]\n",
    "        if len(selected_gen) ==1: \n",
    "            genres_selected.append(level_list[selected_gen[0]])\n",
    "        else:\n",
    "            genres_selected.append(-1)"
   ]
  },
  {
   "cell_type": "code",
   "execution_count": 26,
   "metadata": {
    "ExecuteTime": {
     "end_time": "2018-09-16T21:59:05.140968Z",
     "start_time": "2018-09-16T21:59:05.106219Z"
    }
   },
   "outputs": [],
   "source": [
    "df_features_genre[\"genre_selected\"] = genres_selected"
   ]
  },
  {
   "cell_type": "code",
   "execution_count": 27,
   "metadata": {
    "ExecuteTime": {
     "end_time": "2018-09-16T21:59:06.232579Z",
     "start_time": "2018-09-16T21:59:06.186238Z"
    }
   },
   "outputs": [
    {
     "data": {
      "text/html": [
       "<div>\n",
       "<style scoped>\n",
       "    .dataframe tbody tr th:only-of-type {\n",
       "        vertical-align: middle;\n",
       "    }\n",
       "\n",
       "    .dataframe tbody tr th {\n",
       "        vertical-align: top;\n",
       "    }\n",
       "\n",
       "    .dataframe thead th {\n",
       "        text-align: right;\n",
       "    }\n",
       "</style>\n",
       "<table border=\"1\" class=\"dataframe\">\n",
       "  <thead>\n",
       "    <tr style=\"text-align: right;\">\n",
       "      <th></th>\n",
       "      <th>(chroma_cens, kurtosis, 01)</th>\n",
       "      <th>(chroma_cens, kurtosis, 02)</th>\n",
       "      <th>(chroma_cens, kurtosis, 03)</th>\n",
       "      <th>(chroma_cens, kurtosis, 04)</th>\n",
       "      <th>(chroma_cens, kurtosis, 05)</th>\n",
       "      <th>(chroma_cens, kurtosis, 06)</th>\n",
       "      <th>(chroma_cens, kurtosis, 07)</th>\n",
       "      <th>(chroma_cens, kurtosis, 08)</th>\n",
       "      <th>(chroma_cens, kurtosis, 09)</th>\n",
       "      <th>(chroma_cens, kurtosis, 10)</th>\n",
       "      <th>...</th>\n",
       "      <th>(tonnetz, std, 06)</th>\n",
       "      <th>(zcr, kurtosis, 01)</th>\n",
       "      <th>(zcr, max, 01)</th>\n",
       "      <th>(zcr, mean, 01)</th>\n",
       "      <th>(zcr, median, 01)</th>\n",
       "      <th>(zcr, min, 01)</th>\n",
       "      <th>(zcr, skew, 01)</th>\n",
       "      <th>(zcr, std, 01)</th>\n",
       "      <th>genre_compact</th>\n",
       "      <th>genre_selected</th>\n",
       "    </tr>\n",
       "    <tr>\n",
       "      <th>track_id</th>\n",
       "      <th></th>\n",
       "      <th></th>\n",
       "      <th></th>\n",
       "      <th></th>\n",
       "      <th></th>\n",
       "      <th></th>\n",
       "      <th></th>\n",
       "      <th></th>\n",
       "      <th></th>\n",
       "      <th></th>\n",
       "      <th></th>\n",
       "      <th></th>\n",
       "      <th></th>\n",
       "      <th></th>\n",
       "      <th></th>\n",
       "      <th></th>\n",
       "      <th></th>\n",
       "      <th></th>\n",
       "      <th></th>\n",
       "      <th></th>\n",
       "      <th></th>\n",
       "    </tr>\n",
       "  </thead>\n",
       "  <tbody>\n",
       "    <tr>\n",
       "      <th>2</th>\n",
       "      <td>7.180653</td>\n",
       "      <td>5.230309</td>\n",
       "      <td>0.249321</td>\n",
       "      <td>1.347620</td>\n",
       "      <td>1.482478</td>\n",
       "      <td>0.531371</td>\n",
       "      <td>1.481593</td>\n",
       "      <td>2.691455</td>\n",
       "      <td>0.866868</td>\n",
       "      <td>1.341231</td>\n",
       "      <td>...</td>\n",
       "      <td>0.012111</td>\n",
       "      <td>5.758890</td>\n",
       "      <td>0.459473</td>\n",
       "      <td>0.085629</td>\n",
       "      <td>0.071289</td>\n",
       "      <td>0.000000</td>\n",
       "      <td>2.089872</td>\n",
       "      <td>0.061448</td>\n",
       "      <td>[21]</td>\n",
       "      <td>21</td>\n",
       "    </tr>\n",
       "    <tr>\n",
       "      <th>3</th>\n",
       "      <td>1.888963</td>\n",
       "      <td>0.760539</td>\n",
       "      <td>0.345297</td>\n",
       "      <td>2.295201</td>\n",
       "      <td>1.654031</td>\n",
       "      <td>0.067592</td>\n",
       "      <td>1.366848</td>\n",
       "      <td>1.054094</td>\n",
       "      <td>0.108103</td>\n",
       "      <td>0.619185</td>\n",
       "      <td>...</td>\n",
       "      <td>0.017740</td>\n",
       "      <td>2.824694</td>\n",
       "      <td>0.466309</td>\n",
       "      <td>0.084578</td>\n",
       "      <td>0.063965</td>\n",
       "      <td>0.000000</td>\n",
       "      <td>1.716724</td>\n",
       "      <td>0.069330</td>\n",
       "      <td>[21]</td>\n",
       "      <td>21</td>\n",
       "    </tr>\n",
       "    <tr>\n",
       "      <th>5</th>\n",
       "      <td>0.527563</td>\n",
       "      <td>-0.077654</td>\n",
       "      <td>-0.279610</td>\n",
       "      <td>0.685883</td>\n",
       "      <td>1.937570</td>\n",
       "      <td>0.880839</td>\n",
       "      <td>-0.923192</td>\n",
       "      <td>-0.927232</td>\n",
       "      <td>0.666617</td>\n",
       "      <td>1.038546</td>\n",
       "      <td>...</td>\n",
       "      <td>0.014759</td>\n",
       "      <td>6.808415</td>\n",
       "      <td>0.375000</td>\n",
       "      <td>0.053114</td>\n",
       "      <td>0.041504</td>\n",
       "      <td>0.000000</td>\n",
       "      <td>2.193303</td>\n",
       "      <td>0.044861</td>\n",
       "      <td>[21]</td>\n",
       "      <td>21</td>\n",
       "    </tr>\n",
       "    <tr>\n",
       "      <th>10</th>\n",
       "      <td>3.702245</td>\n",
       "      <td>-0.291193</td>\n",
       "      <td>2.196742</td>\n",
       "      <td>-0.234449</td>\n",
       "      <td>1.367364</td>\n",
       "      <td>0.998411</td>\n",
       "      <td>1.770694</td>\n",
       "      <td>1.604566</td>\n",
       "      <td>0.521217</td>\n",
       "      <td>1.982386</td>\n",
       "      <td>...</td>\n",
       "      <td>0.013921</td>\n",
       "      <td>21.434212</td>\n",
       "      <td>0.452148</td>\n",
       "      <td>0.077515</td>\n",
       "      <td>0.071777</td>\n",
       "      <td>0.000000</td>\n",
       "      <td>3.542325</td>\n",
       "      <td>0.040800</td>\n",
       "      <td>[10]</td>\n",
       "      <td>10</td>\n",
       "    </tr>\n",
       "    <tr>\n",
       "      <th>20</th>\n",
       "      <td>-0.193837</td>\n",
       "      <td>-0.198527</td>\n",
       "      <td>0.201546</td>\n",
       "      <td>0.258556</td>\n",
       "      <td>0.775204</td>\n",
       "      <td>0.084794</td>\n",
       "      <td>-0.289294</td>\n",
       "      <td>-0.816410</td>\n",
       "      <td>0.043851</td>\n",
       "      <td>-0.804761</td>\n",
       "      <td>...</td>\n",
       "      <td>0.021355</td>\n",
       "      <td>16.669037</td>\n",
       "      <td>0.469727</td>\n",
       "      <td>0.047225</td>\n",
       "      <td>0.040039</td>\n",
       "      <td>0.000977</td>\n",
       "      <td>3.189831</td>\n",
       "      <td>0.030993</td>\n",
       "      <td>[76, 103]</td>\n",
       "      <td>-1</td>\n",
       "    </tr>\n",
       "  </tbody>\n",
       "</table>\n",
       "<p>5 rows × 520 columns</p>\n",
       "</div>"
      ],
      "text/plain": [
       "          (chroma_cens, kurtosis, 01)  (chroma_cens, kurtosis, 02)  \\\n",
       "track_id                                                             \n",
       "2                            7.180653                     5.230309   \n",
       "3                            1.888963                     0.760539   \n",
       "5                            0.527563                    -0.077654   \n",
       "10                           3.702245                    -0.291193   \n",
       "20                          -0.193837                    -0.198527   \n",
       "\n",
       "          (chroma_cens, kurtosis, 03)  (chroma_cens, kurtosis, 04)  \\\n",
       "track_id                                                             \n",
       "2                            0.249321                     1.347620   \n",
       "3                            0.345297                     2.295201   \n",
       "5                           -0.279610                     0.685883   \n",
       "10                           2.196742                    -0.234449   \n",
       "20                           0.201546                     0.258556   \n",
       "\n",
       "          (chroma_cens, kurtosis, 05)  (chroma_cens, kurtosis, 06)  \\\n",
       "track_id                                                             \n",
       "2                            1.482478                     0.531371   \n",
       "3                            1.654031                     0.067592   \n",
       "5                            1.937570                     0.880839   \n",
       "10                           1.367364                     0.998411   \n",
       "20                           0.775204                     0.084794   \n",
       "\n",
       "          (chroma_cens, kurtosis, 07)  (chroma_cens, kurtosis, 08)  \\\n",
       "track_id                                                             \n",
       "2                            1.481593                     2.691455   \n",
       "3                            1.366848                     1.054094   \n",
       "5                           -0.923192                    -0.927232   \n",
       "10                           1.770694                     1.604566   \n",
       "20                          -0.289294                    -0.816410   \n",
       "\n",
       "          (chroma_cens, kurtosis, 09)  (chroma_cens, kurtosis, 10)  \\\n",
       "track_id                                                             \n",
       "2                            0.866868                     1.341231   \n",
       "3                            0.108103                     0.619185   \n",
       "5                            0.666617                     1.038546   \n",
       "10                           0.521217                     1.982386   \n",
       "20                           0.043851                    -0.804761   \n",
       "\n",
       "               ...        (tonnetz, std, 06)  (zcr, kurtosis, 01)  \\\n",
       "track_id       ...                                                  \n",
       "2              ...                  0.012111             5.758890   \n",
       "3              ...                  0.017740             2.824694   \n",
       "5              ...                  0.014759             6.808415   \n",
       "10             ...                  0.013921            21.434212   \n",
       "20             ...                  0.021355            16.669037   \n",
       "\n",
       "          (zcr, max, 01)  (zcr, mean, 01)  (zcr, median, 01)  (zcr, min, 01)  \\\n",
       "track_id                                                                       \n",
       "2               0.459473         0.085629           0.071289        0.000000   \n",
       "3               0.466309         0.084578           0.063965        0.000000   \n",
       "5               0.375000         0.053114           0.041504        0.000000   \n",
       "10              0.452148         0.077515           0.071777        0.000000   \n",
       "20              0.469727         0.047225           0.040039        0.000977   \n",
       "\n",
       "          (zcr, skew, 01)  (zcr, std, 01)  genre_compact  genre_selected  \n",
       "track_id                                                                  \n",
       "2                2.089872        0.061448           [21]              21  \n",
       "3                1.716724        0.069330           [21]              21  \n",
       "5                2.193303        0.044861           [21]              21  \n",
       "10               3.542325        0.040800           [10]              10  \n",
       "20               3.189831        0.030993      [76, 103]              -1  \n",
       "\n",
       "[5 rows x 520 columns]"
      ]
     },
     "execution_count": 27,
     "metadata": {},
     "output_type": "execute_result"
    }
   ],
   "source": [
    "df_features_genre.head()"
   ]
  },
  {
   "cell_type": "markdown",
   "metadata": {},
   "source": [
    "Remove invalid tracks"
   ]
  },
  {
   "cell_type": "code",
   "execution_count": 28,
   "metadata": {
    "ExecuteTime": {
     "end_time": "2018-09-16T21:59:11.162473Z",
     "start_time": "2018-09-16T21:59:11.070232Z"
    }
   },
   "outputs": [],
   "source": [
    "df_features_genre = df_features_genre[df_features_genre.genre_selected != -1]"
   ]
  },
  {
   "cell_type": "code",
   "execution_count": 29,
   "metadata": {
    "ExecuteTime": {
     "end_time": "2018-09-16T21:59:12.398624Z",
     "start_time": "2018-09-16T21:59:12.215833Z"
    }
   },
   "outputs": [],
   "source": [
    "df_features_genre.drop(\"genre_compact\", axis=1, inplace=True)"
   ]
  },
  {
   "cell_type": "code",
   "execution_count": 30,
   "metadata": {
    "ExecuteTime": {
     "end_time": "2018-09-16T21:59:13.359727Z",
     "start_time": "2018-09-16T21:59:13.327824Z"
    }
   },
   "outputs": [
    {
     "data": {
      "text/html": [
       "<div>\n",
       "<style scoped>\n",
       "    .dataframe tbody tr th:only-of-type {\n",
       "        vertical-align: middle;\n",
       "    }\n",
       "\n",
       "    .dataframe tbody tr th {\n",
       "        vertical-align: top;\n",
       "    }\n",
       "\n",
       "    .dataframe thead th {\n",
       "        text-align: right;\n",
       "    }\n",
       "</style>\n",
       "<table border=\"1\" class=\"dataframe\">\n",
       "  <thead>\n",
       "    <tr style=\"text-align: right;\">\n",
       "      <th></th>\n",
       "      <th>(chroma_cens, kurtosis, 01)</th>\n",
       "      <th>(chroma_cens, kurtosis, 02)</th>\n",
       "      <th>(chroma_cens, kurtosis, 03)</th>\n",
       "      <th>(chroma_cens, kurtosis, 04)</th>\n",
       "      <th>(chroma_cens, kurtosis, 05)</th>\n",
       "      <th>(chroma_cens, kurtosis, 06)</th>\n",
       "      <th>(chroma_cens, kurtosis, 07)</th>\n",
       "      <th>(chroma_cens, kurtosis, 08)</th>\n",
       "      <th>(chroma_cens, kurtosis, 09)</th>\n",
       "      <th>(chroma_cens, kurtosis, 10)</th>\n",
       "      <th>...</th>\n",
       "      <th>(tonnetz, std, 05)</th>\n",
       "      <th>(tonnetz, std, 06)</th>\n",
       "      <th>(zcr, kurtosis, 01)</th>\n",
       "      <th>(zcr, max, 01)</th>\n",
       "      <th>(zcr, mean, 01)</th>\n",
       "      <th>(zcr, median, 01)</th>\n",
       "      <th>(zcr, min, 01)</th>\n",
       "      <th>(zcr, skew, 01)</th>\n",
       "      <th>(zcr, std, 01)</th>\n",
       "      <th>genre_selected</th>\n",
       "    </tr>\n",
       "    <tr>\n",
       "      <th>track_id</th>\n",
       "      <th></th>\n",
       "      <th></th>\n",
       "      <th></th>\n",
       "      <th></th>\n",
       "      <th></th>\n",
       "      <th></th>\n",
       "      <th></th>\n",
       "      <th></th>\n",
       "      <th></th>\n",
       "      <th></th>\n",
       "      <th></th>\n",
       "      <th></th>\n",
       "      <th></th>\n",
       "      <th></th>\n",
       "      <th></th>\n",
       "      <th></th>\n",
       "      <th></th>\n",
       "      <th></th>\n",
       "      <th></th>\n",
       "      <th></th>\n",
       "      <th></th>\n",
       "    </tr>\n",
       "  </thead>\n",
       "  <tbody>\n",
       "    <tr>\n",
       "      <th>2</th>\n",
       "      <td>7.180653</td>\n",
       "      <td>5.230309</td>\n",
       "      <td>0.249321</td>\n",
       "      <td>1.347620</td>\n",
       "      <td>1.482478</td>\n",
       "      <td>0.531371</td>\n",
       "      <td>1.481593</td>\n",
       "      <td>2.691455</td>\n",
       "      <td>0.866868</td>\n",
       "      <td>1.341231</td>\n",
       "      <td>...</td>\n",
       "      <td>0.012226</td>\n",
       "      <td>0.012111</td>\n",
       "      <td>5.758890</td>\n",
       "      <td>0.459473</td>\n",
       "      <td>0.085629</td>\n",
       "      <td>0.071289</td>\n",
       "      <td>0.0</td>\n",
       "      <td>2.089872</td>\n",
       "      <td>0.061448</td>\n",
       "      <td>21</td>\n",
       "    </tr>\n",
       "    <tr>\n",
       "      <th>3</th>\n",
       "      <td>1.888963</td>\n",
       "      <td>0.760539</td>\n",
       "      <td>0.345297</td>\n",
       "      <td>2.295201</td>\n",
       "      <td>1.654031</td>\n",
       "      <td>0.067592</td>\n",
       "      <td>1.366848</td>\n",
       "      <td>1.054094</td>\n",
       "      <td>0.108103</td>\n",
       "      <td>0.619185</td>\n",
       "      <td>...</td>\n",
       "      <td>0.014212</td>\n",
       "      <td>0.017740</td>\n",
       "      <td>2.824694</td>\n",
       "      <td>0.466309</td>\n",
       "      <td>0.084578</td>\n",
       "      <td>0.063965</td>\n",
       "      <td>0.0</td>\n",
       "      <td>1.716724</td>\n",
       "      <td>0.069330</td>\n",
       "      <td>21</td>\n",
       "    </tr>\n",
       "    <tr>\n",
       "      <th>5</th>\n",
       "      <td>0.527563</td>\n",
       "      <td>-0.077654</td>\n",
       "      <td>-0.279610</td>\n",
       "      <td>0.685883</td>\n",
       "      <td>1.937570</td>\n",
       "      <td>0.880839</td>\n",
       "      <td>-0.923192</td>\n",
       "      <td>-0.927232</td>\n",
       "      <td>0.666617</td>\n",
       "      <td>1.038546</td>\n",
       "      <td>...</td>\n",
       "      <td>0.012691</td>\n",
       "      <td>0.014759</td>\n",
       "      <td>6.808415</td>\n",
       "      <td>0.375000</td>\n",
       "      <td>0.053114</td>\n",
       "      <td>0.041504</td>\n",
       "      <td>0.0</td>\n",
       "      <td>2.193303</td>\n",
       "      <td>0.044861</td>\n",
       "      <td>21</td>\n",
       "    </tr>\n",
       "    <tr>\n",
       "      <th>10</th>\n",
       "      <td>3.702245</td>\n",
       "      <td>-0.291193</td>\n",
       "      <td>2.196742</td>\n",
       "      <td>-0.234449</td>\n",
       "      <td>1.367364</td>\n",
       "      <td>0.998411</td>\n",
       "      <td>1.770694</td>\n",
       "      <td>1.604566</td>\n",
       "      <td>0.521217</td>\n",
       "      <td>1.982386</td>\n",
       "      <td>...</td>\n",
       "      <td>0.017952</td>\n",
       "      <td>0.013921</td>\n",
       "      <td>21.434212</td>\n",
       "      <td>0.452148</td>\n",
       "      <td>0.077515</td>\n",
       "      <td>0.071777</td>\n",
       "      <td>0.0</td>\n",
       "      <td>3.542325</td>\n",
       "      <td>0.040800</td>\n",
       "      <td>10</td>\n",
       "    </tr>\n",
       "    <tr>\n",
       "      <th>134</th>\n",
       "      <td>0.918445</td>\n",
       "      <td>0.674147</td>\n",
       "      <td>0.577818</td>\n",
       "      <td>1.281117</td>\n",
       "      <td>0.933746</td>\n",
       "      <td>0.078177</td>\n",
       "      <td>1.199204</td>\n",
       "      <td>-0.175223</td>\n",
       "      <td>0.925482</td>\n",
       "      <td>1.438509</td>\n",
       "      <td>...</td>\n",
       "      <td>0.016322</td>\n",
       "      <td>0.015819</td>\n",
       "      <td>4.731087</td>\n",
       "      <td>0.419434</td>\n",
       "      <td>0.064370</td>\n",
       "      <td>0.050781</td>\n",
       "      <td>0.0</td>\n",
       "      <td>1.806106</td>\n",
       "      <td>0.054623</td>\n",
       "      <td>21</td>\n",
       "    </tr>\n",
       "  </tbody>\n",
       "</table>\n",
       "<p>5 rows × 519 columns</p>\n",
       "</div>"
      ],
      "text/plain": [
       "          (chroma_cens, kurtosis, 01)  (chroma_cens, kurtosis, 02)  \\\n",
       "track_id                                                             \n",
       "2                            7.180653                     5.230309   \n",
       "3                            1.888963                     0.760539   \n",
       "5                            0.527563                    -0.077654   \n",
       "10                           3.702245                    -0.291193   \n",
       "134                          0.918445                     0.674147   \n",
       "\n",
       "          (chroma_cens, kurtosis, 03)  (chroma_cens, kurtosis, 04)  \\\n",
       "track_id                                                             \n",
       "2                            0.249321                     1.347620   \n",
       "3                            0.345297                     2.295201   \n",
       "5                           -0.279610                     0.685883   \n",
       "10                           2.196742                    -0.234449   \n",
       "134                          0.577818                     1.281117   \n",
       "\n",
       "          (chroma_cens, kurtosis, 05)  (chroma_cens, kurtosis, 06)  \\\n",
       "track_id                                                             \n",
       "2                            1.482478                     0.531371   \n",
       "3                            1.654031                     0.067592   \n",
       "5                            1.937570                     0.880839   \n",
       "10                           1.367364                     0.998411   \n",
       "134                          0.933746                     0.078177   \n",
       "\n",
       "          (chroma_cens, kurtosis, 07)  (chroma_cens, kurtosis, 08)  \\\n",
       "track_id                                                             \n",
       "2                            1.481593                     2.691455   \n",
       "3                            1.366848                     1.054094   \n",
       "5                           -0.923192                    -0.927232   \n",
       "10                           1.770694                     1.604566   \n",
       "134                          1.199204                    -0.175223   \n",
       "\n",
       "          (chroma_cens, kurtosis, 09)  (chroma_cens, kurtosis, 10)  \\\n",
       "track_id                                                             \n",
       "2                            0.866868                     1.341231   \n",
       "3                            0.108103                     0.619185   \n",
       "5                            0.666617                     1.038546   \n",
       "10                           0.521217                     1.982386   \n",
       "134                          0.925482                     1.438509   \n",
       "\n",
       "               ...        (tonnetz, std, 05)  (tonnetz, std, 06)  \\\n",
       "track_id       ...                                                 \n",
       "2              ...                  0.012226            0.012111   \n",
       "3              ...                  0.014212            0.017740   \n",
       "5              ...                  0.012691            0.014759   \n",
       "10             ...                  0.017952            0.013921   \n",
       "134            ...                  0.016322            0.015819   \n",
       "\n",
       "          (zcr, kurtosis, 01)  (zcr, max, 01)  (zcr, mean, 01)  \\\n",
       "track_id                                                         \n",
       "2                    5.758890        0.459473         0.085629   \n",
       "3                    2.824694        0.466309         0.084578   \n",
       "5                    6.808415        0.375000         0.053114   \n",
       "10                  21.434212        0.452148         0.077515   \n",
       "134                  4.731087        0.419434         0.064370   \n",
       "\n",
       "          (zcr, median, 01)  (zcr, min, 01)  (zcr, skew, 01)  (zcr, std, 01)  \\\n",
       "track_id                                                                       \n",
       "2                  0.071289             0.0         2.089872        0.061448   \n",
       "3                  0.063965             0.0         1.716724        0.069330   \n",
       "5                  0.041504             0.0         2.193303        0.044861   \n",
       "10                 0.071777             0.0         3.542325        0.040800   \n",
       "134                0.050781             0.0         1.806106        0.054623   \n",
       "\n",
       "          genre_selected  \n",
       "track_id                  \n",
       "2                     21  \n",
       "3                     21  \n",
       "5                     21  \n",
       "10                    10  \n",
       "134                   21  \n",
       "\n",
       "[5 rows x 519 columns]"
      ]
     },
     "execution_count": 30,
     "metadata": {},
     "output_type": "execute_result"
    }
   ],
   "source": [
    "df_features_genre.head()"
   ]
  },
  {
   "cell_type": "markdown",
   "metadata": {},
   "source": [
    "Drop genre with less than a number of tracks"
   ]
  },
  {
   "cell_type": "code",
   "execution_count": 35,
   "metadata": {
    "ExecuteTime": {
     "end_time": "2018-09-16T22:00:02.644780Z",
     "start_time": "2018-09-16T22:00:02.637478Z"
    }
   },
   "outputs": [
    {
     "data": {
      "text/plain": [
       "1     16281\n",
       "21     2735\n",
       "15     2689\n",
       "12     1896\n",
       "17     1349\n",
       "Name: genre_selected, dtype: int64"
      ]
     },
     "execution_count": 35,
     "metadata": {},
     "output_type": "execute_result"
    }
   ],
   "source": [
    "df_features_genre[\"genre_selected\"].value_counts().head()"
   ]
  },
  {
   "cell_type": "code",
   "execution_count": 36,
   "metadata": {
    "ExecuteTime": {
     "end_time": "2018-09-16T22:00:06.766421Z",
     "start_time": "2018-09-16T22:00:06.599653Z"
    }
   },
   "outputs": [],
   "source": [
    "g = df_features_genre.groupby('genre_selected')\n",
    "df_features_genre = g.filter(lambda x: len(x) > MIN_TRACKS)"
   ]
  },
  {
   "cell_type": "code",
   "execution_count": 43,
   "metadata": {
    "ExecuteTime": {
     "end_time": "2018-09-16T22:02:04.798829Z",
     "start_time": "2018-09-16T22:02:04.791642Z"
    }
   },
   "outputs": [
    {
     "data": {
      "text/plain": [
       "16281"
      ]
     },
     "execution_count": 43,
     "metadata": {},
     "output_type": "execute_result"
    }
   ],
   "source": [
    "df_features_genre[\"genre_selected\"].value_counts().head(1).iloc[0]"
   ]
  },
  {
   "cell_type": "markdown",
   "metadata": {},
   "source": [
    "accuracy dummy classifier"
   ]
  },
  {
   "cell_type": "code",
   "execution_count": 45,
   "metadata": {
    "ExecuteTime": {
     "end_time": "2018-09-16T22:02:16.417917Z",
     "start_time": "2018-09-16T22:02:16.410367Z"
    }
   },
   "outputs": [
    {
     "data": {
      "text/plain": [
       "0.4092760180995475"
      ]
     },
     "execution_count": 45,
     "metadata": {},
     "output_type": "execute_result"
    }
   ],
   "source": [
    "df_features_genre[\"genre_selected\"].value_counts().head(1).iloc[0]/df_features_genre[\"genre_selected\"].shape[0]"
   ]
  },
  {
   "cell_type": "markdown",
   "metadata": {},
   "source": [
    "Number of genres"
   ]
  },
  {
   "cell_type": "code",
   "execution_count": 50,
   "metadata": {
    "ExecuteTime": {
     "end_time": "2018-09-16T22:06:52.468507Z",
     "start_time": "2018-09-16T22:06:52.464606Z"
    }
   },
   "outputs": [
    {
     "data": {
      "text/plain": [
       "50"
      ]
     },
     "execution_count": 50,
     "metadata": {},
     "output_type": "execute_result"
    }
   ],
   "source": [
    "df_features_genre[\"genre_selected\"].unique().shape[0]"
   ]
  },
  {
   "cell_type": "code",
   "execution_count": 49,
   "metadata": {
    "ExecuteTime": {
     "end_time": "2018-09-16T22:03:58.642367Z",
     "start_time": "2018-09-16T22:03:58.601671Z"
    }
   },
   "outputs": [
    {
     "name": "stdout",
     "output_type": "stream",
     "text": [
      "<class 'pandas.core.frame.DataFrame'>\n",
      "Int64Index: 39780 entries, 2 to 155319\n",
      "Columns: 519 entries, (chroma_cens, kurtosis, 01) to genre_selected\n",
      "dtypes: float64(518), int64(1)\n",
      "memory usage: 157.8 MB\n"
     ]
    }
   ],
   "source": [
    "df_features_genre.info()"
   ]
  },
  {
   "cell_type": "code",
   "execution_count": null,
   "metadata": {
    "ExecuteTime": {
     "end_time": "2018-09-16T21:57:25.654556Z",
     "start_time": "2018-09-16T21:57:02.068Z"
    }
   },
   "outputs": [],
   "source": [
    "df_features_genre.to_csv(\"features_genre_HIERA_min_\"+str(MIN_TRACKS)+\".csv\")"
   ]
  },
  {
   "cell_type": "code",
   "execution_count": null,
   "metadata": {},
   "outputs": [],
   "source": []
  }
 ],
 "metadata": {
  "kernelspec": {
   "display_name": "Python 3",
   "language": "python",
   "name": "python3"
  },
  "language_info": {
   "codemirror_mode": {
    "name": "ipython",
    "version": 3
   },
   "file_extension": ".py",
   "mimetype": "text/x-python",
   "name": "python",
   "nbconvert_exporter": "python",
   "pygments_lexer": "ipython3",
   "version": "3.6.4"
  },
  "varInspector": {
   "cols": {
    "lenName": 16,
    "lenType": 16,
    "lenVar": 40
   },
   "kernels_config": {
    "python": {
     "delete_cmd_postfix": "",
     "delete_cmd_prefix": "del ",
     "library": "var_list.py",
     "varRefreshCmd": "print(var_dic_list())"
    },
    "r": {
     "delete_cmd_postfix": ") ",
     "delete_cmd_prefix": "rm(",
     "library": "var_list.r",
     "varRefreshCmd": "cat(var_dic_list()) "
    }
   },
   "types_to_exclude": [
    "module",
    "function",
    "builtin_function_or_method",
    "instance",
    "_Feature"
   ],
   "window_display": false
  }
 },
 "nbformat": 4,
 "nbformat_minor": 2
}
