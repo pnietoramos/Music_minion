{
 "cells": [
  {
   "cell_type": "markdown",
   "metadata": {},
   "source": [
    "## Features provided  \n",
    "stft = np.abs(librosa.stft(x, n_fft=2048, hop_length=512))  \n",
    "cqt = np.abs(librosa.cqt(x, sr=sr, hop_length=512, bins_per_octave=12,\n",
    "                                 n_bins=7\\*12, tuning=None))  \n",
    "                                 \n",
    "kurtosis,max,mean,median,min,skew,std\n",
    "### chroma_cens [12] (librosa.feature.chroma_cens(C=cqt, n_chroma=12, n_octaves=7))\n",
    "Chroma variant “Chroma Energy Normalized” (CENS)  \n",
    "\n",
    "### chroma_cqt [12] (librosa.feature.chroma_cqt(C=cqt, n_chroma=12, n_octaves=7)\n",
    "Constant-Q chromagram\n",
    "\n",
    "### chroma_stft [12] (librosa.feature.chroma_stft(S=stft**2, n_chroma=12), )\n",
    "Compute a chromagram from a waveform or power spectrogram. \n",
    "\n",
    "### mfcc [20]  ( mel = librosa.feature.melspectrogram(sr=sr, S=stft**2);  del stft; f = librosa.feature.mfcc(S=librosa.power_to_db(mel), n_mfcc=20) )  \n",
    "Mel-frequency cepstral coefficients (MFCCs). Used in speech recognition\n",
    "\n",
    "### rmse [1]  (librosa.feature.rmse(S=stft))\n",
    "Compute root-mean-square (RMS) energy for each frame, either from the audio samples y or from a spectrogram S.  \n",
    "\n",
    "### spectral_bandwidth [1] (librosa.feature.spectral_bandwidth(S=stft))\n",
    "Compute second-order spectral bandwidth: (sum_k S[k] * (freq[k] - centroid)^2)^(1/2)\n",
    "\n",
    "### spectral_centroid [1] (librosa.feature.spectral_centroid(S=stft))  \n",
    "Compute the spectral centroid. Each frame of a magnitude spectrogram is normalized and treated as a distribution over frequency bins, from which the mean (centroid) is extracted per frame.\n",
    "\n",
    "### spectral_contrast [7] (librosa.feature.spectral_contrast(S=stft, n_bands=6))\n",
    "Compute spectral contrast \n",
    "\n",
    "### spectral_rolloff [1] (librosa.feature.spectral_rolloff(S=stft))\n",
    "The roll-off frequency is defined for each frame as the center frequency for a spectrogram bin such that at least roll_percent (0.85 by default) of the energy of the spectrum in this frame is contained in this bin and the bins below. This can be used to, e.g., approximate the maximum (or minimum) frequency by setting roll_percent to a value close to 1 (or 0).\n",
    "\n",
    "### tonnetz [6] (librosa.feature.tonnetz(chroma=f))\n",
    "Computes the tonal centroid features (tonnetz). Returns: Tonal centroid features for each frame.\n",
    "\n",
    "### zcr [1]  (librosa.feature.zero_crossing_rate(x, frame_length=2048, hop_length=512)) \n",
    "Compute the zero-crossing rate of an audio time series. The rate of sign-changes along a signal, i.e., the rate at which the signal changes from positive to negative or back.\n",
    "\n"
   ]
  },
  {
   "cell_type": "code",
   "execution_count": 1,
   "metadata": {
    "ExecuteTime": {
     "end_time": "2018-09-14T19:08:15.781195Z",
     "start_time": "2018-09-14T19:08:11.433408Z"
    }
   },
   "outputs": [
    {
     "name": "stderr",
     "output_type": "stream",
     "text": [
      "/home/pnietoramos/anaconda3/lib/python3.6/site-packages/sklearn/cross_validation.py:41: DeprecationWarning: This module was deprecated in version 0.18 in favor of the model_selection module into which all the refactored classes and functions are moved. Also note that the interface of the new CV iterators are different from that of this module. This module will be removed in 0.20.\n",
      "  \"This module will be removed in 0.20.\", DeprecationWarning)\n"
     ]
    }
   ],
   "source": [
    "import pandas as pd\n",
    "import numpy as np\n",
    "\n",
    "from sklearn.cross_validation import train_test_split\n",
    "from sklearn.preprocessing import StandardScaler\n",
    "from sklearn.ensemble import RandomForestClassifier\n",
    "from sklearn.model_selection import GridSearchCV\n",
    "from sklearn.metrics import accuracy_score\n",
    "\n",
    "from util_koyak import col_selector, grid_estimator"
   ]
  },
  {
   "cell_type": "code",
   "execution_count": 2,
   "metadata": {
    "ExecuteTime": {
     "end_time": "2018-09-14T19:08:21.151310Z",
     "start_time": "2018-09-14T19:08:15.791917Z"
    }
   },
   "outputs": [
    {
     "data": {
      "text/html": [
       "<div>\n",
       "<style scoped>\n",
       "    .dataframe tbody tr th:only-of-type {\n",
       "        vertical-align: middle;\n",
       "    }\n",
       "\n",
       "    .dataframe tbody tr th {\n",
       "        vertical-align: top;\n",
       "    }\n",
       "\n",
       "    .dataframe thead th {\n",
       "        text-align: right;\n",
       "    }\n",
       "</style>\n",
       "<table border=\"1\" class=\"dataframe\">\n",
       "  <thead>\n",
       "    <tr style=\"text-align: right;\">\n",
       "      <th></th>\n",
       "      <th>('chroma_cens', 'kurtosis', '01')</th>\n",
       "      <th>('chroma_cens', 'kurtosis', '02')</th>\n",
       "      <th>('chroma_cens', 'kurtosis', '03')</th>\n",
       "      <th>('chroma_cens', 'kurtosis', '04')</th>\n",
       "      <th>('chroma_cens', 'kurtosis', '05')</th>\n",
       "      <th>('chroma_cens', 'kurtosis', '06')</th>\n",
       "      <th>('chroma_cens', 'kurtosis', '07')</th>\n",
       "      <th>('chroma_cens', 'kurtosis', '08')</th>\n",
       "      <th>('chroma_cens', 'kurtosis', '09')</th>\n",
       "      <th>('chroma_cens', 'kurtosis', '10')</th>\n",
       "      <th>...</th>\n",
       "      <th>('tonnetz', 'std', '05')</th>\n",
       "      <th>('tonnetz', 'std', '06')</th>\n",
       "      <th>('zcr', 'kurtosis', '01')</th>\n",
       "      <th>('zcr', 'max', '01')</th>\n",
       "      <th>('zcr', 'mean', '01')</th>\n",
       "      <th>('zcr', 'median', '01')</th>\n",
       "      <th>('zcr', 'min', '01')</th>\n",
       "      <th>('zcr', 'skew', '01')</th>\n",
       "      <th>('zcr', 'std', '01')</th>\n",
       "      <th>genre_top</th>\n",
       "    </tr>\n",
       "    <tr>\n",
       "      <th>track_id</th>\n",
       "      <th></th>\n",
       "      <th></th>\n",
       "      <th></th>\n",
       "      <th></th>\n",
       "      <th></th>\n",
       "      <th></th>\n",
       "      <th></th>\n",
       "      <th></th>\n",
       "      <th></th>\n",
       "      <th></th>\n",
       "      <th></th>\n",
       "      <th></th>\n",
       "      <th></th>\n",
       "      <th></th>\n",
       "      <th></th>\n",
       "      <th></th>\n",
       "      <th></th>\n",
       "      <th></th>\n",
       "      <th></th>\n",
       "      <th></th>\n",
       "      <th></th>\n",
       "    </tr>\n",
       "  </thead>\n",
       "  <tbody>\n",
       "    <tr>\n",
       "      <th>2</th>\n",
       "      <td>7.180653</td>\n",
       "      <td>5.230309</td>\n",
       "      <td>0.249321</td>\n",
       "      <td>1.347620</td>\n",
       "      <td>1.482478</td>\n",
       "      <td>0.531371</td>\n",
       "      <td>1.481593</td>\n",
       "      <td>2.691455</td>\n",
       "      <td>0.866868</td>\n",
       "      <td>1.341231</td>\n",
       "      <td>...</td>\n",
       "      <td>0.012226</td>\n",
       "      <td>0.012111</td>\n",
       "      <td>5.758890</td>\n",
       "      <td>0.459473</td>\n",
       "      <td>0.085629</td>\n",
       "      <td>0.071289</td>\n",
       "      <td>0.0</td>\n",
       "      <td>2.089872</td>\n",
       "      <td>0.061448</td>\n",
       "      <td>Hip-Hop</td>\n",
       "    </tr>\n",
       "    <tr>\n",
       "      <th>3</th>\n",
       "      <td>1.888963</td>\n",
       "      <td>0.760539</td>\n",
       "      <td>0.345297</td>\n",
       "      <td>2.295201</td>\n",
       "      <td>1.654031</td>\n",
       "      <td>0.067592</td>\n",
       "      <td>1.366848</td>\n",
       "      <td>1.054094</td>\n",
       "      <td>0.108103</td>\n",
       "      <td>0.619185</td>\n",
       "      <td>...</td>\n",
       "      <td>0.014212</td>\n",
       "      <td>0.017740</td>\n",
       "      <td>2.824694</td>\n",
       "      <td>0.466309</td>\n",
       "      <td>0.084578</td>\n",
       "      <td>0.063965</td>\n",
       "      <td>0.0</td>\n",
       "      <td>1.716724</td>\n",
       "      <td>0.069330</td>\n",
       "      <td>Hip-Hop</td>\n",
       "    </tr>\n",
       "    <tr>\n",
       "      <th>5</th>\n",
       "      <td>0.527563</td>\n",
       "      <td>-0.077654</td>\n",
       "      <td>-0.279610</td>\n",
       "      <td>0.685883</td>\n",
       "      <td>1.937570</td>\n",
       "      <td>0.880839</td>\n",
       "      <td>-0.923192</td>\n",
       "      <td>-0.927232</td>\n",
       "      <td>0.666617</td>\n",
       "      <td>1.038546</td>\n",
       "      <td>...</td>\n",
       "      <td>0.012691</td>\n",
       "      <td>0.014759</td>\n",
       "      <td>6.808415</td>\n",
       "      <td>0.375000</td>\n",
       "      <td>0.053114</td>\n",
       "      <td>0.041504</td>\n",
       "      <td>0.0</td>\n",
       "      <td>2.193303</td>\n",
       "      <td>0.044861</td>\n",
       "      <td>Hip-Hop</td>\n",
       "    </tr>\n",
       "    <tr>\n",
       "      <th>10</th>\n",
       "      <td>3.702245</td>\n",
       "      <td>-0.291193</td>\n",
       "      <td>2.196742</td>\n",
       "      <td>-0.234449</td>\n",
       "      <td>1.367364</td>\n",
       "      <td>0.998411</td>\n",
       "      <td>1.770694</td>\n",
       "      <td>1.604566</td>\n",
       "      <td>0.521217</td>\n",
       "      <td>1.982386</td>\n",
       "      <td>...</td>\n",
       "      <td>0.017952</td>\n",
       "      <td>0.013921</td>\n",
       "      <td>21.434212</td>\n",
       "      <td>0.452148</td>\n",
       "      <td>0.077515</td>\n",
       "      <td>0.071777</td>\n",
       "      <td>0.0</td>\n",
       "      <td>3.542325</td>\n",
       "      <td>0.040800</td>\n",
       "      <td>Pop</td>\n",
       "    </tr>\n",
       "    <tr>\n",
       "      <th>134</th>\n",
       "      <td>0.918445</td>\n",
       "      <td>0.674147</td>\n",
       "      <td>0.577818</td>\n",
       "      <td>1.281117</td>\n",
       "      <td>0.933746</td>\n",
       "      <td>0.078177</td>\n",
       "      <td>1.199204</td>\n",
       "      <td>-0.175223</td>\n",
       "      <td>0.925482</td>\n",
       "      <td>1.438509</td>\n",
       "      <td>...</td>\n",
       "      <td>0.016322</td>\n",
       "      <td>0.015819</td>\n",
       "      <td>4.731087</td>\n",
       "      <td>0.419434</td>\n",
       "      <td>0.064370</td>\n",
       "      <td>0.050781</td>\n",
       "      <td>0.0</td>\n",
       "      <td>1.806106</td>\n",
       "      <td>0.054623</td>\n",
       "      <td>Hip-Hop</td>\n",
       "    </tr>\n",
       "  </tbody>\n",
       "</table>\n",
       "<p>5 rows × 519 columns</p>\n",
       "</div>"
      ],
      "text/plain": [
       "          ('chroma_cens', 'kurtosis', '01')  \\\n",
       "track_id                                      \n",
       "2                                  7.180653   \n",
       "3                                  1.888963   \n",
       "5                                  0.527563   \n",
       "10                                 3.702245   \n",
       "134                                0.918445   \n",
       "\n",
       "          ('chroma_cens', 'kurtosis', '02')  \\\n",
       "track_id                                      \n",
       "2                                  5.230309   \n",
       "3                                  0.760539   \n",
       "5                                 -0.077654   \n",
       "10                                -0.291193   \n",
       "134                                0.674147   \n",
       "\n",
       "          ('chroma_cens', 'kurtosis', '03')  \\\n",
       "track_id                                      \n",
       "2                                  0.249321   \n",
       "3                                  0.345297   \n",
       "5                                 -0.279610   \n",
       "10                                 2.196742   \n",
       "134                                0.577818   \n",
       "\n",
       "          ('chroma_cens', 'kurtosis', '04')  \\\n",
       "track_id                                      \n",
       "2                                  1.347620   \n",
       "3                                  2.295201   \n",
       "5                                  0.685883   \n",
       "10                                -0.234449   \n",
       "134                                1.281117   \n",
       "\n",
       "          ('chroma_cens', 'kurtosis', '05')  \\\n",
       "track_id                                      \n",
       "2                                  1.482478   \n",
       "3                                  1.654031   \n",
       "5                                  1.937570   \n",
       "10                                 1.367364   \n",
       "134                                0.933746   \n",
       "\n",
       "          ('chroma_cens', 'kurtosis', '06')  \\\n",
       "track_id                                      \n",
       "2                                  0.531371   \n",
       "3                                  0.067592   \n",
       "5                                  0.880839   \n",
       "10                                 0.998411   \n",
       "134                                0.078177   \n",
       "\n",
       "          ('chroma_cens', 'kurtosis', '07')  \\\n",
       "track_id                                      \n",
       "2                                  1.481593   \n",
       "3                                  1.366848   \n",
       "5                                 -0.923192   \n",
       "10                                 1.770694   \n",
       "134                                1.199204   \n",
       "\n",
       "          ('chroma_cens', 'kurtosis', '08')  \\\n",
       "track_id                                      \n",
       "2                                  2.691455   \n",
       "3                                  1.054094   \n",
       "5                                 -0.927232   \n",
       "10                                 1.604566   \n",
       "134                               -0.175223   \n",
       "\n",
       "          ('chroma_cens', 'kurtosis', '09')  \\\n",
       "track_id                                      \n",
       "2                                  0.866868   \n",
       "3                                  0.108103   \n",
       "5                                  0.666617   \n",
       "10                                 0.521217   \n",
       "134                                0.925482   \n",
       "\n",
       "          ('chroma_cens', 'kurtosis', '10')    ...      \\\n",
       "track_id                                       ...       \n",
       "2                                  1.341231    ...       \n",
       "3                                  0.619185    ...       \n",
       "5                                  1.038546    ...       \n",
       "10                                 1.982386    ...       \n",
       "134                                1.438509    ...       \n",
       "\n",
       "          ('tonnetz', 'std', '05')  ('tonnetz', 'std', '06')  \\\n",
       "track_id                                                       \n",
       "2                         0.012226                  0.012111   \n",
       "3                         0.014212                  0.017740   \n",
       "5                         0.012691                  0.014759   \n",
       "10                        0.017952                  0.013921   \n",
       "134                       0.016322                  0.015819   \n",
       "\n",
       "          ('zcr', 'kurtosis', '01')  ('zcr', 'max', '01')  \\\n",
       "track_id                                                    \n",
       "2                          5.758890              0.459473   \n",
       "3                          2.824694              0.466309   \n",
       "5                          6.808415              0.375000   \n",
       "10                        21.434212              0.452148   \n",
       "134                        4.731087              0.419434   \n",
       "\n",
       "          ('zcr', 'mean', '01')  ('zcr', 'median', '01')  \\\n",
       "track_id                                                   \n",
       "2                      0.085629                 0.071289   \n",
       "3                      0.084578                 0.063965   \n",
       "5                      0.053114                 0.041504   \n",
       "10                     0.077515                 0.071777   \n",
       "134                    0.064370                 0.050781   \n",
       "\n",
       "          ('zcr', 'min', '01')  ('zcr', 'skew', '01')  ('zcr', 'std', '01')  \\\n",
       "track_id                                                                      \n",
       "2                          0.0               2.089872              0.061448   \n",
       "3                          0.0               1.716724              0.069330   \n",
       "5                          0.0               2.193303              0.044861   \n",
       "10                         0.0               3.542325              0.040800   \n",
       "134                        0.0               1.806106              0.054623   \n",
       "\n",
       "          genre_top  \n",
       "track_id             \n",
       "2           Hip-Hop  \n",
       "3           Hip-Hop  \n",
       "5           Hip-Hop  \n",
       "10              Pop  \n",
       "134         Hip-Hop  \n",
       "\n",
       "[5 rows x 519 columns]"
      ]
     },
     "execution_count": 2,
     "metadata": {},
     "output_type": "execute_result"
    }
   ],
   "source": [
    "df_genre = pd.read_csv(\"features_genre_6.csv\", index_col=0)\n",
    "df_genre.head()"
   ]
  },
  {
   "cell_type": "code",
   "execution_count": 3,
   "metadata": {
    "ExecuteTime": {
     "end_time": "2018-09-14T19:08:21.267833Z",
     "start_time": "2018-09-14T19:08:21.232823Z"
    }
   },
   "outputs": [],
   "source": [
    "df_mfcc_cont = col_selector(['mfcc','contrast'], df_genre)"
   ]
  },
  {
   "cell_type": "code",
   "execution_count": 4,
   "metadata": {
    "ExecuteTime": {
     "end_time": "2018-09-14T19:08:21.374333Z",
     "start_time": "2018-09-14T19:08:21.347801Z"
    }
   },
   "outputs": [
    {
     "data": {
      "text/html": [
       "<div>\n",
       "<style scoped>\n",
       "    .dataframe tbody tr th:only-of-type {\n",
       "        vertical-align: middle;\n",
       "    }\n",
       "\n",
       "    .dataframe tbody tr th {\n",
       "        vertical-align: top;\n",
       "    }\n",
       "\n",
       "    .dataframe thead th {\n",
       "        text-align: right;\n",
       "    }\n",
       "</style>\n",
       "<table border=\"1\" class=\"dataframe\">\n",
       "  <thead>\n",
       "    <tr style=\"text-align: right;\">\n",
       "      <th></th>\n",
       "      <th>('mfcc', 'kurtosis', '01')</th>\n",
       "      <th>('mfcc', 'kurtosis', '02')</th>\n",
       "      <th>('mfcc', 'kurtosis', '03')</th>\n",
       "      <th>('mfcc', 'kurtosis', '04')</th>\n",
       "      <th>('mfcc', 'kurtosis', '05')</th>\n",
       "      <th>('mfcc', 'kurtosis', '06')</th>\n",
       "      <th>('mfcc', 'kurtosis', '07')</th>\n",
       "      <th>('mfcc', 'kurtosis', '08')</th>\n",
       "      <th>('mfcc', 'kurtosis', '09')</th>\n",
       "      <th>('mfcc', 'kurtosis', '10')</th>\n",
       "      <th>...</th>\n",
       "      <th>('spectral_contrast', 'skew', '06')</th>\n",
       "      <th>('spectral_contrast', 'skew', '07')</th>\n",
       "      <th>('spectral_contrast', 'std', '01')</th>\n",
       "      <th>('spectral_contrast', 'std', '02')</th>\n",
       "      <th>('spectral_contrast', 'std', '03')</th>\n",
       "      <th>('spectral_contrast', 'std', '04')</th>\n",
       "      <th>('spectral_contrast', 'std', '05')</th>\n",
       "      <th>('spectral_contrast', 'std', '06')</th>\n",
       "      <th>('spectral_contrast', 'std', '07')</th>\n",
       "      <th>genre_top</th>\n",
       "    </tr>\n",
       "    <tr>\n",
       "      <th>track_id</th>\n",
       "      <th></th>\n",
       "      <th></th>\n",
       "      <th></th>\n",
       "      <th></th>\n",
       "      <th></th>\n",
       "      <th></th>\n",
       "      <th></th>\n",
       "      <th></th>\n",
       "      <th></th>\n",
       "      <th></th>\n",
       "      <th></th>\n",
       "      <th></th>\n",
       "      <th></th>\n",
       "      <th></th>\n",
       "      <th></th>\n",
       "      <th></th>\n",
       "      <th></th>\n",
       "      <th></th>\n",
       "      <th></th>\n",
       "      <th></th>\n",
       "      <th></th>\n",
       "    </tr>\n",
       "  </thead>\n",
       "  <tbody>\n",
       "    <tr>\n",
       "      <th>2</th>\n",
       "      <td>3.856789</td>\n",
       "      <td>1.541901</td>\n",
       "      <td>0.000816</td>\n",
       "      <td>0.330728</td>\n",
       "      <td>0.118731</td>\n",
       "      <td>-0.342687</td>\n",
       "      <td>-0.259252</td>\n",
       "      <td>0.146735</td>\n",
       "      <td>0.410656</td>\n",
       "      <td>-0.162872</td>\n",
       "      <td>...</td>\n",
       "      <td>1.690805</td>\n",
       "      <td>-1.571900</td>\n",
       "      <td>4.541557</td>\n",
       "      <td>4.321756</td>\n",
       "      <td>3.936234</td>\n",
       "      <td>3.144537</td>\n",
       "      <td>3.310087</td>\n",
       "      <td>3.096597</td>\n",
       "      <td>7.622641</td>\n",
       "      <td>Hip-Hop</td>\n",
       "    </tr>\n",
       "    <tr>\n",
       "      <th>3</th>\n",
       "      <td>4.296755</td>\n",
       "      <td>1.399977</td>\n",
       "      <td>0.112535</td>\n",
       "      <td>-0.211170</td>\n",
       "      <td>0.032953</td>\n",
       "      <td>-0.023489</td>\n",
       "      <td>0.150404</td>\n",
       "      <td>0.046454</td>\n",
       "      <td>0.033484</td>\n",
       "      <td>-0.064596</td>\n",
       "      <td>...</td>\n",
       "      <td>0.391984</td>\n",
       "      <td>-1.461130</td>\n",
       "      <td>4.430571</td>\n",
       "      <td>4.517010</td>\n",
       "      <td>4.631938</td>\n",
       "      <td>3.747272</td>\n",
       "      <td>4.085845</td>\n",
       "      <td>3.351878</td>\n",
       "      <td>7.611158</td>\n",
       "      <td>Hip-Hop</td>\n",
       "    </tr>\n",
       "    <tr>\n",
       "      <th>5</th>\n",
       "      <td>2.624517</td>\n",
       "      <td>2.415293</td>\n",
       "      <td>0.440233</td>\n",
       "      <td>-0.782131</td>\n",
       "      <td>-0.771069</td>\n",
       "      <td>-0.724216</td>\n",
       "      <td>0.090260</td>\n",
       "      <td>0.152119</td>\n",
       "      <td>0.261731</td>\n",
       "      <td>-0.608905</td>\n",
       "      <td>...</td>\n",
       "      <td>0.366885</td>\n",
       "      <td>-1.271206</td>\n",
       "      <td>4.942019</td>\n",
       "      <td>4.376371</td>\n",
       "      <td>4.262785</td>\n",
       "      <td>3.190465</td>\n",
       "      <td>3.102941</td>\n",
       "      <td>3.087401</td>\n",
       "      <td>8.494939</td>\n",
       "      <td>Hip-Hop</td>\n",
       "    </tr>\n",
       "    <tr>\n",
       "      <th>10</th>\n",
       "      <td>5.076893</td>\n",
       "      <td>1.161854</td>\n",
       "      <td>2.095651</td>\n",
       "      <td>1.372743</td>\n",
       "      <td>-0.203574</td>\n",
       "      <td>-0.345354</td>\n",
       "      <td>-0.529139</td>\n",
       "      <td>0.561974</td>\n",
       "      <td>0.281350</td>\n",
       "      <td>-0.150672</td>\n",
       "      <td>...</td>\n",
       "      <td>1.257145</td>\n",
       "      <td>-0.592026</td>\n",
       "      <td>5.561779</td>\n",
       "      <td>4.008956</td>\n",
       "      <td>3.690036</td>\n",
       "      <td>2.646124</td>\n",
       "      <td>3.457347</td>\n",
       "      <td>4.693093</td>\n",
       "      <td>8.396724</td>\n",
       "      <td>Pop</td>\n",
       "    </tr>\n",
       "    <tr>\n",
       "      <th>134</th>\n",
       "      <td>1.559808</td>\n",
       "      <td>0.840775</td>\n",
       "      <td>-0.171289</td>\n",
       "      <td>-0.265671</td>\n",
       "      <td>-0.279361</td>\n",
       "      <td>0.190866</td>\n",
       "      <td>-0.192000</td>\n",
       "      <td>0.422766</td>\n",
       "      <td>0.044087</td>\n",
       "      <td>-0.003510</td>\n",
       "      <td>...</td>\n",
       "      <td>0.683411</td>\n",
       "      <td>-0.736473</td>\n",
       "      <td>4.736264</td>\n",
       "      <td>4.715623</td>\n",
       "      <td>4.440975</td>\n",
       "      <td>3.465022</td>\n",
       "      <td>3.858569</td>\n",
       "      <td>3.905518</td>\n",
       "      <td>8.469674</td>\n",
       "      <td>Hip-Hop</td>\n",
       "    </tr>\n",
       "  </tbody>\n",
       "</table>\n",
       "<p>5 rows × 190 columns</p>\n",
       "</div>"
      ],
      "text/plain": [
       "          ('mfcc', 'kurtosis', '01')  ('mfcc', 'kurtosis', '02')  \\\n",
       "track_id                                                           \n",
       "2                           3.856789                    1.541901   \n",
       "3                           4.296755                    1.399977   \n",
       "5                           2.624517                    2.415293   \n",
       "10                          5.076893                    1.161854   \n",
       "134                         1.559808                    0.840775   \n",
       "\n",
       "          ('mfcc', 'kurtosis', '03')  ('mfcc', 'kurtosis', '04')  \\\n",
       "track_id                                                           \n",
       "2                           0.000816                    0.330728   \n",
       "3                           0.112535                   -0.211170   \n",
       "5                           0.440233                   -0.782131   \n",
       "10                          2.095651                    1.372743   \n",
       "134                        -0.171289                   -0.265671   \n",
       "\n",
       "          ('mfcc', 'kurtosis', '05')  ('mfcc', 'kurtosis', '06')  \\\n",
       "track_id                                                           \n",
       "2                           0.118731                   -0.342687   \n",
       "3                           0.032953                   -0.023489   \n",
       "5                          -0.771069                   -0.724216   \n",
       "10                         -0.203574                   -0.345354   \n",
       "134                        -0.279361                    0.190866   \n",
       "\n",
       "          ('mfcc', 'kurtosis', '07')  ('mfcc', 'kurtosis', '08')  \\\n",
       "track_id                                                           \n",
       "2                          -0.259252                    0.146735   \n",
       "3                           0.150404                    0.046454   \n",
       "5                           0.090260                    0.152119   \n",
       "10                         -0.529139                    0.561974   \n",
       "134                        -0.192000                    0.422766   \n",
       "\n",
       "          ('mfcc', 'kurtosis', '09')  ('mfcc', 'kurtosis', '10')    ...      \\\n",
       "track_id                                                            ...       \n",
       "2                           0.410656                   -0.162872    ...       \n",
       "3                           0.033484                   -0.064596    ...       \n",
       "5                           0.261731                   -0.608905    ...       \n",
       "10                          0.281350                   -0.150672    ...       \n",
       "134                         0.044087                   -0.003510    ...       \n",
       "\n",
       "          ('spectral_contrast', 'skew', '06')  \\\n",
       "track_id                                        \n",
       "2                                    1.690805   \n",
       "3                                    0.391984   \n",
       "5                                    0.366885   \n",
       "10                                   1.257145   \n",
       "134                                  0.683411   \n",
       "\n",
       "          ('spectral_contrast', 'skew', '07')  \\\n",
       "track_id                                        \n",
       "2                                   -1.571900   \n",
       "3                                   -1.461130   \n",
       "5                                   -1.271206   \n",
       "10                                  -0.592026   \n",
       "134                                 -0.736473   \n",
       "\n",
       "          ('spectral_contrast', 'std', '01')  \\\n",
       "track_id                                       \n",
       "2                                   4.541557   \n",
       "3                                   4.430571   \n",
       "5                                   4.942019   \n",
       "10                                  5.561779   \n",
       "134                                 4.736264   \n",
       "\n",
       "          ('spectral_contrast', 'std', '02')  \\\n",
       "track_id                                       \n",
       "2                                   4.321756   \n",
       "3                                   4.517010   \n",
       "5                                   4.376371   \n",
       "10                                  4.008956   \n",
       "134                                 4.715623   \n",
       "\n",
       "          ('spectral_contrast', 'std', '03')  \\\n",
       "track_id                                       \n",
       "2                                   3.936234   \n",
       "3                                   4.631938   \n",
       "5                                   4.262785   \n",
       "10                                  3.690036   \n",
       "134                                 4.440975   \n",
       "\n",
       "          ('spectral_contrast', 'std', '04')  \\\n",
       "track_id                                       \n",
       "2                                   3.144537   \n",
       "3                                   3.747272   \n",
       "5                                   3.190465   \n",
       "10                                  2.646124   \n",
       "134                                 3.465022   \n",
       "\n",
       "          ('spectral_contrast', 'std', '05')  \\\n",
       "track_id                                       \n",
       "2                                   3.310087   \n",
       "3                                   4.085845   \n",
       "5                                   3.102941   \n",
       "10                                  3.457347   \n",
       "134                                 3.858569   \n",
       "\n",
       "          ('spectral_contrast', 'std', '06')  \\\n",
       "track_id                                       \n",
       "2                                   3.096597   \n",
       "3                                   3.351878   \n",
       "5                                   3.087401   \n",
       "10                                  4.693093   \n",
       "134                                 3.905518   \n",
       "\n",
       "          ('spectral_contrast', 'std', '07')  genre_top  \n",
       "track_id                                                 \n",
       "2                                   7.622641    Hip-Hop  \n",
       "3                                   7.611158    Hip-Hop  \n",
       "5                                   8.494939    Hip-Hop  \n",
       "10                                  8.396724        Pop  \n",
       "134                                 8.469674    Hip-Hop  \n",
       "\n",
       "[5 rows x 190 columns]"
      ]
     },
     "execution_count": 4,
     "metadata": {},
     "output_type": "execute_result"
    }
   ],
   "source": [
    "df_mfcc_cont.head()"
   ]
  },
  {
   "cell_type": "code",
   "execution_count": 5,
   "metadata": {
    "ExecuteTime": {
     "end_time": "2018-09-14T19:08:21.491980Z",
     "start_time": "2018-09-14T19:08:21.443912Z"
    }
   },
   "outputs": [],
   "source": [
    "X = df_mfcc_cont.drop(\"genre_top\",axis=1)\n",
    "y = df_mfcc_cont[\"genre_top\"]"
   ]
  },
  {
   "cell_type": "code",
   "execution_count": 6,
   "metadata": {
    "ExecuteTime": {
     "end_time": "2018-09-14T19:08:21.701960Z",
     "start_time": "2018-09-14T19:08:21.604542Z"
    }
   },
   "outputs": [],
   "source": [
    "X_train, X_test, y_train, y_test = train_test_split(X, y, test_size=.10,stratify=y, random_state=4444)"
   ]
  },
  {
   "cell_type": "code",
   "execution_count": 7,
   "metadata": {
    "ExecuteTime": {
     "end_time": "2018-09-14T19:08:22.046960Z",
     "start_time": "2018-09-14T19:08:21.872159Z"
    }
   },
   "outputs": [],
   "source": [
    "sca = StandardScaler()\n",
    "X_train_sca = sca.fit_transform(X_train)\n",
    "X_test_sca = sca.transform(X_test);"
   ]
  },
  {
   "cell_type": "markdown",
   "metadata": {
    "ExecuteTime": {
     "end_time": "2018-09-08T20:59:14.692169Z",
     "start_time": "2018-09-08T20:59:14.688887Z"
    }
   },
   "source": [
    "### Hyperparameter Tunning"
   ]
  },
  {
   "cell_type": "code",
   "execution_count": 10,
   "metadata": {
    "ExecuteTime": {
     "end_time": "2018-09-10T21:46:02.905283Z",
     "start_time": "2018-09-10T21:45:30.504984Z"
    }
   },
   "outputs": [
    {
     "name": "stdout",
     "output_type": "stream",
     "text": [
      "Accuracy training: 0.619697126854\n",
      "Accuracy test: 0.628471411902\n",
      "RandomForestClassifier(bootstrap=True, class_weight=None, criterion='gini',\n",
      "            max_depth=None, max_features='auto', max_leaf_nodes=None,\n",
      "            min_impurity_split=1e-07, min_samples_leaf=1,\n",
      "            min_samples_split=2, min_weight_fraction_leaf=0.0,\n",
      "            n_estimators=10, n_jobs=1, oob_score=False, random_state=None,\n",
      "            verbose=0, warm_start=False)\n"
     ]
    }
   ],
   "source": [
    "param_grid = {}\n",
    "grid_estimator(RandomForestClassifier(), param_grid, X_train_sca, y_train, X_test_sca, y_test)"
   ]
  },
  {
   "cell_type": "code",
   "execution_count": 11,
   "metadata": {
    "ExecuteTime": {
     "end_time": "2018-09-10T22:02:38.893252Z",
     "start_time": "2018-09-10T22:02:03.144345Z"
    }
   },
   "outputs": [
    {
     "name": "stdout",
     "output_type": "stream",
     "text": [
      "Accuracy training: 0.683098226325\n",
      "Accuracy test: 0.705950991832\n",
      "RandomForestClassifier(bootstrap=True, class_weight=None, criterion='gini',\n",
      "            max_depth=400, max_features='auto', max_leaf_nodes=10000,\n",
      "            min_impurity_split=1e-07, min_samples_leaf=1,\n",
      "            min_samples_split=2, min_weight_fraction_leaf=0.0,\n",
      "            n_estimators=1000, n_jobs=4, oob_score=False,\n",
      "            random_state=None, verbose=0, warm_start=False)\n"
     ]
    }
   ],
   "source": [
    "param_grid = {'n_jobs':[4], 'n_estimators': [10,100,1000], 'max_depth': [50,100,200,400], 'max_leaf_nodes':[10000,100000,1000000]}\n",
    "grid_estimator(RandomForestClassifier(), param_grid, X_train_sca, y_train, X_test_sca, y_test)"
   ]
  },
  {
   "cell_type": "code",
   "execution_count": 9,
   "metadata": {
    "ExecuteTime": {
     "end_time": "2018-09-13T21:04:20.834986Z",
     "start_time": "2018-09-13T21:01:04.377419Z"
    }
   },
   "outputs": [
    {
     "name": "stdout",
     "output_type": "stream",
     "text": [
      "Accuracy training: 0.682968571725\n",
      "Accuracy test: 0.702917152859\n",
      "RandomForestClassifier(bootstrap=True, class_weight=None, criterion='gini',\n",
      "            max_depth=800, max_features='auto', max_leaf_nodes=100000,\n",
      "            min_impurity_split=1e-07, min_samples_leaf=1,\n",
      "            min_samples_split=2, min_weight_fraction_leaf=0.0,\n",
      "            n_estimators=2000, n_jobs=8, oob_score=False,\n",
      "            random_state=None, verbose=0, warm_start=False)\n"
     ]
    }
   ],
   "source": [
    "param_grid = {'n_jobs':[8], 'n_estimators': [1000, 2000], 'max_depth': [400, 800], 'max_leaf_nodes':[10000,100000]}\n",
    "grid_estimator(RandomForestClassifier(), param_grid, X_train_sca, y_train, X_test_sca, y_test)"
   ]
  },
  {
   "cell_type": "markdown",
   "metadata": {},
   "source": [
    "### Plotting the best model"
   ]
  },
  {
   "cell_type": "code",
   "execution_count": 11,
   "metadata": {
    "ExecuteTime": {
     "end_time": "2018-09-14T19:09:54.662364Z",
     "start_time": "2018-09-14T19:09:54.656625Z"
    }
   },
   "outputs": [],
   "source": [
    "from sklearn.metrics import confusion_matrix\n",
    "import matplotlib.pyplot as plt\n",
    "import seaborn as sns\n",
    "plt.style.use(\"seaborn\")\n",
    "%matplotlib inline"
   ]
  },
  {
   "cell_type": "code",
   "execution_count": 12,
   "metadata": {
    "ExecuteTime": {
     "end_time": "2018-09-14T19:09:55.008617Z",
     "start_time": "2018-09-14T19:09:54.997239Z"
    }
   },
   "outputs": [],
   "source": [
    "def conf_plot(y, y_pred):\n",
    "    plt.figure(dpi=180)\n",
    "    sns.heatmap(confusion_matrix(y, y_pred), cmap=plt.cm.Blues, annot=True, square=True, fmt='d', annot_kws={\"size\": 15});\n",
    "    plt.xlabel('prediction')\n",
    "    plt.ylabel('actual');"
   ]
  },
  {
   "cell_type": "code",
   "execution_count": null,
   "metadata": {
    "ExecuteTime": {
     "start_time": "2018-09-14T19:09:55.534Z"
    }
   },
   "outputs": [],
   "source": [
    "RFC = RandomForestClassifier(n_estimators=1000, max_depth=400, max_leaf_nodes = 10000)\n",
    "RFC.fit(X_train_sca, y_train)\n",
    "y_pred = RFC.predict(X_test_sca)\n",
    "conf_plot(y_test, y_pred)"
   ]
  },
  {
   "cell_type": "code",
   "execution_count": null,
   "metadata": {
    "ExecuteTime": {
     "start_time": "2018-09-14T19:09:56.356Z"
    }
   },
   "outputs": [],
   "source": [
    "accuracy_score(y_test, y_pred)"
   ]
  },
  {
   "cell_type": "code",
   "execution_count": null,
   "metadata": {
    "ExecuteTime": {
     "start_time": "2018-09-14T19:09:56.794Z"
    }
   },
   "outputs": [],
   "source": [
    "accuracy_score(y_smoted, RFC.predict(X_smoted))"
   ]
  },
  {
   "cell_type": "markdown",
   "metadata": {},
   "source": [
    "### Trying with SMOTE"
   ]
  },
  {
   "cell_type": "code",
   "execution_count": 11,
   "metadata": {
    "ExecuteTime": {
     "end_time": "2018-09-13T23:04:29.223297Z",
     "start_time": "2018-09-13T23:04:29.192731Z"
    }
   },
   "outputs": [],
   "source": [
    "from imblearn.over_sampling import SMOTE"
   ]
  },
  {
   "cell_type": "code",
   "execution_count": 12,
   "metadata": {
    "ExecuteTime": {
     "end_time": "2018-09-13T23:06:01.288525Z",
     "start_time": "2018-09-13T23:04:29.604223Z"
    }
   },
   "outputs": [],
   "source": [
    "X_smoted, y_smoted = SMOTE(random_state=42).fit_sample(X_train_sca,y_train)"
   ]
  },
  {
   "cell_type": "code",
   "execution_count": 13,
   "metadata": {
    "ExecuteTime": {
     "end_time": "2018-09-13T23:29:47.151013Z",
     "start_time": "2018-09-13T23:06:01.583357Z"
    }
   },
   "outputs": [
    {
     "data": {
      "image/png": "[encoded data removed]",
      "text/plain": [
       "<Figure size 1080x720 with 2 Axes>"
      ]
     },
     "metadata": {},
     "output_type": "display_data"
    }
   ],
   "source": [
    "RFC = RandomForestClassifier(n_estimators=1000, max_depth=400, max_leaf_nodes = 10000)\n",
    "RFC.fit(X_smoted, y_smoted)\n",
    "y_pred = RFC.predict(X_test_sca)\n",
    "conf_plot(y_test, y_pred)"
   ]
  },
  {
   "cell_type": "code",
   "execution_count": 14,
   "metadata": {
    "ExecuteTime": {
     "end_time": "2018-09-13T23:29:47.460464Z",
     "start_time": "2018-09-13T23:29:47.452904Z"
    }
   },
   "outputs": [
    {
     "data": {
      "text/plain": [
       "0.699416569428238"
      ]
     },
     "execution_count": 14,
     "metadata": {},
     "output_type": "execute_result"
    }
   ],
   "source": [
    "accuracy_score(y_test, y_pred)"
   ]
  },
  {
   "cell_type": "code",
   "execution_count": 16,
   "metadata": {
    "ExecuteTime": {
     "end_time": "2018-09-13T23:30:51.344911Z",
     "start_time": "2018-09-13T23:30:24.735204Z"
    }
   },
   "outputs": [
    {
     "data": {
      "text/plain": [
       "0.9984330930742714"
      ]
     },
     "execution_count": 16,
     "metadata": {},
     "output_type": "execute_result"
    }
   ],
   "source": [
    "accuracy_score(y_smoted, RFC.predict(X_smoted))"
   ]
  },
  {
   "cell_type": "markdown",
   "metadata": {},
   "source": [
    "### Grid search with SMOTE"
   ]
  },
  {
   "cell_type": "code",
   "execution_count": 9,
   "metadata": {
    "ExecuteTime": {
     "end_time": "2018-09-13T23:29:47.151013Z",
     "start_time": "2018-09-13T23:06:01.583357Z"
    }
   },
   "outputs": [
    {
     "name": "stdout",
     "output_type": "stream",
     "text": [
      "Accuracy training: 0.8645539538284759\n",
      "Accuracy test: 0.6998833138856476\n",
      "RandomForestClassifier(bootstrap=True, class_weight=None, criterion='gini',\n",
      "            max_depth=100, max_features='auto', max_leaf_nodes=1000000,\n",
      "            min_impurity_decrease=0.0, min_impurity_split=None,\n",
      "            min_samples_leaf=1, min_samples_split=2,\n",
      "            min_weight_fraction_leaf=0.0, n_estimators=1000, n_jobs=4,\n",
      "            oob_score=False, random_state=None, verbose=0,\n",
      "            warm_start=False)\n"
     ]
    }
   ],
   "source": [
    "param_grid = {'n_jobs':[4], 'n_estimators': [10,100,1000], 'max_depth': [50,100,200,400], 'max_leaf_nodes':[10000,100000,1000000]}\n",
    "grid_estimator(RandomForestClassifier(), param_grid, X_smoted, y_smoted, X_test_sca, y_test)"
   ]
  }
 ],
 "metadata": {
  "kernelspec": {
   "display_name": "Python 3",
   "language": "python",
   "name": "python3"
  },
  "language_info": {
   "codemirror_mode": {
    "name": "ipython",
    "version": 3
   },
   "file_extension": ".py",
   "mimetype": "text/x-python",
   "name": "python",
   "nbconvert_exporter": "python",
   "pygments_lexer": "ipython3",
   "version": "3.6.4"
  },
  "varInspector": {
   "cols": {
    "lenName": 16,
    "lenType": 16,
    "lenVar": 40
   },
   "kernels_config": {
    "python": {
     "delete_cmd_postfix": "",
     "delete_cmd_prefix": "del ",
     "library": "var_list.py",
     "varRefreshCmd": "print(var_dic_list())"
    },
    "r": {
     "delete_cmd_postfix": ") ",
     "delete_cmd_prefix": "rm(",
     "library": "var_list.r",
     "varRefreshCmd": "cat(var_dic_list()) "
    }
   },
   "types_to_exclude": [
    "module",
    "function",
    "builtin_function_or_method",
    "instance",
    "_Feature"
   ],
   "window_display": false
  }
 },
 "nbformat": 4,
 "nbformat_minor": 2
}
