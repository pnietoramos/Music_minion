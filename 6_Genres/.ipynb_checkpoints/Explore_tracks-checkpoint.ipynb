{
 "cells": [
  {
   "cell_type": "markdown",
   "metadata": {},
   "source": [
    "## Features provided  \n",
    "stft = np.abs(librosa.stft(x, n_fft=2048, hop_length=512))  \n",
    "cqt = np.abs(librosa.cqt(x, sr=sr, hop_length=512, bins_per_octave=12,\n",
    "                                 n_bins=7\\*12, tuning=None))  \n",
    "                                 \n",
    "kurtosis,max,mean,median,min,skew,std\n",
    "### chroma_cens [12] (librosa.feature.chroma_cens(C=cqt, n_chroma=12, n_octaves=7))\n",
    "Chroma variant “Chroma Energy Normalized” (CENS)  \n",
    "\n",
    "### chroma_cqt [12] (librosa.feature.chroma_cqt(C=cqt, n_chroma=12, n_octaves=7)\n",
    "Constant-Q chromagram\n",
    "\n",
    "### chroma_stft [12] (librosa.feature.chroma_stft(S=stft**2, n_chroma=12), )\n",
    "Compute a chromagram from a waveform or power spectrogram. \n",
    "\n",
    "### mfcc [20]  ( mel = librosa.feature.melspectrogram(sr=sr, S=stft**2);  del stft; f = librosa.feature.mfcc(S=librosa.power_to_db(mel), n_mfcc=20) )  \n",
    "Mel-frequency cepstral coefficients (MFCCs). Used in speech recognition\n",
    "\n",
    "### rmse [1]  (librosa.feature.rmse(S=stft))\n",
    "Compute root-mean-square (RMS) energy for each frame, either from the audio samples y or from a spectrogram S.  \n",
    "\n",
    "### spectral_bandwidth [1] (librosa.feature.spectral_bandwidth(S=stft))\n",
    "Compute second-order spectral bandwidth: (sum_k S[k] * (freq[k] - centroid)^2)^(1/2)\n",
    "\n",
    "### spectral_centroid [1] (librosa.feature.spectral_centroid(S=stft))  \n",
    "Compute the spectral centroid. Each frame of a magnitude spectrogram is normalized and treated as a distribution over frequency bins, from which the mean (centroid) is extracted per frame.\n",
    "\n",
    "### spectral_contrast [7] (librosa.feature.spectral_contrast(S=stft, n_bands=6))\n",
    "Compute spectral contrast \n",
    "\n",
    "### spectral_rolloff [1] (librosa.feature.spectral_rolloff(S=stft))\n",
    "The roll-off frequency is defined for each frame as the center frequency for a spectrogram bin such that at least roll_percent (0.85 by default) of the energy of the spectrum in this frame is contained in this bin and the bins below. This can be used to, e.g., approximate the maximum (or minimum) frequency by setting roll_percent to a value close to 1 (or 0).\n",
    "\n",
    "### tonnetz [6] (librosa.feature.tonnetz(chroma=f))\n",
    "Computes the tonal centroid features (tonnetz). Returns: Tonal centroid features for each frame.\n",
    "\n",
    "### zcr [1]  (librosa.feature.zero_crossing_rate(x, frame_length=2048, hop_length=512)) \n",
    "Compute the zero-crossing rate of an audio time series. The rate of sign-changes along a signal, i.e., the rate at which the signal changes from positive to negative or back.\n",
    "\n"
   ]
  },
  {
   "cell_type": "code",
   "execution_count": 1,
   "metadata": {
    "ExecuteTime": {
     "end_time": "2018-09-11T23:55:45.064586Z",
     "start_time": "2018-09-11T23:55:44.805405Z"
    }
   },
   "outputs": [],
   "source": [
    "import pandas as pd"
   ]
  },
  {
   "cell_type": "code",
   "execution_count": 2,
   "metadata": {
    "ExecuteTime": {
     "end_time": "2018-09-11T23:55:46.607361Z",
     "start_time": "2018-09-11T23:55:45.065800Z"
    }
   },
   "outputs": [],
   "source": [
    "df_tracks = pd.read_csv(\"raw_tracks.csv\")"
   ]
  },
  {
   "cell_type": "code",
   "execution_count": 3,
   "metadata": {
    "ExecuteTime": {
     "end_time": "2018-09-11T23:55:46.643525Z",
     "start_time": "2018-09-11T23:55:46.608669Z"
    }
   },
   "outputs": [
    {
     "data": {
      "text/html": [
       "<div>\n",
       "<style scoped>\n",
       "    .dataframe tbody tr th:only-of-type {\n",
       "        vertical-align: middle;\n",
       "    }\n",
       "\n",
       "    .dataframe tbody tr th {\n",
       "        vertical-align: top;\n",
       "    }\n",
       "\n",
       "    .dataframe thead th {\n",
       "        text-align: right;\n",
       "    }\n",
       "</style>\n",
       "<table border=\"1\" class=\"dataframe\">\n",
       "  <thead>\n",
       "    <tr style=\"text-align: right;\">\n",
       "      <th></th>\n",
       "      <th>track_id</th>\n",
       "      <th>album_id</th>\n",
       "      <th>album_title</th>\n",
       "      <th>album_url</th>\n",
       "      <th>artist_id</th>\n",
       "      <th>artist_name</th>\n",
       "      <th>artist_url</th>\n",
       "      <th>artist_website</th>\n",
       "      <th>license_image_file</th>\n",
       "      <th>license_image_file_large</th>\n",
       "      <th>...</th>\n",
       "      <th>track_information</th>\n",
       "      <th>track_instrumental</th>\n",
       "      <th>track_interest</th>\n",
       "      <th>track_language_code</th>\n",
       "      <th>track_listens</th>\n",
       "      <th>track_lyricist</th>\n",
       "      <th>track_number</th>\n",
       "      <th>track_publisher</th>\n",
       "      <th>track_title</th>\n",
       "      <th>track_url</th>\n",
       "    </tr>\n",
       "  </thead>\n",
       "  <tbody>\n",
       "    <tr>\n",
       "      <th>0</th>\n",
       "      <td>2</td>\n",
       "      <td>1.0</td>\n",
       "      <td>AWOL - A Way Of Life</td>\n",
       "      <td>http://freemusicarchive.org/music/AWOL/AWOL_-_...</td>\n",
       "      <td>1</td>\n",
       "      <td>AWOL</td>\n",
       "      <td>http://freemusicarchive.org/music/AWOL/</td>\n",
       "      <td>http://www.AzillionRecords.blogspot.com</td>\n",
       "      <td>http://i.creativecommons.org/l/by-nc-sa/3.0/us...</td>\n",
       "      <td>http://fma-files.s3.amazonaws.com/resources/im...</td>\n",
       "      <td>...</td>\n",
       "      <td>NaN</td>\n",
       "      <td>0</td>\n",
       "      <td>4656</td>\n",
       "      <td>en</td>\n",
       "      <td>1293</td>\n",
       "      <td>NaN</td>\n",
       "      <td>3</td>\n",
       "      <td>NaN</td>\n",
       "      <td>Food</td>\n",
       "      <td>http://freemusicarchive.org/music/AWOL/AWOL_-_...</td>\n",
       "    </tr>\n",
       "    <tr>\n",
       "      <th>1</th>\n",
       "      <td>3</td>\n",
       "      <td>1.0</td>\n",
       "      <td>AWOL - A Way Of Life</td>\n",
       "      <td>http://freemusicarchive.org/music/AWOL/AWOL_-_...</td>\n",
       "      <td>1</td>\n",
       "      <td>AWOL</td>\n",
       "      <td>http://freemusicarchive.org/music/AWOL/</td>\n",
       "      <td>http://www.AzillionRecords.blogspot.com</td>\n",
       "      <td>http://i.creativecommons.org/l/by-nc-sa/3.0/us...</td>\n",
       "      <td>http://fma-files.s3.amazonaws.com/resources/im...</td>\n",
       "      <td>...</td>\n",
       "      <td>NaN</td>\n",
       "      <td>0</td>\n",
       "      <td>1470</td>\n",
       "      <td>en</td>\n",
       "      <td>514</td>\n",
       "      <td>NaN</td>\n",
       "      <td>4</td>\n",
       "      <td>NaN</td>\n",
       "      <td>Electric Ave</td>\n",
       "      <td>http://freemusicarchive.org/music/AWOL/AWOL_-_...</td>\n",
       "    </tr>\n",
       "    <tr>\n",
       "      <th>2</th>\n",
       "      <td>5</td>\n",
       "      <td>1.0</td>\n",
       "      <td>AWOL - A Way Of Life</td>\n",
       "      <td>http://freemusicarchive.org/music/AWOL/AWOL_-_...</td>\n",
       "      <td>1</td>\n",
       "      <td>AWOL</td>\n",
       "      <td>http://freemusicarchive.org/music/AWOL/</td>\n",
       "      <td>http://www.AzillionRecords.blogspot.com</td>\n",
       "      <td>http://i.creativecommons.org/l/by-nc-sa/3.0/us...</td>\n",
       "      <td>http://fma-files.s3.amazonaws.com/resources/im...</td>\n",
       "      <td>...</td>\n",
       "      <td>NaN</td>\n",
       "      <td>0</td>\n",
       "      <td>1933</td>\n",
       "      <td>en</td>\n",
       "      <td>1151</td>\n",
       "      <td>NaN</td>\n",
       "      <td>6</td>\n",
       "      <td>NaN</td>\n",
       "      <td>This World</td>\n",
       "      <td>http://freemusicarchive.org/music/AWOL/AWOL_-_...</td>\n",
       "    </tr>\n",
       "    <tr>\n",
       "      <th>3</th>\n",
       "      <td>10</td>\n",
       "      <td>6.0</td>\n",
       "      <td>Constant Hitmaker</td>\n",
       "      <td>http://freemusicarchive.org/music/Kurt_Vile/Co...</td>\n",
       "      <td>6</td>\n",
       "      <td>Kurt Vile</td>\n",
       "      <td>http://freemusicarchive.org/music/Kurt_Vile/</td>\n",
       "      <td>http://kurtvile.com</td>\n",
       "      <td>http://i.creativecommons.org/l/by-nc-nd/3.0/88...</td>\n",
       "      <td>http://fma-files.s3.amazonaws.com/resources/im...</td>\n",
       "      <td>...</td>\n",
       "      <td>NaN</td>\n",
       "      <td>0</td>\n",
       "      <td>54881</td>\n",
       "      <td>en</td>\n",
       "      <td>50135</td>\n",
       "      <td>NaN</td>\n",
       "      <td>1</td>\n",
       "      <td>NaN</td>\n",
       "      <td>Freeway</td>\n",
       "      <td>http://freemusicarchive.org/music/Kurt_Vile/Co...</td>\n",
       "    </tr>\n",
       "    <tr>\n",
       "      <th>4</th>\n",
       "      <td>20</td>\n",
       "      <td>4.0</td>\n",
       "      <td>Niris</td>\n",
       "      <td>http://freemusicarchive.org/music/Chris_and_Ni...</td>\n",
       "      <td>4</td>\n",
       "      <td>Nicky Cook</td>\n",
       "      <td>http://freemusicarchive.org/music/Chris_and_Ni...</td>\n",
       "      <td>NaN</td>\n",
       "      <td>http://i.creativecommons.org/l/by-nc-nd/3.0/88...</td>\n",
       "      <td>http://fma-files.s3.amazonaws.com/resources/im...</td>\n",
       "      <td>...</td>\n",
       "      <td>NaN</td>\n",
       "      <td>0</td>\n",
       "      <td>978</td>\n",
       "      <td>en</td>\n",
       "      <td>361</td>\n",
       "      <td>NaN</td>\n",
       "      <td>3</td>\n",
       "      <td>NaN</td>\n",
       "      <td>Spiritual Level</td>\n",
       "      <td>http://freemusicarchive.org/music/Chris_and_Ni...</td>\n",
       "    </tr>\n",
       "  </tbody>\n",
       "</table>\n",
       "<p>5 rows × 39 columns</p>\n",
       "</div>"
      ],
      "text/plain": [
       "   track_id  album_id           album_title  \\\n",
       "0         2       1.0  AWOL - A Way Of Life   \n",
       "1         3       1.0  AWOL - A Way Of Life   \n",
       "2         5       1.0  AWOL - A Way Of Life   \n",
       "3        10       6.0     Constant Hitmaker   \n",
       "4        20       4.0                 Niris   \n",
       "\n",
       "                                           album_url  artist_id artist_name  \\\n",
       "0  http://freemusicarchive.org/music/AWOL/AWOL_-_...          1        AWOL   \n",
       "1  http://freemusicarchive.org/music/AWOL/AWOL_-_...          1        AWOL   \n",
       "2  http://freemusicarchive.org/music/AWOL/AWOL_-_...          1        AWOL   \n",
       "3  http://freemusicarchive.org/music/Kurt_Vile/Co...          6   Kurt Vile   \n",
       "4  http://freemusicarchive.org/music/Chris_and_Ni...          4  Nicky Cook   \n",
       "\n",
       "                                          artist_url  \\\n",
       "0            http://freemusicarchive.org/music/AWOL/   \n",
       "1            http://freemusicarchive.org/music/AWOL/   \n",
       "2            http://freemusicarchive.org/music/AWOL/   \n",
       "3       http://freemusicarchive.org/music/Kurt_Vile/   \n",
       "4  http://freemusicarchive.org/music/Chris_and_Ni...   \n",
       "\n",
       "                            artist_website  \\\n",
       "0  http://www.AzillionRecords.blogspot.com   \n",
       "1  http://www.AzillionRecords.blogspot.com   \n",
       "2  http://www.AzillionRecords.blogspot.com   \n",
       "3                      http://kurtvile.com   \n",
       "4                                      NaN   \n",
       "\n",
       "                                  license_image_file  \\\n",
       "0  http://i.creativecommons.org/l/by-nc-sa/3.0/us...   \n",
       "1  http://i.creativecommons.org/l/by-nc-sa/3.0/us...   \n",
       "2  http://i.creativecommons.org/l/by-nc-sa/3.0/us...   \n",
       "3  http://i.creativecommons.org/l/by-nc-nd/3.0/88...   \n",
       "4  http://i.creativecommons.org/l/by-nc-nd/3.0/88...   \n",
       "\n",
       "                            license_image_file_large  \\\n",
       "0  http://fma-files.s3.amazonaws.com/resources/im...   \n",
       "1  http://fma-files.s3.amazonaws.com/resources/im...   \n",
       "2  http://fma-files.s3.amazonaws.com/resources/im...   \n",
       "3  http://fma-files.s3.amazonaws.com/resources/im...   \n",
       "4  http://fma-files.s3.amazonaws.com/resources/im...   \n",
       "\n",
       "                         ...                          track_information  \\\n",
       "0                        ...                                        NaN   \n",
       "1                        ...                                        NaN   \n",
       "2                        ...                                        NaN   \n",
       "3                        ...                                        NaN   \n",
       "4                        ...                                        NaN   \n",
       "\n",
       "  track_instrumental track_interest track_language_code  track_listens  \\\n",
       "0                  0           4656                  en           1293   \n",
       "1                  0           1470                  en            514   \n",
       "2                  0           1933                  en           1151   \n",
       "3                  0          54881                  en          50135   \n",
       "4                  0            978                  en            361   \n",
       "\n",
       "   track_lyricist track_number track_publisher      track_title  \\\n",
       "0             NaN            3             NaN             Food   \n",
       "1             NaN            4             NaN     Electric Ave   \n",
       "2             NaN            6             NaN       This World   \n",
       "3             NaN            1             NaN          Freeway   \n",
       "4             NaN            3             NaN  Spiritual Level   \n",
       "\n",
       "                                           track_url  \n",
       "0  http://freemusicarchive.org/music/AWOL/AWOL_-_...  \n",
       "1  http://freemusicarchive.org/music/AWOL/AWOL_-_...  \n",
       "2  http://freemusicarchive.org/music/AWOL/AWOL_-_...  \n",
       "3  http://freemusicarchive.org/music/Kurt_Vile/Co...  \n",
       "4  http://freemusicarchive.org/music/Chris_and_Ni...  \n",
       "\n",
       "[5 rows x 39 columns]"
      ]
     },
     "execution_count": 3,
     "metadata": {},
     "output_type": "execute_result"
    }
   ],
   "source": [
    "df_tracks.head()"
   ]
  },
  {
   "cell_type": "code",
   "execution_count": 4,
   "metadata": {
    "ExecuteTime": {
     "end_time": "2018-09-11T23:55:53.888236Z",
     "start_time": "2018-09-11T23:55:46.645302Z"
    }
   },
   "outputs": [
    {
     "data": {
      "text/plain": [
       "array(['AWOL', 'Kurt Vile', 'Nicky Cook', 'Abominog', 'Airway',\n",
       "       'Alec K. Redfearn & the Eyesores', 'Amoebic Ensemble',\n",
       "       'Contradiction', 'Andy Hayleck', 'Animal Writes', 'Arc and Sender',\n",
       "       'Area C', 'Argumentix', \"Ariel Pink's Haunted Graffiti\",\n",
       "       'Ed Askew', 'Au', 'Bad News Bats', 'Banana Clipz', 'Barnacled',\n",
       "       'Bird Names', 'Black Elk', 'Black Pus', 'Blah Blah Blah',\n",
       "       'Blanketship', 'Boogie Witch', 'Borful Tang', 'Brian Joseph Davis',\n",
       "       'Bronhard/Going/Public', 'CAVE', 'Cantonement Jazz Band',\n",
       "       'Celesteville', 'Chandeliers', 'Charles Manson', 'Chief Boima',\n",
       "       'Cinwaves', 'Clockcleaner', 'Clyde Rourke', 'CoCoComa',\n",
       "       \"DJ's of Mass Destruction\", 'Death Sentence: Panda!',\n",
       "       'Delta Dreambox', 'Dora Bleu', 'Double Dagger',\n",
       "       'Dragging an Ox Through Water',\n",
       "       'Argumentix + Dragging an Ox Through Water', 'EKG',\n",
       "       'El Jesus De Magico', 'Eric Leonardson',\n",
       "       'Eric Leonardson and Steve Barsotti',\n",
       "       'Eric Leonardson and Anna Friz', 'Ethan Persoff',\n",
       "       'Explode Into Colors', 'Fanatic', 'Flying Luttenbachers',\n",
       "       'Food For Animals', 'Foot Village', 'Fósforo',\n",
       "       'The Functional Blackouts', 'Fursaxa', 'Fuzz Unlimited',\n",
       "       'Gang Wizard', 'Glass Candy', 'Glove Compartment', 'Grouper',\n",
       "       'Guinea Worms', 'Hall Of Fame', \"Hans Grüsel's Krankenkabinet\",\n",
       "       'Hecuba', 'Here Comes A Big Black Cloud!!', \"Here's How\",\n",
       "       'Heroin UK', 'Holzkopf', 'Human Host', 'Hutzl Ukranian Ensemble',\n",
       "       'Nautical Almanac', 'I Am the Liquor', 'Ian Nagoski',\n",
       "       'Ian Nagoski &amp; Tom Carter', 'Illusion of Safety',\n",
       "       'Ilyas Ahmed', 'Impediments', 'Infinite Body',\n",
       "       'J. Anderson/S. Brooxx', 'Jad Fair', 'Jailberg', 'Jason Willett',\n",
       "       'Jad Fair and Jason Willett', 'Kevin Shields',\n",
       "       'Kevin Shields &amp; Brian Miller', 'King Kong Ding Dong',\n",
       "       'Knit Witch', 'Kowloon Walled City', 'Kyle Bruckmann',\n",
       "       \"Kyle Bruckmann's Wrack\", 'Landed', 'Lazy Magnet',\n",
       "       'Leprechaun Catering', 'Lexie Mountain Boys', 'Lightning Bolt',\n",
       "       'Liquorball'], dtype=object)"
      ]
     },
     "execution_count": 4,
     "metadata": {},
     "output_type": "execute_result"
    }
   ],
   "source": [
    "df_tracks[\"artist_name\"].unique()[0:100]"
   ]
  },
  {
   "cell_type": "code",
   "execution_count": 5,
   "metadata": {
    "ExecuteTime": {
     "end_time": "2018-09-11T23:55:53.977183Z",
     "start_time": "2018-09-11T23:55:53.892537Z"
    }
   },
   "outputs": [
    {
     "data": {
      "text/plain": [
       "Index(['track_id', 'album_id', 'album_title', 'album_url', 'artist_id',\n",
       "       'artist_name', 'artist_url', 'artist_website', 'license_image_file',\n",
       "       'license_image_file_large', 'license_parent_id', 'license_title',\n",
       "       'license_url', 'tags', 'track_bit_rate', 'track_comments',\n",
       "       'track_composer', 'track_copyright_c', 'track_copyright_p',\n",
       "       'track_date_created', 'track_date_recorded', 'track_disc_number',\n",
       "       'track_duration', 'track_explicit', 'track_explicit_notes',\n",
       "       'track_favorites', 'track_file', 'track_genres', 'track_image_file',\n",
       "       'track_information', 'track_instrumental', 'track_interest',\n",
       "       'track_language_code', 'track_listens', 'track_lyricist',\n",
       "       'track_number', 'track_publisher', 'track_title', 'track_url'],\n",
       "      dtype='object')"
      ]
     },
     "execution_count": 5,
     "metadata": {},
     "output_type": "execute_result"
    }
   ],
   "source": [
    "df_tracks.columns"
   ]
  },
  {
   "cell_type": "code",
   "execution_count": 6,
   "metadata": {
    "ExecuteTime": {
     "end_time": "2018-09-11T23:55:54.070402Z",
     "start_time": "2018-09-11T23:55:53.982262Z"
    }
   },
   "outputs": [
    {
     "data": {
      "text/plain": [
       "array(['en', 'es', nan, 'fi', 'pt', 'tr', 'sw', 'el', 'ar', 'pl', 'id',\n",
       "       'tw', 'eu', 'ms', 'fr', 'ty', 'hy', 'hi', 'vi', 'ja', 'tl', 'it',\n",
       "       'my', 'gu', 'zh', 'uk', 'az', 'sr', 'lt', 'th', 'bg', 'de', 'no',\n",
       "       'ko', 'uz', 'ka', 'ha', 'sk', 'nl', 'bm', 'fa', 'he', 'ru', 'sv',\n",
       "       'cs', 'la', 'ee'], dtype=object)"
      ]
     },
     "execution_count": 6,
     "metadata": {},
     "output_type": "execute_result"
    }
   ],
   "source": [
    "df_tracks.track_language_code.unique()"
   ]
  },
  {
   "cell_type": "code",
   "execution_count": 7,
   "metadata": {
    "ExecuteTime": {
     "end_time": "2018-09-11T23:55:54.137314Z",
     "start_time": "2018-09-11T23:55:54.074767Z"
    }
   },
   "outputs": [
    {
     "data": {
      "text/plain": [
       "(109727, 39)"
      ]
     },
     "execution_count": 7,
     "metadata": {},
     "output_type": "execute_result"
    }
   ],
   "source": [
    "df_tracks.shape"
   ]
  },
  {
   "cell_type": "code",
   "execution_count": 8,
   "metadata": {
    "ExecuteTime": {
     "end_time": "2018-09-11T23:55:54.209050Z",
     "start_time": "2018-09-11T23:55:54.143240Z"
    }
   },
   "outputs": [
    {
     "data": {
      "text/plain": [
       "14819"
      ]
     },
     "execution_count": 8,
     "metadata": {},
     "output_type": "execute_result"
    }
   ],
   "source": [
    "df_tracks[df_tracks.track_language_code==\"en\"].shape[0]"
   ]
  },
  {
   "cell_type": "code",
   "execution_count": 9,
   "metadata": {
    "ExecuteTime": {
     "end_time": "2018-09-11T23:55:54.270644Z",
     "start_time": "2018-09-11T23:55:54.210908Z"
    }
   },
   "outputs": [
    {
     "data": {
      "text/plain": [
       "205"
      ]
     },
     "execution_count": 9,
     "metadata": {},
     "output_type": "execute_result"
    }
   ],
   "source": [
    "df_tracks[df_tracks.track_language_code==\"es\"].shape[0]"
   ]
  },
  {
   "cell_type": "code",
   "execution_count": 10,
   "metadata": {
    "ExecuteTime": {
     "end_time": "2018-09-11T23:55:54.340580Z",
     "start_time": "2018-09-11T23:55:54.271983Z"
    }
   },
   "outputs": [
    {
     "data": {
      "text/plain": [
       "Index(['track_id', 'album_id', 'album_title', 'album_url', 'artist_id',\n",
       "       'artist_name', 'artist_url', 'artist_website', 'license_image_file',\n",
       "       'license_image_file_large', 'license_parent_id', 'license_title',\n",
       "       'license_url', 'tags', 'track_bit_rate', 'track_comments',\n",
       "       'track_composer', 'track_copyright_c', 'track_copyright_p',\n",
       "       'track_date_created', 'track_date_recorded', 'track_disc_number',\n",
       "       'track_duration', 'track_explicit', 'track_explicit_notes',\n",
       "       'track_favorites', 'track_file', 'track_genres', 'track_image_file',\n",
       "       'track_information', 'track_instrumental', 'track_interest',\n",
       "       'track_language_code', 'track_listens', 'track_lyricist',\n",
       "       'track_number', 'track_publisher', 'track_title', 'track_url'],\n",
       "      dtype='object')"
      ]
     },
     "execution_count": 10,
     "metadata": {},
     "output_type": "execute_result"
    }
   ],
   "source": [
    "df_tracks.columns"
   ]
  },
  {
   "cell_type": "code",
   "execution_count": 11,
   "metadata": {
    "ExecuteTime": {
     "end_time": "2018-09-11T23:55:54.435453Z",
     "start_time": "2018-09-11T23:55:54.342043Z"
    },
    "scrolled": true
   },
   "outputs": [
    {
     "data": {
      "text/plain": [
       "array(['[]', \"['lafms']\", \"['baltimore']\", ...,\n",
       "       \"['love songs', 'love song', 'electronic', 'agenda 23', 'pop', 'rnb']\",\n",
       "       \"['dark ambient', 'dark', 'ambient', 'noise', 'experimental', 'sampling', 'glitch']\",\n",
       "       \"['noise', 'stretching is magic', 'free music', 'sample', 'psychedelic', 'dogs', 'dog wave', 'vaporwave', 'public domain', 'electro', 'paulstretch', 'dogwave', 'sad', 'doggos', 'royalty free music', 'remix', 'cold']\"],\n",
       "      dtype=object)"
      ]
     },
     "execution_count": 11,
     "metadata": {},
     "output_type": "execute_result"
    }
   ],
   "source": [
    "df_tracks[\"tags\"].unique()"
   ]
  },
  {
   "cell_type": "code",
   "execution_count": 12,
   "metadata": {
    "ExecuteTime": {
     "end_time": "2018-09-11T23:55:54.555752Z",
     "start_time": "2018-09-11T23:55:54.438910Z"
    }
   },
   "outputs": [],
   "source": [
    "df_tracks.dropna(subset = [\"track_genres\"], inplace = True)"
   ]
  },
  {
   "cell_type": "code",
   "execution_count": 13,
   "metadata": {
    "ExecuteTime": {
     "end_time": "2018-09-11T23:55:54.583600Z",
     "start_time": "2018-09-11T23:55:54.557416Z"
    },
    "scrolled": true
   },
   "outputs": [
    {
     "data": {
      "text/plain": [
       "10    [{'genre_id': '45', 'genre_title': 'Loud-Rock'...\n",
       "11    [{'genre_id': '45', 'genre_title': 'Loud-Rock'...\n",
       "12    [{'genre_id': '1', 'genre_title': 'Avant-Garde...\n",
       "13    [{'genre_id': '1', 'genre_title': 'Avant-Garde...\n",
       "14    [{'genre_id': '17', 'genre_title': 'Folk', 'ge...\n",
       "15    [{'genre_id': '17', 'genre_title': 'Folk', 'ge...\n",
       "16    [{'genre_id': '17', 'genre_title': 'Folk', 'ge...\n",
       "17    [{'genre_id': '17', 'genre_title': 'Folk', 'ge...\n",
       "18    [{'genre_id': '4', 'genre_title': 'Jazz', 'gen...\n",
       "19    [{'genre_id': '4', 'genre_title': 'Jazz', 'gen...\n",
       "Name: track_genres, dtype: object"
      ]
     },
     "execution_count": 13,
     "metadata": {},
     "output_type": "execute_result"
    }
   ],
   "source": [
    "df_tracks.track_genres[10:20]"
   ]
  },
  {
   "cell_type": "code",
   "execution_count": 14,
   "metadata": {
    "ExecuteTime": {
     "end_time": "2018-09-11T23:55:54.653906Z",
     "start_time": "2018-09-11T23:55:54.585730Z"
    }
   },
   "outputs": [
    {
     "data": {
      "text/plain": [
       "\"[{'genre_id': '10', 'genre_title': 'Pop', 'genre_url': 'http://freemusicarchive.org/genre/Pop/'}, {'genre_id': '15', 'genre_title': 'Electronic', 'genre_url': 'http://freemusicarchive.org/genre/Electronic/'}, {'genre_id': '76', 'genre_title': 'Experimental Pop', 'genre_url': 'http://freemusicarchive.org/genre/Experimental_Pop/'}, {'genre_id': '296', 'genre_title': 'Dance', 'genre_url': 'http://freemusicarchive.org/genre/Dance/'}]\""
      ]
     },
     "execution_count": 14,
     "metadata": {},
     "output_type": "execute_result"
    }
   ],
   "source": [
    "df_tracks.track_genres[10021]"
   ]
  },
  {
   "cell_type": "code",
   "execution_count": 15,
   "metadata": {
    "ExecuteTime": {
     "end_time": "2018-09-11T23:55:54.825083Z",
     "start_time": "2018-09-11T23:55:54.659075Z"
    }
   },
   "outputs": [
    {
     "data": {
      "text/plain": [
       "track_id                    18827\n",
       "album_id                    18782\n",
       "album_title                 18782\n",
       "album_url                   18782\n",
       "artist_id                   18827\n",
       "artist_name                 18827\n",
       "artist_url                  18827\n",
       "artist_website              15587\n",
       "license_image_file          18777\n",
       "license_image_file_large    18702\n",
       "license_parent_id           14107\n",
       "license_title               18805\n",
       "license_url                 18805\n",
       "tags                        18827\n",
       "track_bit_rate              18768\n",
       "track_comments              18827\n",
       "track_composer                389\n",
       "track_copyright_c             202\n",
       "track_copyright_p              80\n",
       "track_date_created          18827\n",
       "track_date_recorded          1691\n",
       "track_disc_number           18827\n",
       "track_duration              18827\n",
       "track_explicit                744\n",
       "track_explicit_notes            6\n",
       "track_favorites             18827\n",
       "track_file                  18825\n",
       "track_genres                18827\n",
       "track_image_file            18605\n",
       "track_information             475\n",
       "track_instrumental          18827\n",
       "track_interest              18827\n",
       "track_language_code          3815\n",
       "track_listens               18827\n",
       "track_lyricist                145\n",
       "track_number                18827\n",
       "track_publisher               104\n",
       "track_title                 18827\n",
       "track_url                   18782\n",
       "dtype: int64"
      ]
     },
     "execution_count": 15,
     "metadata": {},
     "output_type": "execute_result"
    }
   ],
   "source": [
    "df_tracks[df_tracks.track_genres.str.contains('Rock')].count()"
   ]
  },
  {
   "cell_type": "markdown",
   "metadata": {},
   "source": [
    "### Exploring genres and extracting relevant ones "
   ]
  },
  {
   "cell_type": "code",
   "execution_count": 16,
   "metadata": {
    "ExecuteTime": {
     "end_time": "2018-09-11T23:55:54.833197Z",
     "start_time": "2018-09-11T23:55:54.826915Z"
    },
    "scrolled": true
   },
   "outputs": [],
   "source": [
    "df_genres = pd.read_csv(\"genres.csv\")"
   ]
  },
  {
   "cell_type": "code",
   "execution_count": 17,
   "metadata": {
    "ExecuteTime": {
     "end_time": "2018-09-11T23:55:54.908845Z",
     "start_time": "2018-09-11T23:55:54.835370Z"
    }
   },
   "outputs": [
    {
     "data": {
      "text/html": [
       "<div>\n",
       "<style scoped>\n",
       "    .dataframe tbody tr th:only-of-type {\n",
       "        vertical-align: middle;\n",
       "    }\n",
       "\n",
       "    .dataframe tbody tr th {\n",
       "        vertical-align: top;\n",
       "    }\n",
       "\n",
       "    .dataframe thead th {\n",
       "        text-align: right;\n",
       "    }\n",
       "</style>\n",
       "<table border=\"1\" class=\"dataframe\">\n",
       "  <thead>\n",
       "    <tr style=\"text-align: right;\">\n",
       "      <th></th>\n",
       "      <th>genre_id</th>\n",
       "      <th>#tracks</th>\n",
       "      <th>parent</th>\n",
       "      <th>title</th>\n",
       "      <th>top_level</th>\n",
       "    </tr>\n",
       "  </thead>\n",
       "  <tbody>\n",
       "    <tr>\n",
       "      <th>31</th>\n",
       "      <td>38</td>\n",
       "      <td>38154</td>\n",
       "      <td>0</td>\n",
       "      <td>Experimental</td>\n",
       "      <td>38</td>\n",
       "    </tr>\n",
       "    <tr>\n",
       "      <th>14</th>\n",
       "      <td>15</td>\n",
       "      <td>34413</td>\n",
       "      <td>0</td>\n",
       "      <td>Electronic</td>\n",
       "      <td>15</td>\n",
       "    </tr>\n",
       "    <tr>\n",
       "      <th>11</th>\n",
       "      <td>12</td>\n",
       "      <td>32923</td>\n",
       "      <td>0</td>\n",
       "      <td>Rock</td>\n",
       "      <td>12</td>\n",
       "    </tr>\n",
       "    <tr>\n",
       "      <th>162</th>\n",
       "      <td>1235</td>\n",
       "      <td>14938</td>\n",
       "      <td>0</td>\n",
       "      <td>Instrumental</td>\n",
       "      <td>1235</td>\n",
       "    </tr>\n",
       "    <tr>\n",
       "      <th>9</th>\n",
       "      <td>10</td>\n",
       "      <td>13845</td>\n",
       "      <td>0</td>\n",
       "      <td>Pop</td>\n",
       "      <td>10</td>\n",
       "    </tr>\n",
       "    <tr>\n",
       "      <th>16</th>\n",
       "      <td>17</td>\n",
       "      <td>12706</td>\n",
       "      <td>0</td>\n",
       "      <td>Folk</td>\n",
       "      <td>17</td>\n",
       "    </tr>\n",
       "    <tr>\n",
       "      <th>20</th>\n",
       "      <td>21</td>\n",
       "      <td>8389</td>\n",
       "      <td>0</td>\n",
       "      <td>Hip-Hop</td>\n",
       "      <td>21</td>\n",
       "    </tr>\n",
       "    <tr>\n",
       "      <th>1</th>\n",
       "      <td>2</td>\n",
       "      <td>5271</td>\n",
       "      <td>0</td>\n",
       "      <td>International</td>\n",
       "      <td>2</td>\n",
       "    </tr>\n",
       "    <tr>\n",
       "      <th>3</th>\n",
       "      <td>4</td>\n",
       "      <td>4126</td>\n",
       "      <td>0</td>\n",
       "      <td>Jazz</td>\n",
       "      <td>4</td>\n",
       "    </tr>\n",
       "    <tr>\n",
       "      <th>4</th>\n",
       "      <td>5</td>\n",
       "      <td>4106</td>\n",
       "      <td>0</td>\n",
       "      <td>Classical</td>\n",
       "      <td>5</td>\n",
       "    </tr>\n",
       "    <tr>\n",
       "      <th>8</th>\n",
       "      <td>9</td>\n",
       "      <td>1987</td>\n",
       "      <td>0</td>\n",
       "      <td>Country</td>\n",
       "      <td>9</td>\n",
       "    </tr>\n",
       "    <tr>\n",
       "      <th>19</th>\n",
       "      <td>20</td>\n",
       "      <td>1876</td>\n",
       "      <td>0</td>\n",
       "      <td>Spoken</td>\n",
       "      <td>20</td>\n",
       "    </tr>\n",
       "    <tr>\n",
       "      <th>2</th>\n",
       "      <td>3</td>\n",
       "      <td>1752</td>\n",
       "      <td>0</td>\n",
       "      <td>Blues</td>\n",
       "      <td>3</td>\n",
       "    </tr>\n",
       "    <tr>\n",
       "      <th>13</th>\n",
       "      <td>14</td>\n",
       "      <td>1499</td>\n",
       "      <td>0</td>\n",
       "      <td>Soul-RnB</td>\n",
       "      <td>14</td>\n",
       "    </tr>\n",
       "    <tr>\n",
       "      <th>7</th>\n",
       "      <td>8</td>\n",
       "      <td>868</td>\n",
       "      <td>0</td>\n",
       "      <td>Old-Time / Historic</td>\n",
       "      <td>8</td>\n",
       "    </tr>\n",
       "    <tr>\n",
       "      <th>12</th>\n",
       "      <td>13</td>\n",
       "      <td>730</td>\n",
       "      <td>0</td>\n",
       "      <td>Easy Listening</td>\n",
       "      <td>13</td>\n",
       "    </tr>\n",
       "  </tbody>\n",
       "</table>\n",
       "</div>"
      ],
      "text/plain": [
       "     genre_id  #tracks  parent                title  top_level\n",
       "31         38    38154       0         Experimental         38\n",
       "14         15    34413       0           Electronic         15\n",
       "11         12    32923       0                 Rock         12\n",
       "162      1235    14938       0         Instrumental       1235\n",
       "9          10    13845       0                  Pop         10\n",
       "16         17    12706       0                 Folk         17\n",
       "20         21     8389       0              Hip-Hop         21\n",
       "1           2     5271       0        International          2\n",
       "3           4     4126       0                 Jazz          4\n",
       "4           5     4106       0            Classical          5\n",
       "8           9     1987       0              Country          9\n",
       "19         20     1876       0               Spoken         20\n",
       "2           3     1752       0                Blues          3\n",
       "13         14     1499       0             Soul-RnB         14\n",
       "7           8      868       0  Old-Time / Historic          8\n",
       "12         13      730       0       Easy Listening         13"
      ]
     },
     "execution_count": 17,
     "metadata": {},
     "output_type": "execute_result"
    }
   ],
   "source": [
    "df_genres[df_genres.parent == 0].sort_values(by=\"#tracks\", ascending = False).head(16)"
   ]
  },
  {
   "cell_type": "markdown",
   "metadata": {},
   "source": [
    "Making a list with the 10 genres with highest number of tracks."
   ]
  },
  {
   "cell_type": "code",
   "execution_count": 18,
   "metadata": {
    "ExecuteTime": {
     "end_time": "2018-09-11T23:55:54.975708Z",
     "start_time": "2018-09-11T23:55:54.910812Z"
    },
    "scrolled": true
   },
   "outputs": [
    {
     "data": {
      "text/plain": [
       "['Experimental',\n",
       " 'Electronic',\n",
       " 'Rock',\n",
       " 'Instrumental',\n",
       " 'Pop',\n",
       " 'Folk',\n",
       " 'Hip-Hop',\n",
       " 'International',\n",
       " 'Jazz',\n",
       " 'Classical',\n",
       " 'Country',\n",
       " 'Spoken',\n",
       " 'Blues',\n",
       " 'Soul-RnB',\n",
       " 'Old-Time / Historic',\n",
       " 'Easy Listening']"
      ]
     },
     "execution_count": 18,
     "metadata": {},
     "output_type": "execute_result"
    }
   ],
   "source": [
    "list_top_genres = list(df_genres[df_genres.parent == 0].sort_values(by=\"#tracks\", ascending = False).title)\n",
    "list_top_genres"
   ]
  },
  {
   "cell_type": "markdown",
   "metadata": {},
   "source": [
    "### Exploring features"
   ]
  },
  {
   "cell_type": "code",
   "execution_count": 19,
   "metadata": {
    "ExecuteTime": {
     "end_time": "2018-09-11T23:56:08.186666Z",
     "start_time": "2018-09-11T23:55:54.977177Z"
    }
   },
   "outputs": [],
   "source": [
    "df_features = pd.read_csv(\"features.csv\", index_col = 0, header = [0,1,2])"
   ]
  },
  {
   "cell_type": "code",
   "execution_count": 20,
   "metadata": {
    "ExecuteTime": {
     "end_time": "2018-09-11T23:56:08.222612Z",
     "start_time": "2018-09-11T23:56:08.187939Z"
    }
   },
   "outputs": [
    {
     "data": {
      "text/html": [
       "<div>\n",
       "<style scoped>\n",
       "    .dataframe tbody tr th:only-of-type {\n",
       "        vertical-align: middle;\n",
       "    }\n",
       "\n",
       "    .dataframe tbody tr th {\n",
       "        vertical-align: top;\n",
       "    }\n",
       "\n",
       "    .dataframe thead tr th {\n",
       "        text-align: left;\n",
       "    }\n",
       "\n",
       "    .dataframe thead tr:last-of-type th {\n",
       "        text-align: right;\n",
       "    }\n",
       "</style>\n",
       "<table border=\"1\" class=\"dataframe\">\n",
       "  <thead>\n",
       "    <tr>\n",
       "      <th>feature</th>\n",
       "      <th colspan=\"10\" halign=\"left\">chroma_cens</th>\n",
       "      <th>...</th>\n",
       "      <th colspan=\"3\" halign=\"left\">tonnetz</th>\n",
       "      <th colspan=\"7\" halign=\"left\">zcr</th>\n",
       "    </tr>\n",
       "    <tr>\n",
       "      <th>statistics</th>\n",
       "      <th colspan=\"10\" halign=\"left\">kurtosis</th>\n",
       "      <th>...</th>\n",
       "      <th colspan=\"3\" halign=\"left\">std</th>\n",
       "      <th>kurtosis</th>\n",
       "      <th>max</th>\n",
       "      <th>mean</th>\n",
       "      <th>median</th>\n",
       "      <th>min</th>\n",
       "      <th>skew</th>\n",
       "      <th>std</th>\n",
       "    </tr>\n",
       "    <tr>\n",
       "      <th>number</th>\n",
       "      <th>01</th>\n",
       "      <th>02</th>\n",
       "      <th>03</th>\n",
       "      <th>04</th>\n",
       "      <th>05</th>\n",
       "      <th>06</th>\n",
       "      <th>07</th>\n",
       "      <th>08</th>\n",
       "      <th>09</th>\n",
       "      <th>10</th>\n",
       "      <th>...</th>\n",
       "      <th>04</th>\n",
       "      <th>05</th>\n",
       "      <th>06</th>\n",
       "      <th>01</th>\n",
       "      <th>01</th>\n",
       "      <th>01</th>\n",
       "      <th>01</th>\n",
       "      <th>01</th>\n",
       "      <th>01</th>\n",
       "      <th>01</th>\n",
       "    </tr>\n",
       "    <tr>\n",
       "      <th>track_id</th>\n",
       "      <th></th>\n",
       "      <th></th>\n",
       "      <th></th>\n",
       "      <th></th>\n",
       "      <th></th>\n",
       "      <th></th>\n",
       "      <th></th>\n",
       "      <th></th>\n",
       "      <th></th>\n",
       "      <th></th>\n",
       "      <th></th>\n",
       "      <th></th>\n",
       "      <th></th>\n",
       "      <th></th>\n",
       "      <th></th>\n",
       "      <th></th>\n",
       "      <th></th>\n",
       "      <th></th>\n",
       "      <th></th>\n",
       "      <th></th>\n",
       "      <th></th>\n",
       "    </tr>\n",
       "  </thead>\n",
       "  <tbody>\n",
       "    <tr>\n",
       "      <th>2</th>\n",
       "      <td>7.180653</td>\n",
       "      <td>5.230309</td>\n",
       "      <td>0.249321</td>\n",
       "      <td>1.347620</td>\n",
       "      <td>1.482478</td>\n",
       "      <td>0.531371</td>\n",
       "      <td>1.481593</td>\n",
       "      <td>2.691455</td>\n",
       "      <td>0.866868</td>\n",
       "      <td>1.341231</td>\n",
       "      <td>...</td>\n",
       "      <td>0.054125</td>\n",
       "      <td>0.012226</td>\n",
       "      <td>0.012111</td>\n",
       "      <td>5.758890</td>\n",
       "      <td>0.459473</td>\n",
       "      <td>0.085629</td>\n",
       "      <td>0.071289</td>\n",
       "      <td>0.000000</td>\n",
       "      <td>2.089872</td>\n",
       "      <td>0.061448</td>\n",
       "    </tr>\n",
       "    <tr>\n",
       "      <th>3</th>\n",
       "      <td>1.888963</td>\n",
       "      <td>0.760539</td>\n",
       "      <td>0.345297</td>\n",
       "      <td>2.295201</td>\n",
       "      <td>1.654031</td>\n",
       "      <td>0.067592</td>\n",
       "      <td>1.366848</td>\n",
       "      <td>1.054094</td>\n",
       "      <td>0.108103</td>\n",
       "      <td>0.619185</td>\n",
       "      <td>...</td>\n",
       "      <td>0.063831</td>\n",
       "      <td>0.014212</td>\n",
       "      <td>0.017740</td>\n",
       "      <td>2.824694</td>\n",
       "      <td>0.466309</td>\n",
       "      <td>0.084578</td>\n",
       "      <td>0.063965</td>\n",
       "      <td>0.000000</td>\n",
       "      <td>1.716724</td>\n",
       "      <td>0.069330</td>\n",
       "    </tr>\n",
       "    <tr>\n",
       "      <th>5</th>\n",
       "      <td>0.527563</td>\n",
       "      <td>-0.077654</td>\n",
       "      <td>-0.279610</td>\n",
       "      <td>0.685883</td>\n",
       "      <td>1.937570</td>\n",
       "      <td>0.880839</td>\n",
       "      <td>-0.923192</td>\n",
       "      <td>-0.927232</td>\n",
       "      <td>0.666617</td>\n",
       "      <td>1.038546</td>\n",
       "      <td>...</td>\n",
       "      <td>0.040730</td>\n",
       "      <td>0.012691</td>\n",
       "      <td>0.014759</td>\n",
       "      <td>6.808415</td>\n",
       "      <td>0.375000</td>\n",
       "      <td>0.053114</td>\n",
       "      <td>0.041504</td>\n",
       "      <td>0.000000</td>\n",
       "      <td>2.193303</td>\n",
       "      <td>0.044861</td>\n",
       "    </tr>\n",
       "    <tr>\n",
       "      <th>10</th>\n",
       "      <td>3.702245</td>\n",
       "      <td>-0.291193</td>\n",
       "      <td>2.196742</td>\n",
       "      <td>-0.234449</td>\n",
       "      <td>1.367364</td>\n",
       "      <td>0.998411</td>\n",
       "      <td>1.770694</td>\n",
       "      <td>1.604566</td>\n",
       "      <td>0.521217</td>\n",
       "      <td>1.982386</td>\n",
       "      <td>...</td>\n",
       "      <td>0.074358</td>\n",
       "      <td>0.017952</td>\n",
       "      <td>0.013921</td>\n",
       "      <td>21.434212</td>\n",
       "      <td>0.452148</td>\n",
       "      <td>0.077515</td>\n",
       "      <td>0.071777</td>\n",
       "      <td>0.000000</td>\n",
       "      <td>3.542325</td>\n",
       "      <td>0.040800</td>\n",
       "    </tr>\n",
       "    <tr>\n",
       "      <th>20</th>\n",
       "      <td>-0.193837</td>\n",
       "      <td>-0.198527</td>\n",
       "      <td>0.201546</td>\n",
       "      <td>0.258556</td>\n",
       "      <td>0.775204</td>\n",
       "      <td>0.084794</td>\n",
       "      <td>-0.289294</td>\n",
       "      <td>-0.816410</td>\n",
       "      <td>0.043851</td>\n",
       "      <td>-0.804761</td>\n",
       "      <td>...</td>\n",
       "      <td>0.095003</td>\n",
       "      <td>0.022492</td>\n",
       "      <td>0.021355</td>\n",
       "      <td>16.669037</td>\n",
       "      <td>0.469727</td>\n",
       "      <td>0.047225</td>\n",
       "      <td>0.040039</td>\n",
       "      <td>0.000977</td>\n",
       "      <td>3.189831</td>\n",
       "      <td>0.030993</td>\n",
       "    </tr>\n",
       "  </tbody>\n",
       "</table>\n",
       "<p>5 rows × 518 columns</p>\n",
       "</div>"
      ],
      "text/plain": [
       "feature    chroma_cens                                                    \\\n",
       "statistics    kurtosis                                                     \n",
       "number              01        02        03        04        05        06   \n",
       "track_id                                                                   \n",
       "2             7.180653  5.230309  0.249321  1.347620  1.482478  0.531371   \n",
       "3             1.888963  0.760539  0.345297  2.295201  1.654031  0.067592   \n",
       "5             0.527563 -0.077654 -0.279610  0.685883  1.937570  0.880839   \n",
       "10            3.702245 -0.291193  2.196742 -0.234449  1.367364  0.998411   \n",
       "20           -0.193837 -0.198527  0.201546  0.258556  0.775204  0.084794   \n",
       "\n",
       "feature                                               ...      tonnetz  \\\n",
       "statistics                                            ...          std   \n",
       "number            07        08        09        10    ...           04   \n",
       "track_id                                              ...                \n",
       "2           1.481593  2.691455  0.866868  1.341231    ...     0.054125   \n",
       "3           1.366848  1.054094  0.108103  0.619185    ...     0.063831   \n",
       "5          -0.923192 -0.927232  0.666617  1.038546    ...     0.040730   \n",
       "10          1.770694  1.604566  0.521217  1.982386    ...     0.074358   \n",
       "20         -0.289294 -0.816410  0.043851 -0.804761    ...     0.095003   \n",
       "\n",
       "feature                               zcr                                \\\n",
       "statistics                       kurtosis       max      mean    median   \n",
       "number            05        06         01        01        01        01   \n",
       "track_id                                                                  \n",
       "2           0.012226  0.012111   5.758890  0.459473  0.085629  0.071289   \n",
       "3           0.014212  0.017740   2.824694  0.466309  0.084578  0.063965   \n",
       "5           0.012691  0.014759   6.808415  0.375000  0.053114  0.041504   \n",
       "10          0.017952  0.013921  21.434212  0.452148  0.077515  0.071777   \n",
       "20          0.022492  0.021355  16.669037  0.469727  0.047225  0.040039   \n",
       "\n",
       "feature                                   \n",
       "statistics       min      skew       std  \n",
       "number            01        01        01  \n",
       "track_id                                  \n",
       "2           0.000000  2.089872  0.061448  \n",
       "3           0.000000  1.716724  0.069330  \n",
       "5           0.000000  2.193303  0.044861  \n",
       "10          0.000000  3.542325  0.040800  \n",
       "20          0.000977  3.189831  0.030993  \n",
       "\n",
       "[5 rows x 518 columns]"
      ]
     },
     "execution_count": 20,
     "metadata": {},
     "output_type": "execute_result"
    }
   ],
   "source": [
    "df_features.head(5)"
   ]
  },
  {
   "cell_type": "code",
   "execution_count": 21,
   "metadata": {
    "ExecuteTime": {
     "end_time": "2018-09-11T23:56:08.658835Z",
     "start_time": "2018-09-11T23:56:08.224077Z"
    },
    "scrolled": true
   },
   "outputs": [
    {
     "data": {
      "text/html": [
       "<div>\n",
       "<style scoped>\n",
       "    .dataframe tbody tr th:only-of-type {\n",
       "        vertical-align: middle;\n",
       "    }\n",
       "\n",
       "    .dataframe tbody tr th {\n",
       "        vertical-align: top;\n",
       "    }\n",
       "\n",
       "    .dataframe thead tr th {\n",
       "        text-align: left;\n",
       "    }\n",
       "</style>\n",
       "<table border=\"1\" class=\"dataframe\">\n",
       "  <thead>\n",
       "    <tr>\n",
       "      <th>statistics</th>\n",
       "      <th colspan=\"6\" halign=\"left\">kurtosis</th>\n",
       "      <th colspan=\"4\" halign=\"left\">max</th>\n",
       "      <th>...</th>\n",
       "      <th colspan=\"4\" halign=\"left\">skew</th>\n",
       "      <th colspan=\"6\" halign=\"left\">std</th>\n",
       "    </tr>\n",
       "    <tr>\n",
       "      <th>number</th>\n",
       "      <th>01</th>\n",
       "      <th>02</th>\n",
       "      <th>03</th>\n",
       "      <th>04</th>\n",
       "      <th>05</th>\n",
       "      <th>06</th>\n",
       "      <th>01</th>\n",
       "      <th>02</th>\n",
       "      <th>03</th>\n",
       "      <th>04</th>\n",
       "      <th>...</th>\n",
       "      <th>03</th>\n",
       "      <th>04</th>\n",
       "      <th>05</th>\n",
       "      <th>06</th>\n",
       "      <th>01</th>\n",
       "      <th>02</th>\n",
       "      <th>03</th>\n",
       "      <th>04</th>\n",
       "      <th>05</th>\n",
       "      <th>06</th>\n",
       "    </tr>\n",
       "  </thead>\n",
       "  <tbody>\n",
       "    <tr>\n",
       "      <th>count</th>\n",
       "      <td>106574.000000</td>\n",
       "      <td>106574.000000</td>\n",
       "      <td>106574.000000</td>\n",
       "      <td>106574.000000</td>\n",
       "      <td>106574.000000</td>\n",
       "      <td>106574.000000</td>\n",
       "      <td>106574.000000</td>\n",
       "      <td>106574.000000</td>\n",
       "      <td>106574.000000</td>\n",
       "      <td>106574.000000</td>\n",
       "      <td>...</td>\n",
       "      <td>106574.000000</td>\n",
       "      <td>106574.000000</td>\n",
       "      <td>106574.000000</td>\n",
       "      <td>106574.000000</td>\n",
       "      <td>106574.000000</td>\n",
       "      <td>106574.000000</td>\n",
       "      <td>106574.000000</td>\n",
       "      <td>106574.000000</td>\n",
       "      <td>106574.000000</td>\n",
       "      <td>106574.000000</td>\n",
       "    </tr>\n",
       "    <tr>\n",
       "      <th>mean</th>\n",
       "      <td>1.319672</td>\n",
       "      <td>1.717925</td>\n",
       "      <td>0.640847</td>\n",
       "      <td>0.652928</td>\n",
       "      <td>0.599437</td>\n",
       "      <td>0.621631</td>\n",
       "      <td>0.115877</td>\n",
       "      <td>0.134926</td>\n",
       "      <td>0.309983</td>\n",
       "      <td>0.318737</td>\n",
       "      <td>...</td>\n",
       "      <td>0.028169</td>\n",
       "      <td>-0.015902</td>\n",
       "      <td>0.027289</td>\n",
       "      <td>-0.084103</td>\n",
       "      <td>0.030505</td>\n",
       "      <td>0.031576</td>\n",
       "      <td>0.099024</td>\n",
       "      <td>0.098667</td>\n",
       "      <td>0.021569</td>\n",
       "      <td>0.021880</td>\n",
       "    </tr>\n",
       "    <tr>\n",
       "      <th>std</th>\n",
       "      <td>3.975025</td>\n",
       "      <td>5.256215</td>\n",
       "      <td>1.907636</td>\n",
       "      <td>2.014855</td>\n",
       "      <td>2.253823</td>\n",
       "      <td>2.323367</td>\n",
       "      <td>0.043309</td>\n",
       "      <td>0.059461</td>\n",
       "      <td>0.101951</td>\n",
       "      <td>0.100857</td>\n",
       "      <td>...</td>\n",
       "      <td>0.534369</td>\n",
       "      <td>0.537356</td>\n",
       "      <td>0.438138</td>\n",
       "      <td>0.443332</td>\n",
       "      <td>0.008109</td>\n",
       "      <td>0.008858</td>\n",
       "      <td>0.037662</td>\n",
       "      <td>0.037101</td>\n",
       "      <td>0.006076</td>\n",
       "      <td>0.006125</td>\n",
       "    </tr>\n",
       "    <tr>\n",
       "      <th>min</th>\n",
       "      <td>-1.892568</td>\n",
       "      <td>-1.898935</td>\n",
       "      <td>-1.893301</td>\n",
       "      <td>-1.913371</td>\n",
       "      <td>-1.919952</td>\n",
       "      <td>-1.834668</td>\n",
       "      <td>-0.025341</td>\n",
       "      <td>-0.018074</td>\n",
       "      <td>-0.221685</td>\n",
       "      <td>-0.161901</td>\n",
       "      <td>...</td>\n",
       "      <td>-12.846043</td>\n",
       "      <td>-14.887380</td>\n",
       "      <td>-8.802391</td>\n",
       "      <td>-14.803952</td>\n",
       "      <td>0.000403</td>\n",
       "      <td>0.001003</td>\n",
       "      <td>0.000084</td>\n",
       "      <td>0.005681</td>\n",
       "      <td>0.000087</td>\n",
       "      <td>0.000368</td>\n",
       "    </tr>\n",
       "    <tr>\n",
       "      <th>25%</th>\n",
       "      <td>0.139788</td>\n",
       "      <td>0.167531</td>\n",
       "      <td>-0.239033</td>\n",
       "      <td>-0.229334</td>\n",
       "      <td>-0.091887</td>\n",
       "      <td>-0.078357</td>\n",
       "      <td>0.085931</td>\n",
       "      <td>0.096196</td>\n",
       "      <td>0.236527</td>\n",
       "      <td>0.245634</td>\n",
       "      <td>...</td>\n",
       "      <td>-0.270110</td>\n",
       "      <td>-0.305780</td>\n",
       "      <td>-0.175160</td>\n",
       "      <td>-0.292231</td>\n",
       "      <td>0.024885</td>\n",
       "      <td>0.025486</td>\n",
       "      <td>0.070935</td>\n",
       "      <td>0.071240</td>\n",
       "      <td>0.017226</td>\n",
       "      <td>0.017542</td>\n",
       "    </tr>\n",
       "    <tr>\n",
       "      <th>50%</th>\n",
       "      <td>0.549554</td>\n",
       "      <td>0.611403</td>\n",
       "      <td>0.288813</td>\n",
       "      <td>0.300490</td>\n",
       "      <td>0.244864</td>\n",
       "      <td>0.265318</td>\n",
       "      <td>0.108011</td>\n",
       "      <td>0.122653</td>\n",
       "      <td>0.318542</td>\n",
       "      <td>0.326846</td>\n",
       "      <td>...</td>\n",
       "      <td>0.017785</td>\n",
       "      <td>-0.014720</td>\n",
       "      <td>0.020364</td>\n",
       "      <td>-0.084953</td>\n",
       "      <td>0.029089</td>\n",
       "      <td>0.029985</td>\n",
       "      <td>0.093590</td>\n",
       "      <td>0.093500</td>\n",
       "      <td>0.020636</td>\n",
       "      <td>0.020964</td>\n",
       "    </tr>\n",
       "    <tr>\n",
       "      <th>75%</th>\n",
       "      <td>1.306603</td>\n",
       "      <td>1.469975</td>\n",
       "      <td>1.064807</td>\n",
       "      <td>1.080736</td>\n",
       "      <td>0.717619</td>\n",
       "      <td>0.756468</td>\n",
       "      <td>0.137951</td>\n",
       "      <td>0.158029</td>\n",
       "      <td>0.393993</td>\n",
       "      <td>0.400345</td>\n",
       "      <td>...</td>\n",
       "      <td>0.313749</td>\n",
       "      <td>0.276795</td>\n",
       "      <td>0.222507</td>\n",
       "      <td>0.121993</td>\n",
       "      <td>0.034650</td>\n",
       "      <td>0.035830</td>\n",
       "      <td>0.121712</td>\n",
       "      <td>0.121007</td>\n",
       "      <td>0.024990</td>\n",
       "      <td>0.025252</td>\n",
       "    </tr>\n",
       "    <tr>\n",
       "      <th>max</th>\n",
       "      <td>284.245575</td>\n",
       "      <td>208.817215</td>\n",
       "      <td>198.925018</td>\n",
       "      <td>228.661407</td>\n",
       "      <td>168.178726</td>\n",
       "      <td>259.837097</td>\n",
       "      <td>0.500000</td>\n",
       "      <td>1.000000</td>\n",
       "      <td>1.000000</td>\n",
       "      <td>1.000000</td>\n",
       "      <td>...</td>\n",
       "      <td>10.678182</td>\n",
       "      <td>11.930632</td>\n",
       "      <td>11.338000</td>\n",
       "      <td>7.975739</td>\n",
       "      <td>0.122617</td>\n",
       "      <td>0.168010</td>\n",
       "      <td>0.311864</td>\n",
       "      <td>0.332470</td>\n",
       "      <td>0.092869</td>\n",
       "      <td>0.116128</td>\n",
       "    </tr>\n",
       "  </tbody>\n",
       "</table>\n",
       "<p>8 rows × 42 columns</p>\n",
       "</div>"
      ],
      "text/plain": [
       "statistics       kurtosis                                               \\\n",
       "number                 01             02             03             04   \n",
       "count       106574.000000  106574.000000  106574.000000  106574.000000   \n",
       "mean             1.319672       1.717925       0.640847       0.652928   \n",
       "std              3.975025       5.256215       1.907636       2.014855   \n",
       "min             -1.892568      -1.898935      -1.893301      -1.913371   \n",
       "25%              0.139788       0.167531      -0.239033      -0.229334   \n",
       "50%              0.549554       0.611403       0.288813       0.300490   \n",
       "75%              1.306603       1.469975       1.064807       1.080736   \n",
       "max            284.245575     208.817215     198.925018     228.661407   \n",
       "\n",
       "statistics                                          max                 \\\n",
       "number                 05             06             01             02   \n",
       "count       106574.000000  106574.000000  106574.000000  106574.000000   \n",
       "mean             0.599437       0.621631       0.115877       0.134926   \n",
       "std              2.253823       2.323367       0.043309       0.059461   \n",
       "min             -1.919952      -1.834668      -0.025341      -0.018074   \n",
       "25%             -0.091887      -0.078357       0.085931       0.096196   \n",
       "50%              0.244864       0.265318       0.108011       0.122653   \n",
       "75%              0.717619       0.756468       0.137951       0.158029   \n",
       "max            168.178726     259.837097       0.500000       1.000000   \n",
       "\n",
       "statistics                                    ...                 skew  \\\n",
       "number                 03             04      ...                   03   \n",
       "count       106574.000000  106574.000000      ...        106574.000000   \n",
       "mean             0.309983       0.318737      ...             0.028169   \n",
       "std              0.101951       0.100857      ...             0.534369   \n",
       "min             -0.221685      -0.161901      ...           -12.846043   \n",
       "25%              0.236527       0.245634      ...            -0.270110   \n",
       "50%              0.318542       0.326846      ...             0.017785   \n",
       "75%              0.393993       0.400345      ...             0.313749   \n",
       "max              1.000000       1.000000      ...            10.678182   \n",
       "\n",
       "statistics                                                         std  \\\n",
       "number                 04             05             06             01   \n",
       "count       106574.000000  106574.000000  106574.000000  106574.000000   \n",
       "mean            -0.015902       0.027289      -0.084103       0.030505   \n",
       "std              0.537356       0.438138       0.443332       0.008109   \n",
       "min            -14.887380      -8.802391     -14.803952       0.000403   \n",
       "25%             -0.305780      -0.175160      -0.292231       0.024885   \n",
       "50%             -0.014720       0.020364      -0.084953       0.029089   \n",
       "75%              0.276795       0.222507       0.121993       0.034650   \n",
       "max             11.930632      11.338000       7.975739       0.122617   \n",
       "\n",
       "statistics                                                              \\\n",
       "number                 02             03             04             05   \n",
       "count       106574.000000  106574.000000  106574.000000  106574.000000   \n",
       "mean             0.031576       0.099024       0.098667       0.021569   \n",
       "std              0.008858       0.037662       0.037101       0.006076   \n",
       "min              0.001003       0.000084       0.005681       0.000087   \n",
       "25%              0.025486       0.070935       0.071240       0.017226   \n",
       "50%              0.029985       0.093590       0.093500       0.020636   \n",
       "75%              0.035830       0.121712       0.121007       0.024990   \n",
       "max              0.168010       0.311864       0.332470       0.092869   \n",
       "\n",
       "statistics                 \n",
       "number                 06  \n",
       "count       106574.000000  \n",
       "mean             0.021880  \n",
       "std              0.006125  \n",
       "min              0.000368  \n",
       "25%              0.017542  \n",
       "50%              0.020964  \n",
       "75%              0.025252  \n",
       "max              0.116128  \n",
       "\n",
       "[8 rows x 42 columns]"
      ]
     },
     "execution_count": 21,
     "metadata": {},
     "output_type": "execute_result"
    }
   ],
   "source": [
    "df_features[\"tonnetz\"].describe()"
   ]
  },
  {
   "cell_type": "markdown",
   "metadata": {
    "ExecuteTime": {
     "end_time": "2018-09-04T20:07:52.388440Z",
     "start_time": "2018-09-04T20:07:52.382957Z"
    }
   },
   "source": [
    "### Creating a new table with information relevant to the project from tracks.csv"
   ]
  },
  {
   "cell_type": "code",
   "execution_count": 22,
   "metadata": {
    "ExecuteTime": {
     "end_time": "2018-09-11T23:56:10.573704Z",
     "start_time": "2018-09-11T23:56:08.660689Z"
    }
   },
   "outputs": [
    {
     "data": {
      "text/html": [
       "<div>\n",
       "<style scoped>\n",
       "    .dataframe tbody tr th:only-of-type {\n",
       "        vertical-align: middle;\n",
       "    }\n",
       "\n",
       "    .dataframe tbody tr th {\n",
       "        vertical-align: top;\n",
       "    }\n",
       "\n",
       "    .dataframe thead tr th {\n",
       "        text-align: left;\n",
       "    }\n",
       "\n",
       "    .dataframe thead tr:last-of-type th {\n",
       "        text-align: right;\n",
       "    }\n",
       "</style>\n",
       "<table border=\"1\" class=\"dataframe\">\n",
       "  <thead>\n",
       "    <tr>\n",
       "      <th></th>\n",
       "      <th colspan=\"10\" halign=\"left\">album</th>\n",
       "      <th>...</th>\n",
       "      <th colspan=\"10\" halign=\"left\">track</th>\n",
       "    </tr>\n",
       "    <tr>\n",
       "      <th></th>\n",
       "      <th>comments</th>\n",
       "      <th>date_created</th>\n",
       "      <th>date_released</th>\n",
       "      <th>engineer</th>\n",
       "      <th>favorites</th>\n",
       "      <th>id</th>\n",
       "      <th>information</th>\n",
       "      <th>listens</th>\n",
       "      <th>producer</th>\n",
       "      <th>tags</th>\n",
       "      <th>...</th>\n",
       "      <th>information</th>\n",
       "      <th>interest</th>\n",
       "      <th>language_code</th>\n",
       "      <th>license</th>\n",
       "      <th>listens</th>\n",
       "      <th>lyricist</th>\n",
       "      <th>number</th>\n",
       "      <th>publisher</th>\n",
       "      <th>tags</th>\n",
       "      <th>title</th>\n",
       "    </tr>\n",
       "    <tr>\n",
       "      <th>track_id</th>\n",
       "      <th></th>\n",
       "      <th></th>\n",
       "      <th></th>\n",
       "      <th></th>\n",
       "      <th></th>\n",
       "      <th></th>\n",
       "      <th></th>\n",
       "      <th></th>\n",
       "      <th></th>\n",
       "      <th></th>\n",
       "      <th></th>\n",
       "      <th></th>\n",
       "      <th></th>\n",
       "      <th></th>\n",
       "      <th></th>\n",
       "      <th></th>\n",
       "      <th></th>\n",
       "      <th></th>\n",
       "      <th></th>\n",
       "      <th></th>\n",
       "      <th></th>\n",
       "    </tr>\n",
       "  </thead>\n",
       "  <tbody>\n",
       "    <tr>\n",
       "      <th>2</th>\n",
       "      <td>0</td>\n",
       "      <td>2008-11-26 01:44:45</td>\n",
       "      <td>2009-01-05 00:00:00</td>\n",
       "      <td>NaN</td>\n",
       "      <td>4</td>\n",
       "      <td>1</td>\n",
       "      <td>&lt;p&gt;&lt;/p&gt;</td>\n",
       "      <td>6073</td>\n",
       "      <td>NaN</td>\n",
       "      <td>[]</td>\n",
       "      <td>...</td>\n",
       "      <td>NaN</td>\n",
       "      <td>4656</td>\n",
       "      <td>en</td>\n",
       "      <td>Attribution-NonCommercial-ShareAlike 3.0 Inter...</td>\n",
       "      <td>1293</td>\n",
       "      <td>NaN</td>\n",
       "      <td>3</td>\n",
       "      <td>NaN</td>\n",
       "      <td>[]</td>\n",
       "      <td>Food</td>\n",
       "    </tr>\n",
       "  </tbody>\n",
       "</table>\n",
       "<p>1 rows × 52 columns</p>\n",
       "</div>"
      ],
      "text/plain": [
       "            album                                                     \\\n",
       "         comments         date_created        date_released engineer   \n",
       "track_id                                                               \n",
       "2               0  2008-11-26 01:44:45  2009-01-05 00:00:00      NaN   \n",
       "\n",
       "                                                         ...        track  \\\n",
       "         favorites id information listens producer tags  ...  information   \n",
       "track_id                                                 ...                \n",
       "2                4  1     <p></p>    6073      NaN   []  ...          NaN   \n",
       "\n",
       "                                 \\\n",
       "         interest language_code   \n",
       "track_id                          \n",
       "2            4656            en   \n",
       "\n",
       "                                                                              \\\n",
       "                                                    license listens lyricist   \n",
       "track_id                                                                       \n",
       "2         Attribution-NonCommercial-ShareAlike 3.0 Inter...    1293      NaN   \n",
       "\n",
       "                                      \n",
       "         number publisher tags title  \n",
       "track_id                              \n",
       "2             3       NaN   []  Food  \n",
       "\n",
       "[1 rows x 52 columns]"
      ]
     },
     "execution_count": 22,
     "metadata": {},
     "output_type": "execute_result"
    }
   ],
   "source": [
    "tracks = pd.read_csv('tracks.csv',index_col = 0, header = [0,1])\n",
    "tracks.head(1)"
   ]
  },
  {
   "cell_type": "code",
   "execution_count": 23,
   "metadata": {
    "ExecuteTime": {
     "end_time": "2018-09-11T23:56:10.601771Z",
     "start_time": "2018-09-11T23:56:10.575417Z"
    }
   },
   "outputs": [
    {
     "data": {
      "text/html": [
       "<div>\n",
       "<style scoped>\n",
       "    .dataframe tbody tr th:only-of-type {\n",
       "        vertical-align: middle;\n",
       "    }\n",
       "\n",
       "    .dataframe tbody tr th {\n",
       "        vertical-align: top;\n",
       "    }\n",
       "\n",
       "    .dataframe thead th {\n",
       "        text-align: right;\n",
       "    }\n",
       "</style>\n",
       "<table border=\"1\" class=\"dataframe\">\n",
       "  <thead>\n",
       "    <tr style=\"text-align: right;\">\n",
       "      <th></th>\n",
       "      <th>bit_rate</th>\n",
       "      <th>comments</th>\n",
       "      <th>composer</th>\n",
       "      <th>date_created</th>\n",
       "      <th>date_recorded</th>\n",
       "      <th>duration</th>\n",
       "      <th>favorites</th>\n",
       "      <th>genre_top</th>\n",
       "      <th>genres</th>\n",
       "      <th>genres_all</th>\n",
       "      <th>information</th>\n",
       "      <th>interest</th>\n",
       "      <th>language_code</th>\n",
       "      <th>license</th>\n",
       "      <th>listens</th>\n",
       "      <th>lyricist</th>\n",
       "      <th>number</th>\n",
       "      <th>publisher</th>\n",
       "      <th>tags</th>\n",
       "      <th>title</th>\n",
       "    </tr>\n",
       "    <tr>\n",
       "      <th>track_id</th>\n",
       "      <th></th>\n",
       "      <th></th>\n",
       "      <th></th>\n",
       "      <th></th>\n",
       "      <th></th>\n",
       "      <th></th>\n",
       "      <th></th>\n",
       "      <th></th>\n",
       "      <th></th>\n",
       "      <th></th>\n",
       "      <th></th>\n",
       "      <th></th>\n",
       "      <th></th>\n",
       "      <th></th>\n",
       "      <th></th>\n",
       "      <th></th>\n",
       "      <th></th>\n",
       "      <th></th>\n",
       "      <th></th>\n",
       "      <th></th>\n",
       "    </tr>\n",
       "  </thead>\n",
       "  <tbody>\n",
       "    <tr>\n",
       "      <th>2</th>\n",
       "      <td>256000</td>\n",
       "      <td>0</td>\n",
       "      <td>NaN</td>\n",
       "      <td>2008-11-26 01:48:12</td>\n",
       "      <td>2008-11-26 00:00:00</td>\n",
       "      <td>168</td>\n",
       "      <td>2</td>\n",
       "      <td>Hip-Hop</td>\n",
       "      <td>[21]</td>\n",
       "      <td>[21]</td>\n",
       "      <td>NaN</td>\n",
       "      <td>4656</td>\n",
       "      <td>en</td>\n",
       "      <td>Attribution-NonCommercial-ShareAlike 3.0 Inter...</td>\n",
       "      <td>1293</td>\n",
       "      <td>NaN</td>\n",
       "      <td>3</td>\n",
       "      <td>NaN</td>\n",
       "      <td>[]</td>\n",
       "      <td>Food</td>\n",
       "    </tr>\n",
       "  </tbody>\n",
       "</table>\n",
       "</div>"
      ],
      "text/plain": [
       "          bit_rate  comments composer         date_created  \\\n",
       "track_id                                                     \n",
       "2           256000         0      NaN  2008-11-26 01:48:12   \n",
       "\n",
       "                date_recorded  duration  favorites genre_top genres  \\\n",
       "track_id                                                              \n",
       "2         2008-11-26 00:00:00       168          2   Hip-Hop   [21]   \n",
       "\n",
       "         genres_all information  interest language_code  \\\n",
       "track_id                                                  \n",
       "2              [21]         NaN      4656            en   \n",
       "\n",
       "                                                    license  listens lyricist  \\\n",
       "track_id                                                                        \n",
       "2         Attribution-NonCommercial-ShareAlike 3.0 Inter...     1293      NaN   \n",
       "\n",
       "          number publisher tags title  \n",
       "track_id                               \n",
       "2              3       NaN   []  Food  "
      ]
     },
     "execution_count": 23,
     "metadata": {},
     "output_type": "execute_result"
    }
   ],
   "source": [
    "df_tracks_top = tracks[\"track\"]\n",
    "df_tracks_top.head(1)"
   ]
  },
  {
   "cell_type": "code",
   "execution_count": 24,
   "metadata": {
    "ExecuteTime": {
     "end_time": "2018-09-11T23:56:10.724748Z",
     "start_time": "2018-09-11T23:56:10.603420Z"
    }
   },
   "outputs": [
    {
     "data": {
      "text/plain": [
       "array(['Hip-Hop', 'Pop', nan, 'Rock', 'Experimental', 'Folk', 'Jazz',\n",
       "       'Electronic', 'Spoken', 'International', 'Soul-RnB', 'Blues',\n",
       "       'Country', 'Classical', 'Old-Time / Historic', 'Instrumental',\n",
       "       'Easy Listening'], dtype=object)"
      ]
     },
     "execution_count": 24,
     "metadata": {},
     "output_type": "execute_result"
    }
   ],
   "source": [
    "df_tracks_top[\"genre_top\"].unique()"
   ]
  },
  {
   "cell_type": "code",
   "execution_count": 25,
   "metadata": {
    "ExecuteTime": {
     "end_time": "2018-09-11T23:56:10.790910Z",
     "start_time": "2018-09-11T23:56:10.728038Z"
    }
   },
   "outputs": [],
   "source": [
    "#df_tracks_top.dropna(subset = [\"genre_top\"], inplace = True)"
   ]
  },
  {
   "cell_type": "code",
   "execution_count": 26,
   "metadata": {
    "ExecuteTime": {
     "end_time": "2018-09-11T23:56:10.878782Z",
     "start_time": "2018-09-11T23:56:10.795225Z"
    }
   },
   "outputs": [
    {
     "data": {
      "text/plain": [
       "array(['Hip-Hop', 'Pop', nan, 'Rock', 'Experimental', 'Folk', 'Jazz',\n",
       "       'Electronic', 'Spoken', 'International', 'Soul-RnB', 'Blues',\n",
       "       'Country', 'Classical', 'Old-Time / Historic', 'Instrumental',\n",
       "       'Easy Listening'], dtype=object)"
      ]
     },
     "execution_count": 26,
     "metadata": {},
     "output_type": "execute_result"
    }
   ],
   "source": [
    "df_tracks_top[\"genre_top\"].unique()"
   ]
  },
  {
   "cell_type": "markdown",
   "metadata": {},
   "source": [
    "We are only interested in languagge and genre. We drop all other columns and save the dataframe into a file."
   ]
  },
  {
   "cell_type": "code",
   "execution_count": 27,
   "metadata": {
    "ExecuteTime": {
     "end_time": "2018-09-11T23:56:10.944703Z",
     "start_time": "2018-09-11T23:56:10.882702Z"
    }
   },
   "outputs": [
    {
     "data": {
      "text/plain": [
       "Index(['bit_rate', 'comments', 'composer', 'date_created', 'date_recorded',\n",
       "       'duration', 'favorites', 'genre_top', 'genres', 'genres_all',\n",
       "       'information', 'interest', 'language_code', 'license', 'listens',\n",
       "       'lyricist', 'number', 'publisher', 'tags', 'title'],\n",
       "      dtype='object')"
      ]
     },
     "execution_count": 27,
     "metadata": {},
     "output_type": "execute_result"
    }
   ],
   "source": [
    "df_tracks_top.columns"
   ]
  },
  {
   "cell_type": "code",
   "execution_count": 28,
   "metadata": {
    "ExecuteTime": {
     "end_time": "2018-09-11T23:56:11.061075Z",
     "start_time": "2018-09-11T23:56:10.948793Z"
    }
   },
   "outputs": [
    {
     "name": "stderr",
     "output_type": "stream",
     "text": [
      "/home/pnietoramos/anaconda3/lib/python3.6/site-packages/pandas/core/frame.py:3697: SettingWithCopyWarning: \n",
      "A value is trying to be set on a copy of a slice from a DataFrame\n",
      "\n",
      "See the caveats in the documentation: http://pandas.pydata.org/pandas-docs/stable/indexing.html#indexing-view-versus-copy\n",
      "  errors=errors)\n"
     ]
    }
   ],
   "source": [
    "df_tracks_top.drop(columns = ['bit_rate', 'comments', 'composer', 'date_created', 'date_recorded',\n",
    "       'duration', 'favorites',  'genres', 'genres_all',\n",
    "       'information', 'interest',  'license', 'listens',\n",
    "       'lyricist', 'number', 'publisher', 'tags', 'title'], inplace=True)"
   ]
  },
  {
   "cell_type": "code",
   "execution_count": 29,
   "metadata": {
    "ExecuteTime": {
     "end_time": "2018-09-11T23:56:11.170327Z",
     "start_time": "2018-09-11T23:56:11.062747Z"
    },
    "scrolled": true
   },
   "outputs": [
    {
     "data": {
      "text/html": [
       "<div>\n",
       "<style scoped>\n",
       "    .dataframe tbody tr th:only-of-type {\n",
       "        vertical-align: middle;\n",
       "    }\n",
       "\n",
       "    .dataframe tbody tr th {\n",
       "        vertical-align: top;\n",
       "    }\n",
       "\n",
       "    .dataframe thead th {\n",
       "        text-align: right;\n",
       "    }\n",
       "</style>\n",
       "<table border=\"1\" class=\"dataframe\">\n",
       "  <thead>\n",
       "    <tr style=\"text-align: right;\">\n",
       "      <th></th>\n",
       "      <th>genre_top</th>\n",
       "      <th>language_code</th>\n",
       "    </tr>\n",
       "    <tr>\n",
       "      <th>track_id</th>\n",
       "      <th></th>\n",
       "      <th></th>\n",
       "    </tr>\n",
       "  </thead>\n",
       "  <tbody>\n",
       "    <tr>\n",
       "      <th>2</th>\n",
       "      <td>Hip-Hop</td>\n",
       "      <td>en</td>\n",
       "    </tr>\n",
       "    <tr>\n",
       "      <th>3</th>\n",
       "      <td>Hip-Hop</td>\n",
       "      <td>en</td>\n",
       "    </tr>\n",
       "    <tr>\n",
       "      <th>5</th>\n",
       "      <td>Hip-Hop</td>\n",
       "      <td>en</td>\n",
       "    </tr>\n",
       "    <tr>\n",
       "      <th>10</th>\n",
       "      <td>Pop</td>\n",
       "      <td>en</td>\n",
       "    </tr>\n",
       "    <tr>\n",
       "      <th>20</th>\n",
       "      <td>NaN</td>\n",
       "      <td>en</td>\n",
       "    </tr>\n",
       "  </tbody>\n",
       "</table>\n",
       "</div>"
      ],
      "text/plain": [
       "         genre_top language_code\n",
       "track_id                        \n",
       "2          Hip-Hop            en\n",
       "3          Hip-Hop            en\n",
       "5          Hip-Hop            en\n",
       "10             Pop            en\n",
       "20             NaN            en"
      ]
     },
     "execution_count": 29,
     "metadata": {},
     "output_type": "execute_result"
    }
   ],
   "source": [
    "df_tracks_top.head()"
   ]
  },
  {
   "cell_type": "code",
   "execution_count": 30,
   "metadata": {
    "ExecuteTime": {
     "end_time": "2018-09-11T23:56:11.236433Z",
     "start_time": "2018-09-11T23:56:11.174302Z"
    }
   },
   "outputs": [
    {
     "data": {
      "text/plain": [
       "en    14255\n",
       "es      204\n",
       "fr      191\n",
       "pt       81\n",
       "de       68\n",
       "ru       30\n",
       "it       28\n",
       "tr       25\n",
       "sr       23\n",
       "pl       12\n",
       "ar       12\n",
       "he       12\n",
       "el        7\n",
       "bg        7\n",
       "ee        7\n",
       "fi        6\n",
       "ja        6\n",
       "sw        6\n",
       "nl        5\n",
       "cs        5\n",
       "zh        3\n",
       "hi        3\n",
       "id        3\n",
       "vi        2\n",
       "hy        2\n",
       "ms        2\n",
       "az        2\n",
       "eu        1\n",
       "gu        1\n",
       "ha        1\n",
       "no        1\n",
       "ko        1\n",
       "lt        1\n",
       "tw        1\n",
       "la        1\n",
       "th        1\n",
       "my        1\n",
       "ty        1\n",
       "ka        1\n",
       "uk        1\n",
       "uz        1\n",
       "sk        1\n",
       "bm        1\n",
       "tl        1\n",
       "Name: language_code, dtype: int64"
      ]
     },
     "execution_count": 30,
     "metadata": {},
     "output_type": "execute_result"
    }
   ],
   "source": [
    "df_tracks_top[\"language_code\"].value_counts()"
   ]
  },
  {
   "cell_type": "code",
   "execution_count": 31,
   "metadata": {
    "ExecuteTime": {
     "end_time": "2018-09-11T23:56:11.449047Z",
     "start_time": "2018-09-11T23:56:11.238856Z"
    }
   },
   "outputs": [],
   "source": [
    "df_tracks_top.to_csv(\"genre_lan.csv\")"
   ]
  },
  {
   "cell_type": "code",
   "execution_count": 32,
   "metadata": {
    "ExecuteTime": {
     "end_time": "2018-09-11T23:56:11.462643Z",
     "start_time": "2018-09-11T23:56:11.450499Z"
    }
   },
   "outputs": [
    {
     "data": {
      "text/plain": [
       "genre_top        49598\n",
       "language_code    15024\n",
       "dtype: int64"
      ]
     },
     "execution_count": 32,
     "metadata": {},
     "output_type": "execute_result"
    }
   ],
   "source": [
    "df_tracks_top.count()"
   ]
  },
  {
   "cell_type": "code",
   "execution_count": 33,
   "metadata": {
    "ExecuteTime": {
     "end_time": "2018-09-11T23:56:11.548226Z",
     "start_time": "2018-09-11T23:56:11.464039Z"
    }
   },
   "outputs": [],
   "source": [
    "df_tracks_genre = df_tracks_top.dropna(subset=[\"genre_top\"])"
   ]
  },
  {
   "cell_type": "code",
   "execution_count": 34,
   "metadata": {
    "ExecuteTime": {
     "end_time": "2018-09-11T23:56:11.611306Z",
     "start_time": "2018-09-11T23:56:11.553271Z"
    }
   },
   "outputs": [
    {
     "data": {
      "text/plain": [
       "Rock                   14182\n",
       "Experimental           10608\n",
       "Electronic              9372\n",
       "Hip-Hop                 3552\n",
       "Folk                    2803\n",
       "Pop                     2332\n",
       "Instrumental            2079\n",
       "International           1389\n",
       "Classical               1230\n",
       "Jazz                     571\n",
       "Old-Time / Historic      554\n",
       "Spoken                   423\n",
       "Country                  194\n",
       "Soul-RnB                 175\n",
       "Blues                    110\n",
       "Easy Listening            24\n",
       "Name: genre_top, dtype: int64"
      ]
     },
     "execution_count": 34,
     "metadata": {},
     "output_type": "execute_result"
    }
   ],
   "source": [
    "df_tracks_genre[\"genre_top\"].value_counts()"
   ]
  },
  {
   "cell_type": "code",
   "execution_count": 35,
   "metadata": {
    "ExecuteTime": {
     "end_time": "2018-09-11T23:56:11.682359Z",
     "start_time": "2018-09-11T23:56:11.616338Z"
    }
   },
   "outputs": [],
   "source": [
    "list_genre_top6 = list(df_tracks_genre[\"genre_top\"].value_counts().index[0:6])"
   ]
  },
  {
   "cell_type": "code",
   "execution_count": 36,
   "metadata": {
    "ExecuteTime": {
     "end_time": "2018-09-11T23:56:11.768914Z",
     "start_time": "2018-09-11T23:56:11.683974Z"
    }
   },
   "outputs": [
    {
     "data": {
      "text/plain": [
       "['Rock', 'Experimental', 'Electronic', 'Hip-Hop', 'Folk', 'Pop']"
      ]
     },
     "execution_count": 36,
     "metadata": {},
     "output_type": "execute_result"
    }
   ],
   "source": [
    "list_genre_top6"
   ]
  },
  {
   "cell_type": "code",
   "execution_count": 37,
   "metadata": {
    "ExecuteTime": {
     "end_time": "2018-09-11T23:56:11.863502Z",
     "start_time": "2018-09-11T23:56:11.772929Z"
    }
   },
   "outputs": [],
   "source": [
    "df_tracks_top6 = df_tracks_genre[\"genre_top\"].apply(lambda x: x if x in list_genre_top6 else 0)"
   ]
  },
  {
   "cell_type": "code",
   "execution_count": 38,
   "metadata": {
    "ExecuteTime": {
     "end_time": "2018-09-11T23:56:11.947000Z",
     "start_time": "2018-09-11T23:56:11.866217Z"
    }
   },
   "outputs": [],
   "source": [
    "df_tracks_top6 = df_tracks_top6[df_tracks_top6 != 0]"
   ]
  },
  {
   "cell_type": "code",
   "execution_count": 39,
   "metadata": {
    "ExecuteTime": {
     "end_time": "2018-09-11T23:56:12.004758Z",
     "start_time": "2018-09-11T23:56:11.950919Z"
    }
   },
   "outputs": [
    {
     "data": {
      "text/plain": [
       "track_id\n",
       "2      Hip-Hop\n",
       "3      Hip-Hop\n",
       "5      Hip-Hop\n",
       "10         Pop\n",
       "134    Hip-Hop\n",
       "Name: genre_top, dtype: object"
      ]
     },
     "execution_count": 39,
     "metadata": {},
     "output_type": "execute_result"
    }
   ],
   "source": [
    "df_tracks_top6.head()"
   ]
  },
  {
   "cell_type": "code",
   "execution_count": 40,
   "metadata": {
    "ExecuteTime": {
     "end_time": "2018-09-11T23:56:12.083940Z",
     "start_time": "2018-09-11T23:56:12.010441Z"
    }
   },
   "outputs": [
    {
     "data": {
      "text/plain": [
       "Rock            14182\n",
       "Experimental    10608\n",
       "Electronic       9372\n",
       "Hip-Hop          3552\n",
       "Folk             2803\n",
       "Pop              2332\n",
       "Name: genre_top, dtype: int64"
      ]
     },
     "execution_count": 40,
     "metadata": {},
     "output_type": "execute_result"
    }
   ],
   "source": [
    "df_tracks_top6.value_counts()"
   ]
  },
  {
   "cell_type": "markdown",
   "metadata": {},
   "source": [
    "##### Dummy estimator for genres would get an accuracy of"
   ]
  },
  {
   "cell_type": "code",
   "execution_count": 41,
   "metadata": {
    "ExecuteTime": {
     "end_time": "2018-09-11T23:56:12.170494Z",
     "start_time": "2018-09-11T23:56:12.089353Z"
    }
   },
   "outputs": [
    {
     "data": {
      "text/plain": [
       "33.09762188149082"
      ]
     },
     "execution_count": 41,
     "metadata": {},
     "output_type": "execute_result"
    }
   ],
   "source": [
    "100 * df_tracks_top6.value_counts()[0]/df_tracks_top6.value_counts().sum()"
   ]
  },
  {
   "cell_type": "code",
   "execution_count": 42,
   "metadata": {
    "ExecuteTime": {
     "end_time": "2018-09-11T23:56:12.561386Z",
     "start_time": "2018-09-11T23:56:12.173685Z"
    }
   },
   "outputs": [
    {
     "name": "stderr",
     "output_type": "stream",
     "text": [
      "/home/pnietoramos/anaconda3/lib/python3.6/site-packages/pandas/core/reshape/merge.py:544: UserWarning: merging between different levels can give an unintended result (3 levels on the left, 1 on the right)\n",
      "  warnings.warn(msg, UserWarning)\n"
     ]
    }
   ],
   "source": [
    "df_features_genre = df_features.join(df_tracks_top6)"
   ]
  },
  {
   "cell_type": "code",
   "execution_count": 43,
   "metadata": {
    "ExecuteTime": {
     "end_time": "2018-09-11T23:56:12.739304Z",
     "start_time": "2018-09-11T23:56:12.562808Z"
    }
   },
   "outputs": [
    {
     "data": {
      "text/html": [
       "<div>\n",
       "<style scoped>\n",
       "    .dataframe tbody tr th:only-of-type {\n",
       "        vertical-align: middle;\n",
       "    }\n",
       "\n",
       "    .dataframe tbody tr th {\n",
       "        vertical-align: top;\n",
       "    }\n",
       "\n",
       "    .dataframe thead th {\n",
       "        text-align: right;\n",
       "    }\n",
       "</style>\n",
       "<table border=\"1\" class=\"dataframe\">\n",
       "  <thead>\n",
       "    <tr style=\"text-align: right;\">\n",
       "      <th></th>\n",
       "      <th>(chroma_cens, kurtosis, 01)</th>\n",
       "      <th>(chroma_cens, kurtosis, 02)</th>\n",
       "      <th>(chroma_cens, kurtosis, 03)</th>\n",
       "      <th>(chroma_cens, kurtosis, 04)</th>\n",
       "      <th>(chroma_cens, kurtosis, 05)</th>\n",
       "      <th>(chroma_cens, kurtosis, 06)</th>\n",
       "      <th>(chroma_cens, kurtosis, 07)</th>\n",
       "      <th>(chroma_cens, kurtosis, 08)</th>\n",
       "      <th>(chroma_cens, kurtosis, 09)</th>\n",
       "      <th>(chroma_cens, kurtosis, 10)</th>\n",
       "      <th>...</th>\n",
       "      <th>(tonnetz, std, 05)</th>\n",
       "      <th>(tonnetz, std, 06)</th>\n",
       "      <th>(zcr, kurtosis, 01)</th>\n",
       "      <th>(zcr, max, 01)</th>\n",
       "      <th>(zcr, mean, 01)</th>\n",
       "      <th>(zcr, median, 01)</th>\n",
       "      <th>(zcr, min, 01)</th>\n",
       "      <th>(zcr, skew, 01)</th>\n",
       "      <th>(zcr, std, 01)</th>\n",
       "      <th>genre_top</th>\n",
       "    </tr>\n",
       "    <tr>\n",
       "      <th>track_id</th>\n",
       "      <th></th>\n",
       "      <th></th>\n",
       "      <th></th>\n",
       "      <th></th>\n",
       "      <th></th>\n",
       "      <th></th>\n",
       "      <th></th>\n",
       "      <th></th>\n",
       "      <th></th>\n",
       "      <th></th>\n",
       "      <th></th>\n",
       "      <th></th>\n",
       "      <th></th>\n",
       "      <th></th>\n",
       "      <th></th>\n",
       "      <th></th>\n",
       "      <th></th>\n",
       "      <th></th>\n",
       "      <th></th>\n",
       "      <th></th>\n",
       "      <th></th>\n",
       "    </tr>\n",
       "  </thead>\n",
       "  <tbody>\n",
       "    <tr>\n",
       "      <th>2</th>\n",
       "      <td>7.180653</td>\n",
       "      <td>5.230309</td>\n",
       "      <td>0.249321</td>\n",
       "      <td>1.347620</td>\n",
       "      <td>1.482478</td>\n",
       "      <td>0.531371</td>\n",
       "      <td>1.481593</td>\n",
       "      <td>2.691455</td>\n",
       "      <td>0.866868</td>\n",
       "      <td>1.341231</td>\n",
       "      <td>...</td>\n",
       "      <td>0.012226</td>\n",
       "      <td>0.012111</td>\n",
       "      <td>5.758890</td>\n",
       "      <td>0.459473</td>\n",
       "      <td>0.085629</td>\n",
       "      <td>0.071289</td>\n",
       "      <td>0.000000</td>\n",
       "      <td>2.089872</td>\n",
       "      <td>0.061448</td>\n",
       "      <td>Hip-Hop</td>\n",
       "    </tr>\n",
       "    <tr>\n",
       "      <th>3</th>\n",
       "      <td>1.888963</td>\n",
       "      <td>0.760539</td>\n",
       "      <td>0.345297</td>\n",
       "      <td>2.295201</td>\n",
       "      <td>1.654031</td>\n",
       "      <td>0.067592</td>\n",
       "      <td>1.366848</td>\n",
       "      <td>1.054094</td>\n",
       "      <td>0.108103</td>\n",
       "      <td>0.619185</td>\n",
       "      <td>...</td>\n",
       "      <td>0.014212</td>\n",
       "      <td>0.017740</td>\n",
       "      <td>2.824694</td>\n",
       "      <td>0.466309</td>\n",
       "      <td>0.084578</td>\n",
       "      <td>0.063965</td>\n",
       "      <td>0.000000</td>\n",
       "      <td>1.716724</td>\n",
       "      <td>0.069330</td>\n",
       "      <td>Hip-Hop</td>\n",
       "    </tr>\n",
       "    <tr>\n",
       "      <th>5</th>\n",
       "      <td>0.527563</td>\n",
       "      <td>-0.077654</td>\n",
       "      <td>-0.279610</td>\n",
       "      <td>0.685883</td>\n",
       "      <td>1.937570</td>\n",
       "      <td>0.880839</td>\n",
       "      <td>-0.923192</td>\n",
       "      <td>-0.927232</td>\n",
       "      <td>0.666617</td>\n",
       "      <td>1.038546</td>\n",
       "      <td>...</td>\n",
       "      <td>0.012691</td>\n",
       "      <td>0.014759</td>\n",
       "      <td>6.808415</td>\n",
       "      <td>0.375000</td>\n",
       "      <td>0.053114</td>\n",
       "      <td>0.041504</td>\n",
       "      <td>0.000000</td>\n",
       "      <td>2.193303</td>\n",
       "      <td>0.044861</td>\n",
       "      <td>Hip-Hop</td>\n",
       "    </tr>\n",
       "    <tr>\n",
       "      <th>10</th>\n",
       "      <td>3.702245</td>\n",
       "      <td>-0.291193</td>\n",
       "      <td>2.196742</td>\n",
       "      <td>-0.234449</td>\n",
       "      <td>1.367364</td>\n",
       "      <td>0.998411</td>\n",
       "      <td>1.770694</td>\n",
       "      <td>1.604566</td>\n",
       "      <td>0.521217</td>\n",
       "      <td>1.982386</td>\n",
       "      <td>...</td>\n",
       "      <td>0.017952</td>\n",
       "      <td>0.013921</td>\n",
       "      <td>21.434212</td>\n",
       "      <td>0.452148</td>\n",
       "      <td>0.077515</td>\n",
       "      <td>0.071777</td>\n",
       "      <td>0.000000</td>\n",
       "      <td>3.542325</td>\n",
       "      <td>0.040800</td>\n",
       "      <td>Pop</td>\n",
       "    </tr>\n",
       "    <tr>\n",
       "      <th>20</th>\n",
       "      <td>-0.193837</td>\n",
       "      <td>-0.198527</td>\n",
       "      <td>0.201546</td>\n",
       "      <td>0.258556</td>\n",
       "      <td>0.775204</td>\n",
       "      <td>0.084794</td>\n",
       "      <td>-0.289294</td>\n",
       "      <td>-0.816410</td>\n",
       "      <td>0.043851</td>\n",
       "      <td>-0.804761</td>\n",
       "      <td>...</td>\n",
       "      <td>0.022492</td>\n",
       "      <td>0.021355</td>\n",
       "      <td>16.669037</td>\n",
       "      <td>0.469727</td>\n",
       "      <td>0.047225</td>\n",
       "      <td>0.040039</td>\n",
       "      <td>0.000977</td>\n",
       "      <td>3.189831</td>\n",
       "      <td>0.030993</td>\n",
       "      <td>NaN</td>\n",
       "    </tr>\n",
       "  </tbody>\n",
       "</table>\n",
       "<p>5 rows × 519 columns</p>\n",
       "</div>"
      ],
      "text/plain": [
       "          (chroma_cens, kurtosis, 01)  (chroma_cens, kurtosis, 02)  \\\n",
       "track_id                                                             \n",
       "2                            7.180653                     5.230309   \n",
       "3                            1.888963                     0.760539   \n",
       "5                            0.527563                    -0.077654   \n",
       "10                           3.702245                    -0.291193   \n",
       "20                          -0.193837                    -0.198527   \n",
       "\n",
       "          (chroma_cens, kurtosis, 03)  (chroma_cens, kurtosis, 04)  \\\n",
       "track_id                                                             \n",
       "2                            0.249321                     1.347620   \n",
       "3                            0.345297                     2.295201   \n",
       "5                           -0.279610                     0.685883   \n",
       "10                           2.196742                    -0.234449   \n",
       "20                           0.201546                     0.258556   \n",
       "\n",
       "          (chroma_cens, kurtosis, 05)  (chroma_cens, kurtosis, 06)  \\\n",
       "track_id                                                             \n",
       "2                            1.482478                     0.531371   \n",
       "3                            1.654031                     0.067592   \n",
       "5                            1.937570                     0.880839   \n",
       "10                           1.367364                     0.998411   \n",
       "20                           0.775204                     0.084794   \n",
       "\n",
       "          (chroma_cens, kurtosis, 07)  (chroma_cens, kurtosis, 08)  \\\n",
       "track_id                                                             \n",
       "2                            1.481593                     2.691455   \n",
       "3                            1.366848                     1.054094   \n",
       "5                           -0.923192                    -0.927232   \n",
       "10                           1.770694                     1.604566   \n",
       "20                          -0.289294                    -0.816410   \n",
       "\n",
       "          (chroma_cens, kurtosis, 09)  (chroma_cens, kurtosis, 10)    ...      \\\n",
       "track_id                                                              ...       \n",
       "2                            0.866868                     1.341231    ...       \n",
       "3                            0.108103                     0.619185    ...       \n",
       "5                            0.666617                     1.038546    ...       \n",
       "10                           0.521217                     1.982386    ...       \n",
       "20                           0.043851                    -0.804761    ...       \n",
       "\n",
       "          (tonnetz, std, 05)  (tonnetz, std, 06)  (zcr, kurtosis, 01)  \\\n",
       "track_id                                                                \n",
       "2                   0.012226            0.012111             5.758890   \n",
       "3                   0.014212            0.017740             2.824694   \n",
       "5                   0.012691            0.014759             6.808415   \n",
       "10                  0.017952            0.013921            21.434212   \n",
       "20                  0.022492            0.021355            16.669037   \n",
       "\n",
       "          (zcr, max, 01)  (zcr, mean, 01)  (zcr, median, 01)  (zcr, min, 01)  \\\n",
       "track_id                                                                       \n",
       "2               0.459473         0.085629           0.071289        0.000000   \n",
       "3               0.466309         0.084578           0.063965        0.000000   \n",
       "5               0.375000         0.053114           0.041504        0.000000   \n",
       "10              0.452148         0.077515           0.071777        0.000000   \n",
       "20              0.469727         0.047225           0.040039        0.000977   \n",
       "\n",
       "          (zcr, skew, 01)  (zcr, std, 01)  genre_top  \n",
       "track_id                                              \n",
       "2                2.089872        0.061448    Hip-Hop  \n",
       "3                1.716724        0.069330    Hip-Hop  \n",
       "5                2.193303        0.044861    Hip-Hop  \n",
       "10               3.542325        0.040800        Pop  \n",
       "20               3.189831        0.030993        NaN  \n",
       "\n",
       "[5 rows x 519 columns]"
      ]
     },
     "execution_count": 43,
     "metadata": {},
     "output_type": "execute_result"
    }
   ],
   "source": [
    "df_features_genre.head()"
   ]
  },
  {
   "cell_type": "code",
   "execution_count": 44,
   "metadata": {
    "ExecuteTime": {
     "end_time": "2018-09-11T23:56:12.814540Z",
     "start_time": "2018-09-11T23:56:12.740753Z"
    }
   },
   "outputs": [],
   "source": [
    "df_features_genre.dropna(subset=[\"genre_top\"], inplace=True)"
   ]
  },
  {
   "cell_type": "code",
   "execution_count": 45,
   "metadata": {
    "ExecuteTime": {
     "end_time": "2018-09-11T23:56:38.665852Z",
     "start_time": "2018-09-11T23:56:12.816044Z"
    }
   },
   "outputs": [],
   "source": [
    "df_features_genre.to_csv(\"features_genre_6.csv\")"
   ]
  },
  {
   "cell_type": "code",
   "execution_count": null,
   "metadata": {},
   "outputs": [],
   "source": []
  },
  {
   "cell_type": "code",
   "execution_count": null,
   "metadata": {},
   "outputs": [],
   "source": []
  }
 ],
 "metadata": {
  "kernelspec": {
   "display_name": "Python 3",
   "language": "python",
   "name": "python3"
  },
  "language_info": {
   "codemirror_mode": {
    "name": "ipython",
    "version": 3
   },
   "file_extension": ".py",
   "mimetype": "text/x-python",
   "name": "python",
   "nbconvert_exporter": "python",
   "pygments_lexer": "ipython3",
   "version": "3.6.4"
  },
  "varInspector": {
   "cols": {
    "lenName": 16,
    "lenType": 16,
    "lenVar": 40
   },
   "kernels_config": {
    "python": {
     "delete_cmd_postfix": "",
     "delete_cmd_prefix": "del ",
     "library": "var_list.py",
     "varRefreshCmd": "print(var_dic_list())"
    },
    "r": {
     "delete_cmd_postfix": ") ",
     "delete_cmd_prefix": "rm(",
     "library": "var_list.r",
     "varRefreshCmd": "cat(var_dic_list()) "
    }
   },
   "types_to_exclude": [
    "module",
    "function",
    "builtin_function_or_method",
    "instance",
    "_Feature"
   ],
   "window_display": false
  }
 },
 "nbformat": 4,
 "nbformat_minor": 2
}
